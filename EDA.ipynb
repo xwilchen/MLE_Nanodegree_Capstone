{
 "cells": [
  {
   "cell_type": "code",
   "execution_count": 76,
   "metadata": {},
   "outputs": [],
   "source": [
    "import numpy as np\n",
    "import pandas as pd\n",
    "\n",
    "import os\n",
    "\n",
    "import matplotlib.pyplot as plt\n",
    "import seaborn as sns\n"
   ]
  },
  {
   "cell_type": "code",
   "execution_count": 50,
   "metadata": {},
   "outputs": [],
   "source": [
    "pd.set_option('display.max_columns', 40)"
   ]
  },
  {
   "cell_type": "markdown",
   "metadata": {},
   "source": [
    "Pandas cannot handel 6G data while simply reading it.\n",
    "There are four solutions I can think of:\n",
    "1. reading only a few columns and analyze at once. However, calculation such as correlation might be a problem in the future even I successfully read in the data.\n",
    "2. specify each dtype since default dtype takes more memories. However it might have future problem asa point 1.\n",
    "3. load data in as matrix\n",
    "4. use spark\n",
    "\n",
    "Of all the solutioins above, I will try second method first just to test if I can load in the data this way and I am just so familiar analyzing data using pandas, can't give it up so quick without giving it a shot.\n",
    "However, I think it makes more sense to use spark for following reasons:\n",
    "1. It can ba a lot faster when doing calculation.\n",
    "2. The dataset I have only cover 7 days of behavoior data, In the real world setting, I think this type of data is the classic \"big data\" people are talking all the time. And spark is designed for handling this type of data! \n",
    "3. Because the reason in bullet point 2, even I am not dealing with sreaming data, It is better to showcase I have this skillset to the employers."
   ]
  },
  {
   "cell_type": "markdown",
   "metadata": {},
   "source": [
    "# Load Data"
   ]
  },
  {
   "cell_type": "code",
   "execution_count": 58,
   "metadata": {},
   "outputs": [],
   "source": [
    "from pyspark.sql import SparkSession\n",
    "from pyspark.sql import functions as F\n",
    "spark = SparkSession \\\n",
    "    .builder \\\n",
    "    .appName(\"EDA\") \\\n",
    "    .getOrCreate()"
   ]
  },
  {
   "cell_type": "code",
   "execution_count": 3,
   "metadata": {},
   "outputs": [
    {
     "data": {
      "text/plain": [
       "[('spark.app.id', 'local-1599752070214'),\n",
       " ('spark.driver.port', '38623'),\n",
       " ('spark.rdd.compress', 'True'),\n",
       " ('spark.serializer.objectStreamReset', '100'),\n",
       " ('spark.master', 'local[*]'),\n",
       " ('spark.submit.pyFiles', ''),\n",
       " ('spark.executor.id', 'driver'),\n",
       " ('spark.app.name', 'EDA'),\n",
       " ('spark.submit.deployMode', 'client'),\n",
       " ('spark.ui.showConsoleProgress', 'true'),\n",
       " ('spark.driver.host', '192.168.2.162')]"
      ]
     },
     "execution_count": 3,
     "metadata": {},
     "output_type": "execute_result"
    }
   ],
   "source": [
    "spark.sparkContext.getConf().getAll()"
   ]
  },
  {
   "cell_type": "code",
   "execution_count": 4,
   "metadata": {},
   "outputs": [],
   "source": [
    "data_dir = \"../MLE_Project_Data\"\n",
    "data_file_name = \"train_data.csv\"\n",
    "data_path = os.path.join(data_dir,data_file_name)\n",
    "\n",
    "raw_df = spark.read.load(data_path,format=\"csv\",delimiter=\"|\",header=True)"
   ]
  },
  {
   "cell_type": "markdown",
   "metadata": {},
   "source": [
    "# Examine Data"
   ]
  },
  {
   "cell_type": "code",
   "execution_count": 41,
   "metadata": {},
   "outputs": [
    {
     "name": "stdout",
     "output_type": "stream",
     "text": [
      "The shape: (41907133, 36)\n"
     ]
    }
   ],
   "source": [
    "raw_df_shape = (raw_df.count(),len(raw_df.columns))\n",
    "print(f\"The shape: {raw_df_shape}\")"
   ]
  },
  {
   "cell_type": "code",
   "execution_count": 51,
   "metadata": {},
   "outputs": [
    {
     "data": {
      "text/html": [
       "<div>\n",
       "<style scoped>\n",
       "    .dataframe tbody tr th:only-of-type {\n",
       "        vertical-align: middle;\n",
       "    }\n",
       "\n",
       "    .dataframe tbody tr th {\n",
       "        vertical-align: top;\n",
       "    }\n",
       "\n",
       "    .dataframe thead th {\n",
       "        text-align: right;\n",
       "    }\n",
       "</style>\n",
       "<table border=\"1\" class=\"dataframe\">\n",
       "  <thead>\n",
       "    <tr style=\"text-align: right;\">\n",
       "      <th></th>\n",
       "      <th>label</th>\n",
       "      <th>uid</th>\n",
       "      <th>task_id</th>\n",
       "      <th>adv_id</th>\n",
       "      <th>creat_type_cd</th>\n",
       "      <th>adv_prim_id</th>\n",
       "      <th>dev_id</th>\n",
       "      <th>inter_type_cd</th>\n",
       "      <th>slot_id</th>\n",
       "      <th>spread_app_id</th>\n",
       "      <th>tags</th>\n",
       "      <th>app_first_class</th>\n",
       "      <th>app_second_class</th>\n",
       "      <th>age</th>\n",
       "      <th>city</th>\n",
       "      <th>city_rank</th>\n",
       "      <th>device_name</th>\n",
       "      <th>device_size</th>\n",
       "      <th>career</th>\n",
       "      <th>gender</th>\n",
       "      <th>net_type</th>\n",
       "      <th>residence</th>\n",
       "      <th>his_app_size</th>\n",
       "      <th>his_on_shelf_time</th>\n",
       "      <th>app_score</th>\n",
       "      <th>emui_dev</th>\n",
       "      <th>list_time</th>\n",
       "      <th>device_price</th>\n",
       "      <th>up_life_duration</th>\n",
       "      <th>up_membership_grade</th>\n",
       "      <th>membership_life_duration</th>\n",
       "      <th>consume_purchase</th>\n",
       "      <th>communication_onlinerate</th>\n",
       "      <th>communication_avgonline_30d</th>\n",
       "      <th>indu_name</th>\n",
       "      <th>pt_d</th>\n",
       "    </tr>\n",
       "  </thead>\n",
       "  <tbody>\n",
       "    <tr>\n",
       "      <th>0</th>\n",
       "      <td>0</td>\n",
       "      <td>1638254</td>\n",
       "      <td>2112</td>\n",
       "      <td>6869</td>\n",
       "      <td>7</td>\n",
       "      <td>207</td>\n",
       "      <td>17</td>\n",
       "      <td>5</td>\n",
       "      <td>11</td>\n",
       "      <td>13</td>\n",
       "      <td>37</td>\n",
       "      <td>4</td>\n",
       "      <td>21</td>\n",
       "      <td>5</td>\n",
       "      <td>437</td>\n",
       "      <td>5</td>\n",
       "      <td>37</td>\n",
       "      <td>162</td>\n",
       "      <td>4</td>\n",
       "      <td>2</td>\n",
       "      <td>2</td>\n",
       "      <td>28</td>\n",
       "      <td>4</td>\n",
       "      <td>2</td>\n",
       "      <td>2</td>\n",
       "      <td>20</td>\n",
       "      <td>4</td>\n",
       "      <td>4</td>\n",
       "      <td>20</td>\n",
       "      <td>-1</td>\n",
       "      <td>-1</td>\n",
       "      <td>2</td>\n",
       "      <td>0^1^2^3^4^5^6^7^8^9^10^11^12^13^14^15^16^17^18...</td>\n",
       "      <td>12</td>\n",
       "      <td>17</td>\n",
       "      <td>1</td>\n",
       "    </tr>\n",
       "    <tr>\n",
       "      <th>1</th>\n",
       "      <td>0</td>\n",
       "      <td>1161786</td>\n",
       "      <td>3104</td>\n",
       "      <td>3247</td>\n",
       "      <td>7</td>\n",
       "      <td>183</td>\n",
       "      <td>29</td>\n",
       "      <td>5</td>\n",
       "      <td>17</td>\n",
       "      <td>86</td>\n",
       "      <td>37</td>\n",
       "      <td>4</td>\n",
       "      <td>21</td>\n",
       "      <td>4</td>\n",
       "      <td>370</td>\n",
       "      <td>5</td>\n",
       "      <td>59</td>\n",
       "      <td>141</td>\n",
       "      <td>9</td>\n",
       "      <td>4</td>\n",
       "      <td>2</td>\n",
       "      <td>26</td>\n",
       "      <td>4</td>\n",
       "      <td>3</td>\n",
       "      <td>2</td>\n",
       "      <td>20</td>\n",
       "      <td>4</td>\n",
       "      <td>4</td>\n",
       "      <td>18</td>\n",
       "      <td>-1</td>\n",
       "      <td>-1</td>\n",
       "      <td>2</td>\n",
       "      <td>3^4^5^6^7^8^9^10^11^12^13^14^15^16^17^18^19^20...</td>\n",
       "      <td>12</td>\n",
       "      <td>17</td>\n",
       "      <td>1</td>\n",
       "    </tr>\n",
       "    <tr>\n",
       "      <th>2</th>\n",
       "      <td>0</td>\n",
       "      <td>1814783</td>\n",
       "      <td>5890</td>\n",
       "      <td>4183</td>\n",
       "      <td>7</td>\n",
       "      <td>178</td>\n",
       "      <td>17</td>\n",
       "      <td>5</td>\n",
       "      <td>11</td>\n",
       "      <td>70</td>\n",
       "      <td>39</td>\n",
       "      <td>4</td>\n",
       "      <td>17</td>\n",
       "      <td>5</td>\n",
       "      <td>306</td>\n",
       "      <td>3</td>\n",
       "      <td>81</td>\n",
       "      <td>162</td>\n",
       "      <td>4</td>\n",
       "      <td>2</td>\n",
       "      <td>2</td>\n",
       "      <td>21</td>\n",
       "      <td>2</td>\n",
       "      <td>3</td>\n",
       "      <td>2</td>\n",
       "      <td>20</td>\n",
       "      <td>4</td>\n",
       "      <td>5</td>\n",
       "      <td>20</td>\n",
       "      <td>-1</td>\n",
       "      <td>-1</td>\n",
       "      <td>2</td>\n",
       "      <td>0^1^2^3^4^5^6^7^8^9^10^11^12^13^14^15^16^17^18...</td>\n",
       "      <td>11</td>\n",
       "      <td>36</td>\n",
       "      <td>1</td>\n",
       "    </tr>\n",
       "    <tr>\n",
       "      <th>3</th>\n",
       "      <td>0</td>\n",
       "      <td>1468996</td>\n",
       "      <td>1993</td>\n",
       "      <td>5405</td>\n",
       "      <td>7</td>\n",
       "      <td>207</td>\n",
       "      <td>17</td>\n",
       "      <td>5</td>\n",
       "      <td>21</td>\n",
       "      <td>13</td>\n",
       "      <td>37</td>\n",
       "      <td>4</td>\n",
       "      <td>21</td>\n",
       "      <td>5</td>\n",
       "      <td>275</td>\n",
       "      <td>5</td>\n",
       "      <td>88</td>\n",
       "      <td>180</td>\n",
       "      <td>4</td>\n",
       "      <td>2</td>\n",
       "      <td>2</td>\n",
       "      <td>23</td>\n",
       "      <td>4</td>\n",
       "      <td>2</td>\n",
       "      <td>2</td>\n",
       "      <td>20</td>\n",
       "      <td>7</td>\n",
       "      <td>3</td>\n",
       "      <td>-1</td>\n",
       "      <td>-1</td>\n",
       "      <td>-1</td>\n",
       "      <td>2</td>\n",
       "      <td>5^6^7^8^9^10^11^12^13^14^15^16^17^18^19^20^21^...</td>\n",
       "      <td>11</td>\n",
       "      <td>17</td>\n",
       "      <td>1</td>\n",
       "    </tr>\n",
       "    <tr>\n",
       "      <th>4</th>\n",
       "      <td>0</td>\n",
       "      <td>2164010</td>\n",
       "      <td>5439</td>\n",
       "      <td>4677</td>\n",
       "      <td>2</td>\n",
       "      <td>138</td>\n",
       "      <td>24</td>\n",
       "      <td>5</td>\n",
       "      <td>12</td>\n",
       "      <td>33</td>\n",
       "      <td>15</td>\n",
       "      <td>4</td>\n",
       "      <td>15</td>\n",
       "      <td>5</td>\n",
       "      <td>412</td>\n",
       "      <td>3</td>\n",
       "      <td>88</td>\n",
       "      <td>180</td>\n",
       "      <td>4</td>\n",
       "      <td>2</td>\n",
       "      <td>2</td>\n",
       "      <td>20</td>\n",
       "      <td>16</td>\n",
       "      <td>3</td>\n",
       "      <td>2</td>\n",
       "      <td>20</td>\n",
       "      <td>7</td>\n",
       "      <td>3</td>\n",
       "      <td>-1</td>\n",
       "      <td>-1</td>\n",
       "      <td>-1</td>\n",
       "      <td>2</td>\n",
       "      <td>2^3^4^5^6^7^8^9^10^11^12^13^14^15^16^17^18^19^...</td>\n",
       "      <td>11</td>\n",
       "      <td>20</td>\n",
       "      <td>1</td>\n",
       "    </tr>\n",
       "  </tbody>\n",
       "</table>\n",
       "</div>"
      ],
      "text/plain": [
       "  label      uid task_id adv_id creat_type_cd adv_prim_id dev_id  \\\n",
       "0     0  1638254    2112   6869             7         207     17   \n",
       "1     0  1161786    3104   3247             7         183     29   \n",
       "2     0  1814783    5890   4183             7         178     17   \n",
       "3     0  1468996    1993   5405             7         207     17   \n",
       "4     0  2164010    5439   4677             2         138     24   \n",
       "\n",
       "  inter_type_cd slot_id spread_app_id tags app_first_class app_second_class  \\\n",
       "0             5      11            13   37               4               21   \n",
       "1             5      17            86   37               4               21   \n",
       "2             5      11            70   39               4               17   \n",
       "3             5      21            13   37               4               21   \n",
       "4             5      12            33   15               4               15   \n",
       "\n",
       "  age city city_rank device_name device_size career gender net_type residence  \\\n",
       "0   5  437         5          37         162      4      2        2        28   \n",
       "1   4  370         5          59         141      9      4        2        26   \n",
       "2   5  306         3          81         162      4      2        2        21   \n",
       "3   5  275         5          88         180      4      2        2        23   \n",
       "4   5  412         3          88         180      4      2        2        20   \n",
       "\n",
       "  his_app_size his_on_shelf_time app_score emui_dev list_time device_price  \\\n",
       "0            4                 2         2       20         4            4   \n",
       "1            4                 3         2       20         4            4   \n",
       "2            2                 3         2       20         4            5   \n",
       "3            4                 2         2       20         7            3   \n",
       "4           16                 3         2       20         7            3   \n",
       "\n",
       "  up_life_duration up_membership_grade membership_life_duration  \\\n",
       "0               20                  -1                       -1   \n",
       "1               18                  -1                       -1   \n",
       "2               20                  -1                       -1   \n",
       "3               -1                  -1                       -1   \n",
       "4               -1                  -1                       -1   \n",
       "\n",
       "  consume_purchase                           communication_onlinerate  \\\n",
       "0                2  0^1^2^3^4^5^6^7^8^9^10^11^12^13^14^15^16^17^18...   \n",
       "1                2  3^4^5^6^7^8^9^10^11^12^13^14^15^16^17^18^19^20...   \n",
       "2                2  0^1^2^3^4^5^6^7^8^9^10^11^12^13^14^15^16^17^18...   \n",
       "3                2  5^6^7^8^9^10^11^12^13^14^15^16^17^18^19^20^21^...   \n",
       "4                2  2^3^4^5^6^7^8^9^10^11^12^13^14^15^16^17^18^19^...   \n",
       "\n",
       "  communication_avgonline_30d indu_name pt_d  \n",
       "0                          12        17    1  \n",
       "1                          12        17    1  \n",
       "2                          11        36    1  \n",
       "3                          11        17    1  \n",
       "4                          11        20    1  "
      ]
     },
     "execution_count": 51,
     "metadata": {},
     "output_type": "execute_result"
    }
   ],
   "source": [
    "# head\n",
    "raw_df_head = [row.asDict() for row in raw_df.head(5)]\n",
    "pd.DataFrame(raw_df_head)"
   ]
  },
  {
   "cell_type": "code",
   "execution_count": 52,
   "metadata": {},
   "outputs": [
    {
     "data": {
      "text/html": [
       "<div>\n",
       "<style scoped>\n",
       "    .dataframe tbody tr th:only-of-type {\n",
       "        vertical-align: middle;\n",
       "    }\n",
       "\n",
       "    .dataframe tbody tr th {\n",
       "        vertical-align: top;\n",
       "    }\n",
       "\n",
       "    .dataframe thead th {\n",
       "        text-align: right;\n",
       "    }\n",
       "</style>\n",
       "<table border=\"1\" class=\"dataframe\">\n",
       "  <thead>\n",
       "    <tr style=\"text-align: right;\">\n",
       "      <th></th>\n",
       "      <th>label</th>\n",
       "      <th>uid</th>\n",
       "      <th>task_id</th>\n",
       "      <th>adv_id</th>\n",
       "      <th>creat_type_cd</th>\n",
       "      <th>adv_prim_id</th>\n",
       "      <th>dev_id</th>\n",
       "      <th>inter_type_cd</th>\n",
       "      <th>slot_id</th>\n",
       "      <th>spread_app_id</th>\n",
       "      <th>tags</th>\n",
       "      <th>app_first_class</th>\n",
       "      <th>app_second_class</th>\n",
       "      <th>age</th>\n",
       "      <th>city</th>\n",
       "      <th>city_rank</th>\n",
       "      <th>device_name</th>\n",
       "      <th>device_size</th>\n",
       "      <th>career</th>\n",
       "      <th>gender</th>\n",
       "      <th>net_type</th>\n",
       "      <th>residence</th>\n",
       "      <th>his_app_size</th>\n",
       "      <th>his_on_shelf_time</th>\n",
       "      <th>app_score</th>\n",
       "      <th>emui_dev</th>\n",
       "      <th>list_time</th>\n",
       "      <th>device_price</th>\n",
       "      <th>up_life_duration</th>\n",
       "      <th>up_membership_grade</th>\n",
       "      <th>membership_life_duration</th>\n",
       "      <th>consume_purchase</th>\n",
       "      <th>communication_onlinerate</th>\n",
       "      <th>communication_avgonline_30d</th>\n",
       "      <th>indu_name</th>\n",
       "      <th>pt_d</th>\n",
       "    </tr>\n",
       "  </thead>\n",
       "  <tbody>\n",
       "    <tr>\n",
       "      <th>0</th>\n",
       "      <td>0</td>\n",
       "      <td>2154906</td>\n",
       "      <td>5275</td>\n",
       "      <td>5473</td>\n",
       "      <td>7</td>\n",
       "      <td>156</td>\n",
       "      <td>56</td>\n",
       "      <td>5</td>\n",
       "      <td>13</td>\n",
       "      <td>58</td>\n",
       "      <td>37</td>\n",
       "      <td>4</td>\n",
       "      <td>21</td>\n",
       "      <td>6</td>\n",
       "      <td>255</td>\n",
       "      <td>3</td>\n",
       "      <td>87</td>\n",
       "      <td>117</td>\n",
       "      <td>9</td>\n",
       "      <td>2</td>\n",
       "      <td>2</td>\n",
       "      <td>18</td>\n",
       "      <td>14</td>\n",
       "      <td>3</td>\n",
       "      <td>2</td>\n",
       "      <td>28</td>\n",
       "      <td>5</td>\n",
       "      <td>4</td>\n",
       "      <td>18</td>\n",
       "      <td>-1</td>\n",
       "      <td>-1</td>\n",
       "      <td>2</td>\n",
       "      <td>1^2^3^4^5^6^7^8^9^10^11^12^13^14^15^16^17^18^1...</td>\n",
       "      <td>13</td>\n",
       "      <td>17</td>\n",
       "      <td>7</td>\n",
       "    </tr>\n",
       "    <tr>\n",
       "      <th>1</th>\n",
       "      <td>0</td>\n",
       "      <td>1466996</td>\n",
       "      <td>5952</td>\n",
       "      <td>4158</td>\n",
       "      <td>7</td>\n",
       "      <td>207</td>\n",
       "      <td>17</td>\n",
       "      <td>5</td>\n",
       "      <td>17</td>\n",
       "      <td>13</td>\n",
       "      <td>37</td>\n",
       "      <td>4</td>\n",
       "      <td>21</td>\n",
       "      <td>5</td>\n",
       "      <td>335</td>\n",
       "      <td>3</td>\n",
       "      <td>75</td>\n",
       "      <td>141</td>\n",
       "      <td>4</td>\n",
       "      <td>4</td>\n",
       "      <td>2</td>\n",
       "      <td>38</td>\n",
       "      <td>4</td>\n",
       "      <td>3</td>\n",
       "      <td>2</td>\n",
       "      <td>20</td>\n",
       "      <td>8</td>\n",
       "      <td>5</td>\n",
       "      <td>18</td>\n",
       "      <td>-1</td>\n",
       "      <td>-1</td>\n",
       "      <td>2</td>\n",
       "      <td>0^1^2^3^4^5^6^7^8^9^10^11^12^13^14^15^16^17^18...</td>\n",
       "      <td>12</td>\n",
       "      <td>17</td>\n",
       "      <td>7</td>\n",
       "    </tr>\n",
       "    <tr>\n",
       "      <th>2</th>\n",
       "      <td>0</td>\n",
       "      <td>1930657</td>\n",
       "      <td>2178</td>\n",
       "      <td>1860</td>\n",
       "      <td>2</td>\n",
       "      <td>142</td>\n",
       "      <td>60</td>\n",
       "      <td>5</td>\n",
       "      <td>12</td>\n",
       "      <td>80</td>\n",
       "      <td>41</td>\n",
       "      <td>2</td>\n",
       "      <td>26</td>\n",
       "      <td>5</td>\n",
       "      <td>140</td>\n",
       "      <td>4</td>\n",
       "      <td>29</td>\n",
       "      <td>141</td>\n",
       "      <td>10</td>\n",
       "      <td>2</td>\n",
       "      <td>3</td>\n",
       "      <td>30</td>\n",
       "      <td>-1</td>\n",
       "      <td>-1</td>\n",
       "      <td>1</td>\n",
       "      <td>20</td>\n",
       "      <td>9</td>\n",
       "      <td>3</td>\n",
       "      <td>-1</td>\n",
       "      <td>-1</td>\n",
       "      <td>-1</td>\n",
       "      <td>2</td>\n",
       "      <td>6^7^8^9^10^11^12^13^14^15^16^17^18^19^20^21^22^23</td>\n",
       "      <td>11</td>\n",
       "      <td>24</td>\n",
       "      <td>7</td>\n",
       "    </tr>\n",
       "    <tr>\n",
       "      <th>3</th>\n",
       "      <td>0</td>\n",
       "      <td>1550398</td>\n",
       "      <td>1976</td>\n",
       "      <td>6739</td>\n",
       "      <td>7</td>\n",
       "      <td>154</td>\n",
       "      <td>56</td>\n",
       "      <td>5</td>\n",
       "      <td>11</td>\n",
       "      <td>31</td>\n",
       "      <td>40</td>\n",
       "      <td>4</td>\n",
       "      <td>25</td>\n",
       "      <td>5</td>\n",
       "      <td>275</td>\n",
       "      <td>5</td>\n",
       "      <td>38</td>\n",
       "      <td>162</td>\n",
       "      <td>3</td>\n",
       "      <td>2</td>\n",
       "      <td>2</td>\n",
       "      <td>23</td>\n",
       "      <td>13</td>\n",
       "      <td>3</td>\n",
       "      <td>2</td>\n",
       "      <td>20</td>\n",
       "      <td>4</td>\n",
       "      <td>4</td>\n",
       "      <td>20</td>\n",
       "      <td>1</td>\n",
       "      <td>-1</td>\n",
       "      <td>2</td>\n",
       "      <td>3^4^5^6^7^8^9^10^11^12^13^14^15^16^17^18^19^20...</td>\n",
       "      <td>11</td>\n",
       "      <td>17</td>\n",
       "      <td>7</td>\n",
       "    </tr>\n",
       "    <tr>\n",
       "      <th>4</th>\n",
       "      <td>0</td>\n",
       "      <td>1400807</td>\n",
       "      <td>3869</td>\n",
       "      <td>6751</td>\n",
       "      <td>7</td>\n",
       "      <td>130</td>\n",
       "      <td>30</td>\n",
       "      <td>5</td>\n",
       "      <td>13</td>\n",
       "      <td>28</td>\n",
       "      <td>39</td>\n",
       "      <td>4</td>\n",
       "      <td>17</td>\n",
       "      <td>4</td>\n",
       "      <td>406</td>\n",
       "      <td>5</td>\n",
       "      <td>65</td>\n",
       "      <td>141</td>\n",
       "      <td>4</td>\n",
       "      <td>2</td>\n",
       "      <td>2</td>\n",
       "      <td>21</td>\n",
       "      <td>6</td>\n",
       "      <td>2</td>\n",
       "      <td>2</td>\n",
       "      <td>14</td>\n",
       "      <td>10</td>\n",
       "      <td>2</td>\n",
       "      <td>20</td>\n",
       "      <td>-1</td>\n",
       "      <td>-1</td>\n",
       "      <td>2</td>\n",
       "      <td>7^8^9^10^11^12^13^14^15^16^17^18^19^20^21^22^23</td>\n",
       "      <td>10</td>\n",
       "      <td>36</td>\n",
       "      <td>7</td>\n",
       "    </tr>\n",
       "  </tbody>\n",
       "</table>\n",
       "</div>"
      ],
      "text/plain": [
       "  label      uid task_id adv_id creat_type_cd adv_prim_id dev_id  \\\n",
       "0     0  2154906    5275   5473             7         156     56   \n",
       "1     0  1466996    5952   4158             7         207     17   \n",
       "2     0  1930657    2178   1860             2         142     60   \n",
       "3     0  1550398    1976   6739             7         154     56   \n",
       "4     0  1400807    3869   6751             7         130     30   \n",
       "\n",
       "  inter_type_cd slot_id spread_app_id tags app_first_class app_second_class  \\\n",
       "0             5      13            58   37               4               21   \n",
       "1             5      17            13   37               4               21   \n",
       "2             5      12            80   41               2               26   \n",
       "3             5      11            31   40               4               25   \n",
       "4             5      13            28   39               4               17   \n",
       "\n",
       "  age city city_rank device_name device_size career gender net_type residence  \\\n",
       "0   6  255         3          87         117      9      2        2        18   \n",
       "1   5  335         3          75         141      4      4        2        38   \n",
       "2   5  140         4          29         141     10      2        3        30   \n",
       "3   5  275         5          38         162      3      2        2        23   \n",
       "4   4  406         5          65         141      4      2        2        21   \n",
       "\n",
       "  his_app_size his_on_shelf_time app_score emui_dev list_time device_price  \\\n",
       "0           14                 3         2       28         5            4   \n",
       "1            4                 3         2       20         8            5   \n",
       "2           -1                -1         1       20         9            3   \n",
       "3           13                 3         2       20         4            4   \n",
       "4            6                 2         2       14        10            2   \n",
       "\n",
       "  up_life_duration up_membership_grade membership_life_duration  \\\n",
       "0               18                  -1                       -1   \n",
       "1               18                  -1                       -1   \n",
       "2               -1                  -1                       -1   \n",
       "3               20                   1                       -1   \n",
       "4               20                  -1                       -1   \n",
       "\n",
       "  consume_purchase                           communication_onlinerate  \\\n",
       "0                2  1^2^3^4^5^6^7^8^9^10^11^12^13^14^15^16^17^18^1...   \n",
       "1                2  0^1^2^3^4^5^6^7^8^9^10^11^12^13^14^15^16^17^18...   \n",
       "2                2  6^7^8^9^10^11^12^13^14^15^16^17^18^19^20^21^22^23   \n",
       "3                2  3^4^5^6^7^8^9^10^11^12^13^14^15^16^17^18^19^20...   \n",
       "4                2    7^8^9^10^11^12^13^14^15^16^17^18^19^20^21^22^23   \n",
       "\n",
       "  communication_avgonline_30d indu_name pt_d  \n",
       "0                          13        17    7  \n",
       "1                          12        17    7  \n",
       "2                          11        24    7  \n",
       "3                          11        17    7  \n",
       "4                          10        36    7  "
      ]
     },
     "execution_count": 52,
     "metadata": {},
     "output_type": "execute_result"
    }
   ],
   "source": [
    "# tail\n",
    "raw_df_tail = [row.asDict() for row in raw_df.tail(5)]\n",
    "pd.DataFrame(raw_df_tail)"
   ]
  },
  {
   "cell_type": "code",
   "execution_count": 48,
   "metadata": {},
   "outputs": [
    {
     "data": {
      "text/plain": [
       "[StructField(label,StringType,true),\n",
       " StructField(uid,StringType,true),\n",
       " StructField(task_id,StringType,true),\n",
       " StructField(adv_id,StringType,true),\n",
       " StructField(creat_type_cd,StringType,true),\n",
       " StructField(adv_prim_id,StringType,true),\n",
       " StructField(dev_id,StringType,true),\n",
       " StructField(inter_type_cd,StringType,true),\n",
       " StructField(slot_id,StringType,true),\n",
       " StructField(spread_app_id,StringType,true),\n",
       " StructField(tags,StringType,true),\n",
       " StructField(app_first_class,StringType,true),\n",
       " StructField(app_second_class,StringType,true),\n",
       " StructField(age,StringType,true),\n",
       " StructField(city,StringType,true),\n",
       " StructField(city_rank,StringType,true),\n",
       " StructField(device_name,StringType,true),\n",
       " StructField(device_size,StringType,true),\n",
       " StructField(career,StringType,true),\n",
       " StructField(gender,StringType,true),\n",
       " StructField(net_type,StringType,true),\n",
       " StructField(residence,StringType,true),\n",
       " StructField(his_app_size,StringType,true),\n",
       " StructField(his_on_shelf_time,StringType,true),\n",
       " StructField(app_score,StringType,true),\n",
       " StructField(emui_dev,StringType,true),\n",
       " StructField(list_time,StringType,true),\n",
       " StructField(device_price,StringType,true),\n",
       " StructField(up_life_duration,StringType,true),\n",
       " StructField(up_membership_grade,StringType,true),\n",
       " StructField(membership_life_duration,StringType,true),\n",
       " StructField(consume_purchase,StringType,true),\n",
       " StructField(communication_onlinerate,StringType,true),\n",
       " StructField(communication_avgonline_30d,StringType,true),\n",
       " StructField(indu_name,StringType,true),\n",
       " StructField(pt_d,StringType,true)]"
      ]
     },
     "execution_count": 48,
     "metadata": {},
     "output_type": "execute_result"
    }
   ],
   "source": [
    "# dtypes\n",
    "raw_df.schema.fields"
   ]
  },
  {
   "cell_type": "code",
   "execution_count": 53,
   "metadata": {},
   "outputs": [
    {
     "data": {
      "text/plain": [
       "['label',\n",
       " 'uid',\n",
       " 'task_id',\n",
       " 'adv_id',\n",
       " 'creat_type_cd',\n",
       " 'adv_prim_id',\n",
       " 'dev_id',\n",
       " 'inter_type_cd',\n",
       " 'slot_id',\n",
       " 'spread_app_id',\n",
       " 'tags',\n",
       " 'app_first_class',\n",
       " 'app_second_class',\n",
       " 'age',\n",
       " 'city',\n",
       " 'city_rank',\n",
       " 'device_name',\n",
       " 'device_size',\n",
       " 'career',\n",
       " 'gender',\n",
       " 'net_type',\n",
       " 'residence',\n",
       " 'his_app_size',\n",
       " 'his_on_shelf_time',\n",
       " 'app_score',\n",
       " 'emui_dev',\n",
       " 'list_time',\n",
       " 'device_price',\n",
       " 'up_life_duration',\n",
       " 'up_membership_grade',\n",
       " 'membership_life_duration',\n",
       " 'consume_purchase',\n",
       " 'communication_onlinerate',\n",
       " 'communication_avgonline_30d',\n",
       " 'indu_name',\n",
       " 'pt_d']"
      ]
     },
     "execution_count": 53,
     "metadata": {},
     "output_type": "execute_result"
    }
   ],
   "source": [
    "raw_df.columns"
   ]
  },
  {
   "cell_type": "code",
   "execution_count": 61,
   "metadata": {},
   "outputs": [
    {
     "data": {
      "text/html": [
       "<div>\n",
       "<style scoped>\n",
       "    .dataframe tbody tr th:only-of-type {\n",
       "        vertical-align: middle;\n",
       "    }\n",
       "\n",
       "    .dataframe tbody tr th {\n",
       "        vertical-align: top;\n",
       "    }\n",
       "\n",
       "    .dataframe thead th {\n",
       "        text-align: right;\n",
       "    }\n",
       "</style>\n",
       "<table border=\"1\" class=\"dataframe\">\n",
       "  <thead>\n",
       "    <tr style=\"text-align: right;\">\n",
       "      <th>summary</th>\n",
       "      <th>count</th>\n",
       "      <th>mean</th>\n",
       "      <th>stddev</th>\n",
       "      <th>min</th>\n",
       "      <th>max</th>\n",
       "    </tr>\n",
       "  </thead>\n",
       "  <tbody>\n",
       "    <tr>\n",
       "      <th>label</th>\n",
       "      <td>41907133</td>\n",
       "      <td>0.034492648304048856</td>\n",
       "      <td>0.18249083898022259</td>\n",
       "      <td>0</td>\n",
       "      <td>1</td>\n",
       "    </tr>\n",
       "    <tr>\n",
       "      <th>uid</th>\n",
       "      <td>41907133</td>\n",
       "      <td>1618366.5450654665</td>\n",
       "      <td>357389.65521592135</td>\n",
       "      <td>1000001</td>\n",
       "      <td>2237673</td>\n",
       "    </tr>\n",
       "    <tr>\n",
       "      <th>task_id</th>\n",
       "      <td>41907133</td>\n",
       "      <td>3436.3739258660335</td>\n",
       "      <td>1429.9486235761321</td>\n",
       "      <td>1001</td>\n",
       "      <td>5992</td>\n",
       "    </tr>\n",
       "    <tr>\n",
       "      <th>adv_id</th>\n",
       "      <td>41907133</td>\n",
       "      <td>3963.51341013951</td>\n",
       "      <td>1720.5691813375768</td>\n",
       "      <td>1001</td>\n",
       "      <td>7020</td>\n",
       "    </tr>\n",
       "    <tr>\n",
       "      <th>creat_type_cd</th>\n",
       "      <td>41907133</td>\n",
       "      <td>6.490081748135813</td>\n",
       "      <td>1.231181612514361</td>\n",
       "      <td>2</td>\n",
       "      <td>9</td>\n",
       "    </tr>\n",
       "    <tr>\n",
       "      <th>adv_prim_id</th>\n",
       "      <td>41907133</td>\n",
       "      <td>159.31912006483478</td>\n",
       "      <td>30.899225966287723</td>\n",
       "      <td>101</td>\n",
       "      <td>214</td>\n",
       "    </tr>\n",
       "    <tr>\n",
       "      <th>dev_id</th>\n",
       "      <td>41907133</td>\n",
       "      <td>41.59357343772479</td>\n",
       "      <td>17.41486835377897</td>\n",
       "      <td>11</td>\n",
       "      <td>72</td>\n",
       "    </tr>\n",
       "    <tr>\n",
       "      <th>inter_type_cd</th>\n",
       "      <td>41907133</td>\n",
       "      <td>4.646959504483402</td>\n",
       "      <td>0.7103276382288628</td>\n",
       "      <td>2</td>\n",
       "      <td>5</td>\n",
       "    </tr>\n",
       "    <tr>\n",
       "      <th>slot_id</th>\n",
       "      <td>41907133</td>\n",
       "      <td>15.254736109005595</td>\n",
       "      <td>3.167097985067854</td>\n",
       "      <td>11</td>\n",
       "      <td>22</td>\n",
       "    </tr>\n",
       "    <tr>\n",
       "      <th>spread_app_id</th>\n",
       "      <td>41907133</td>\n",
       "      <td>51.9989373646725</td>\n",
       "      <td>25.10112386162042</td>\n",
       "      <td>11</td>\n",
       "      <td>89</td>\n",
       "    </tr>\n",
       "    <tr>\n",
       "      <th>tags</th>\n",
       "      <td>41907133</td>\n",
       "      <td>34.36324749297452</td>\n",
       "      <td>8.154165557587445</td>\n",
       "      <td>11</td>\n",
       "      <td>42</td>\n",
       "    </tr>\n",
       "    <tr>\n",
       "      <th>app_first_class</th>\n",
       "      <td>41907133</td>\n",
       "      <td>3.5649967751313363</td>\n",
       "      <td>0.8217028376391976</td>\n",
       "      <td>2</td>\n",
       "      <td>4</td>\n",
       "    </tr>\n",
       "    <tr>\n",
       "      <th>app_second_class</th>\n",
       "      <td>41907133</td>\n",
       "      <td>22.091261146401973</td>\n",
       "      <td>3.619250695438356</td>\n",
       "      <td>11</td>\n",
       "      <td>29</td>\n",
       "    </tr>\n",
       "    <tr>\n",
       "      <th>age</th>\n",
       "      <td>41907133</td>\n",
       "      <td>5.055212772489113</td>\n",
       "      <td>1.4153192617965202</td>\n",
       "      <td>-1</td>\n",
       "      <td>7</td>\n",
       "    </tr>\n",
       "    <tr>\n",
       "      <th>city</th>\n",
       "      <td>41907133</td>\n",
       "      <td>265.4613547531395</td>\n",
       "      <td>101.43291692447634</td>\n",
       "      <td>101</td>\n",
       "      <td>444</td>\n",
       "    </tr>\n",
       "    <tr>\n",
       "      <th>city_rank</th>\n",
       "      <td>41907133</td>\n",
       "      <td>3.866923060568233</td>\n",
       "      <td>0.908196213682573</td>\n",
       "      <td>2</td>\n",
       "      <td>5</td>\n",
       "    </tr>\n",
       "    <tr>\n",
       "      <th>device_name</th>\n",
       "      <td>41907133</td>\n",
       "      <td>62.610451709975</td>\n",
       "      <td>25.063266031528805</td>\n",
       "      <td>100</td>\n",
       "      <td>99</td>\n",
       "    </tr>\n",
       "    <tr>\n",
       "      <th>device_size</th>\n",
       "      <td>41907133</td>\n",
       "      <td>158.2104430527376</td>\n",
       "      <td>45.07228338655767</td>\n",
       "      <td>101</td>\n",
       "      <td>349</td>\n",
       "    </tr>\n",
       "    <tr>\n",
       "      <th>career</th>\n",
       "      <td>41907133</td>\n",
       "      <td>6.211373586448875</td>\n",
       "      <td>2.4773453826878598</td>\n",
       "      <td>10</td>\n",
       "      <td>9</td>\n",
       "    </tr>\n",
       "    <tr>\n",
       "      <th>gender</th>\n",
       "      <td>41907133</td>\n",
       "      <td>2.45255038086237</td>\n",
       "      <td>0.8294714331999957</td>\n",
       "      <td>2</td>\n",
       "      <td>4</td>\n",
       "    </tr>\n",
       "    <tr>\n",
       "      <th>net_type</th>\n",
       "      <td>41907133</td>\n",
       "      <td>2.2110841130554078</td>\n",
       "      <td>0.42470431343106757</td>\n",
       "      <td>2</td>\n",
       "      <td>6</td>\n",
       "    </tr>\n",
       "    <tr>\n",
       "      <th>residence</th>\n",
       "      <td>41907133</td>\n",
       "      <td>28.401120162526986</td>\n",
       "      <td>10.576117921626116</td>\n",
       "      <td>11</td>\n",
       "      <td>46</td>\n",
       "    </tr>\n",
       "    <tr>\n",
       "      <th>his_app_size</th>\n",
       "      <td>41907133</td>\n",
       "      <td>6.5524609378551375</td>\n",
       "      <td>5.898097528503572</td>\n",
       "      <td>-1</td>\n",
       "      <td>9</td>\n",
       "    </tr>\n",
       "    <tr>\n",
       "      <th>his_on_shelf_time</th>\n",
       "      <td>41907133</td>\n",
       "      <td>2.0369311353272486</td>\n",
       "      <td>1.6162615277376697</td>\n",
       "      <td>-1</td>\n",
       "      <td>3</td>\n",
       "    </tr>\n",
       "    <tr>\n",
       "      <th>app_score</th>\n",
       "      <td>41907133</td>\n",
       "      <td>1.7847627037621494</td>\n",
       "      <td>0.41098686910490795</td>\n",
       "      <td>1</td>\n",
       "      <td>2</td>\n",
       "    </tr>\n",
       "    <tr>\n",
       "      <th>emui_dev</th>\n",
       "      <td>41907133</td>\n",
       "      <td>19.289472415113675</td>\n",
       "      <td>4.527055579825146</td>\n",
       "      <td>11</td>\n",
       "      <td>28</td>\n",
       "    </tr>\n",
       "    <tr>\n",
       "      <th>list_time</th>\n",
       "      <td>41907133</td>\n",
       "      <td>9.214946558143216</td>\n",
       "      <td>3.6426297279975546</td>\n",
       "      <td>-1</td>\n",
       "      <td>9</td>\n",
       "    </tr>\n",
       "    <tr>\n",
       "      <th>device_price</th>\n",
       "      <td>41907133</td>\n",
       "      <td>3.476986387973618</td>\n",
       "      <td>1.1587958240779863</td>\n",
       "      <td>-1</td>\n",
       "      <td>7</td>\n",
       "    </tr>\n",
       "    <tr>\n",
       "      <th>up_life_duration</th>\n",
       "      <td>41907133</td>\n",
       "      <td>12.708119116619121</td>\n",
       "      <td>9.024164935334515</td>\n",
       "      <td>-1</td>\n",
       "      <td>9</td>\n",
       "    </tr>\n",
       "    <tr>\n",
       "      <th>up_membership_grade</th>\n",
       "      <td>41907133</td>\n",
       "      <td>-0.7547465964803652</td>\n",
       "      <td>0.6594331074603075</td>\n",
       "      <td>-1</td>\n",
       "      <td>3</td>\n",
       "    </tr>\n",
       "    <tr>\n",
       "      <th>membership_life_duration</th>\n",
       "      <td>41907133</td>\n",
       "      <td>-0.9708431259184445</td>\n",
       "      <td>0.7396529042972468</td>\n",
       "      <td>-1</td>\n",
       "      <td>9</td>\n",
       "    </tr>\n",
       "    <tr>\n",
       "      <th>consume_purchase</th>\n",
       "      <td>41907133</td>\n",
       "      <td>2.5831103024871687</td>\n",
       "      <td>1.7609380333709541</td>\n",
       "      <td>10</td>\n",
       "      <td>9</td>\n",
       "    </tr>\n",
       "    <tr>\n",
       "      <th>communication_onlinerate</th>\n",
       "      <td>41907133</td>\n",
       "      <td>-0.4275050419081946</td>\n",
       "      <td>3.5667091919025333</td>\n",
       "      <td>-1</td>\n",
       "      <td>9^21^22^23</td>\n",
       "    </tr>\n",
       "    <tr>\n",
       "      <th>communication_avgonline_30d</th>\n",
       "      <td>41907133</td>\n",
       "      <td>11.14246834781086</td>\n",
       "      <td>1.6469923345674298</td>\n",
       "      <td>-1</td>\n",
       "      <td>9</td>\n",
       "    </tr>\n",
       "    <tr>\n",
       "      <th>indu_name</th>\n",
       "      <td>41907133</td>\n",
       "      <td>26.53484627545387</td>\n",
       "      <td>11.050931693338034</td>\n",
       "      <td>11</td>\n",
       "      <td>52</td>\n",
       "    </tr>\n",
       "    <tr>\n",
       "      <th>pt_d</th>\n",
       "      <td>41907133</td>\n",
       "      <td>3.98785063631053</td>\n",
       "      <td>2.0121062641235374</td>\n",
       "      <td>1</td>\n",
       "      <td>7</td>\n",
       "    </tr>\n",
       "  </tbody>\n",
       "</table>\n",
       "</div>"
      ],
      "text/plain": [
       "summary                         count                  mean  \\\n",
       "label                        41907133  0.034492648304048856   \n",
       "uid                          41907133    1618366.5450654665   \n",
       "task_id                      41907133    3436.3739258660335   \n",
       "adv_id                       41907133      3963.51341013951   \n",
       "creat_type_cd                41907133     6.490081748135813   \n",
       "adv_prim_id                  41907133    159.31912006483478   \n",
       "dev_id                       41907133     41.59357343772479   \n",
       "inter_type_cd                41907133     4.646959504483402   \n",
       "slot_id                      41907133    15.254736109005595   \n",
       "spread_app_id                41907133      51.9989373646725   \n",
       "tags                         41907133     34.36324749297452   \n",
       "app_first_class              41907133    3.5649967751313363   \n",
       "app_second_class             41907133    22.091261146401973   \n",
       "age                          41907133     5.055212772489113   \n",
       "city                         41907133     265.4613547531395   \n",
       "city_rank                    41907133     3.866923060568233   \n",
       "device_name                  41907133       62.610451709975   \n",
       "device_size                  41907133     158.2104430527376   \n",
       "career                       41907133     6.211373586448875   \n",
       "gender                       41907133      2.45255038086237   \n",
       "net_type                     41907133    2.2110841130554078   \n",
       "residence                    41907133    28.401120162526986   \n",
       "his_app_size                 41907133    6.5524609378551375   \n",
       "his_on_shelf_time            41907133    2.0369311353272486   \n",
       "app_score                    41907133    1.7847627037621494   \n",
       "emui_dev                     41907133    19.289472415113675   \n",
       "list_time                    41907133     9.214946558143216   \n",
       "device_price                 41907133     3.476986387973618   \n",
       "up_life_duration             41907133    12.708119116619121   \n",
       "up_membership_grade          41907133   -0.7547465964803652   \n",
       "membership_life_duration     41907133   -0.9708431259184445   \n",
       "consume_purchase             41907133    2.5831103024871687   \n",
       "communication_onlinerate     41907133   -0.4275050419081946   \n",
       "communication_avgonline_30d  41907133     11.14246834781086   \n",
       "indu_name                    41907133     26.53484627545387   \n",
       "pt_d                         41907133      3.98785063631053   \n",
       "\n",
       "summary                                   stddev      min         max  \n",
       "label                        0.18249083898022259        0           1  \n",
       "uid                           357389.65521592135  1000001     2237673  \n",
       "task_id                       1429.9486235761321     1001        5992  \n",
       "adv_id                        1720.5691813375768     1001        7020  \n",
       "creat_type_cd                  1.231181612514361        2           9  \n",
       "adv_prim_id                   30.899225966287723      101         214  \n",
       "dev_id                         17.41486835377897       11          72  \n",
       "inter_type_cd                 0.7103276382288628        2           5  \n",
       "slot_id                        3.167097985067854       11          22  \n",
       "spread_app_id                  25.10112386162042       11          89  \n",
       "tags                           8.154165557587445       11          42  \n",
       "app_first_class               0.8217028376391976        2           4  \n",
       "app_second_class               3.619250695438356       11          29  \n",
       "age                           1.4153192617965202       -1           7  \n",
       "city                          101.43291692447634      101         444  \n",
       "city_rank                      0.908196213682573        2           5  \n",
       "device_name                   25.063266031528805      100          99  \n",
       "device_size                    45.07228338655767      101         349  \n",
       "career                        2.4773453826878598       10           9  \n",
       "gender                        0.8294714331999957        2           4  \n",
       "net_type                     0.42470431343106757        2           6  \n",
       "residence                     10.576117921626116       11          46  \n",
       "his_app_size                   5.898097528503572       -1           9  \n",
       "his_on_shelf_time             1.6162615277376697       -1           3  \n",
       "app_score                    0.41098686910490795        1           2  \n",
       "emui_dev                       4.527055579825146       11          28  \n",
       "list_time                     3.6426297279975546       -1           9  \n",
       "device_price                  1.1587958240779863       -1           7  \n",
       "up_life_duration               9.024164935334515       -1           9  \n",
       "up_membership_grade           0.6594331074603075       -1           3  \n",
       "membership_life_duration      0.7396529042972468       -1           9  \n",
       "consume_purchase              1.7609380333709541       10           9  \n",
       "communication_onlinerate      3.5667091919025333       -1  9^21^22^23  \n",
       "communication_avgonline_30d   1.6469923345674298       -1           9  \n",
       "indu_name                     11.050931693338034       11          52  \n",
       "pt_d                          2.0121062641235374        1           7  "
      ]
     },
     "execution_count": 61,
     "metadata": {},
     "output_type": "execute_result"
    }
   ],
   "source": [
    "# describe\n",
    "describe = raw_df.describe()\n",
    "describe.toPandas().set_index(\"summary\").T"
   ]
  },
  {
   "cell_type": "markdown",
   "metadata": {},
   "source": [
    "Most of the columns are acutallly categorical variables, doesn't make sense to lokking at those statistics.\n",
    "However, this summary is a way to confirm whether those categorical columns are really categorical"
   ]
  },
  {
   "cell_type": "code",
   "execution_count": 56,
   "metadata": {},
   "outputs": [],
   "source": [
    "numeric_columns = [\"age\",\"device_size\",'his_app_size','app_score','device_price']"
   ]
  },
  {
   "cell_type": "code",
   "execution_count": 57,
   "metadata": {},
   "outputs": [
    {
     "data": {
      "text/html": [
       "<div>\n",
       "<style scoped>\n",
       "    .dataframe tbody tr th:only-of-type {\n",
       "        vertical-align: middle;\n",
       "    }\n",
       "\n",
       "    .dataframe tbody tr th {\n",
       "        vertical-align: top;\n",
       "    }\n",
       "\n",
       "    .dataframe thead th {\n",
       "        text-align: right;\n",
       "    }\n",
       "</style>\n",
       "<table border=\"1\" class=\"dataframe\">\n",
       "  <thead>\n",
       "    <tr style=\"text-align: right;\">\n",
       "      <th>summary</th>\n",
       "      <th>count</th>\n",
       "      <th>mean</th>\n",
       "      <th>stddev</th>\n",
       "      <th>min</th>\n",
       "      <th>max</th>\n",
       "    </tr>\n",
       "  </thead>\n",
       "  <tbody>\n",
       "    <tr>\n",
       "      <th>age</th>\n",
       "      <td>41907133</td>\n",
       "      <td>5.055212772489113</td>\n",
       "      <td>1.4153192617965202</td>\n",
       "      <td>-1</td>\n",
       "      <td>7</td>\n",
       "    </tr>\n",
       "    <tr>\n",
       "      <th>device_size</th>\n",
       "      <td>41907133</td>\n",
       "      <td>158.2104430527376</td>\n",
       "      <td>45.07228338655767</td>\n",
       "      <td>101</td>\n",
       "      <td>349</td>\n",
       "    </tr>\n",
       "    <tr>\n",
       "      <th>his_app_size</th>\n",
       "      <td>41907133</td>\n",
       "      <td>6.5524609378551375</td>\n",
       "      <td>5.898097528503572</td>\n",
       "      <td>-1</td>\n",
       "      <td>9</td>\n",
       "    </tr>\n",
       "    <tr>\n",
       "      <th>app_score</th>\n",
       "      <td>41907133</td>\n",
       "      <td>1.7847627037621494</td>\n",
       "      <td>0.41098686910490795</td>\n",
       "      <td>1</td>\n",
       "      <td>2</td>\n",
       "    </tr>\n",
       "    <tr>\n",
       "      <th>device_price</th>\n",
       "      <td>41907133</td>\n",
       "      <td>3.476986387973618</td>\n",
       "      <td>1.1587958240779863</td>\n",
       "      <td>-1</td>\n",
       "      <td>7</td>\n",
       "    </tr>\n",
       "  </tbody>\n",
       "</table>\n",
       "</div>"
      ],
      "text/plain": [
       "summary          count                mean               stddev  min  max\n",
       "age           41907133   5.055212772489113   1.4153192617965202   -1    7\n",
       "device_size   41907133   158.2104430527376    45.07228338655767  101  349\n",
       "his_app_size  41907133  6.5524609378551375    5.898097528503572   -1    9\n",
       "app_score     41907133  1.7847627037621494  0.41098686910490795    1    2\n",
       "device_price  41907133   3.476986387973618   1.1587958240779863   -1    7"
      ]
     },
     "execution_count": 57,
     "metadata": {},
     "output_type": "execute_result"
    }
   ],
   "source": [
    "# describe\n",
    "describe = raw_df.select(numeric_columns) \\\n",
    "    .describe()\n",
    "describe.toPandas().set_index(\"summary\").T"
   ]
  },
  {
   "cell_type": "markdown",
   "metadata": {},
   "source": [
    "Seems like even these are numerical variables but they are already benn grouped by a different bucket levels.\n",
    "Because there is no further explanation, I need to make a few assumptions:\n",
    "1. value = -1 equal missing value\n",
    "2. value of app_score is actual score\n",
    "3. device price 1-7 means cheap to expensive\n",
    "4. age 1-7 means young to old\n",
    "\n",
    "This discovery means when processing data for models, I need to create a lot dummy variables."
   ]
  },
  {
   "cell_type": "markdown",
   "metadata": {},
   "source": [
    "# Explore Data"
   ]
  },
  {
   "cell_type": "markdown",
   "metadata": {},
   "source": [
    "## label distribution"
   ]
  },
  {
   "cell_type": "code",
   "execution_count": 71,
   "metadata": {},
   "outputs": [],
   "source": [
    "label_count = raw_df.select(\"label\").groupby(\"label\").count().toPandas()"
   ]
  },
  {
   "cell_type": "code",
   "execution_count": 87,
   "metadata": {},
   "outputs": [
    {
     "data": {
      "text/html": [
       "<div>\n",
       "<style scoped>\n",
       "    .dataframe tbody tr th:only-of-type {\n",
       "        vertical-align: middle;\n",
       "    }\n",
       "\n",
       "    .dataframe tbody tr th {\n",
       "        vertical-align: top;\n",
       "    }\n",
       "\n",
       "    .dataframe thead th {\n",
       "        text-align: right;\n",
       "    }\n",
       "</style>\n",
       "<table border=\"1\" class=\"dataframe\">\n",
       "  <thead>\n",
       "    <tr style=\"text-align: right;\">\n",
       "      <th></th>\n",
       "      <th>label</th>\n",
       "      <th>count</th>\n",
       "      <th>pct</th>\n",
       "    </tr>\n",
       "  </thead>\n",
       "  <tbody>\n",
       "    <tr>\n",
       "      <th>0</th>\n",
       "      <td>0</td>\n",
       "      <td>40461645</td>\n",
       "      <td>0.97</td>\n",
       "    </tr>\n",
       "    <tr>\n",
       "      <th>1</th>\n",
       "      <td>1</td>\n",
       "      <td>1445488</td>\n",
       "      <td>0.03</td>\n",
       "    </tr>\n",
       "  </tbody>\n",
       "</table>\n",
       "</div>"
      ],
      "text/plain": [
       "  label     count   pct\n",
       "0     0  40461645  0.97\n",
       "1     1   1445488  0.03"
      ]
     },
     "execution_count": 87,
     "metadata": {},
     "output_type": "execute_result"
    }
   ],
   "source": [
    "label_count[\"pct\"] = np.round(label_count[\"count\"].values/raw_df_shape[0],decimals=2)\n",
    "label_count"
   ]
  },
  {
   "cell_type": "code",
   "execution_count": 83,
   "metadata": {},
   "outputs": [
    {
     "data": {
      "image/png": "[encoded data removed]",
      "text/plain": [
       "<Figure size 432x288 with 1 Axes>"
      ]
     },
     "metadata": {
      "needs_background": "light"
     },
     "output_type": "display_data"
    }
   ],
   "source": [
    "plot = sns.barplot(label_count[\"label\"].values,label_count[\"count\"].values/raw_df_shape[0])"
   ]
  },
  {
   "cell_type": "markdown",
   "metadata": {},
   "source": [
    "The label distribution is imbalance. But it is expected. This means CTR in this dataset is around 3.5% which is better than the average CTR number I googled.\n",
    "<img src=\"images/avg_ctr.png\">"
   ]
  },
  {
   "cell_type": "markdown",
   "metadata": {},
   "source": [
    "## ID columns"
   ]
  },
  {
   "cell_type": "code",
   "execution_count": 90,
   "metadata": {},
   "outputs": [
    {
     "data": {
      "text/plain": [
       "['label',\n",
       " 'uid',\n",
       " 'task_id',\n",
       " 'adv_id',\n",
       " 'creat_type_cd',\n",
       " 'adv_prim_id',\n",
       " 'dev_id',\n",
       " 'inter_type_cd',\n",
       " 'slot_id',\n",
       " 'spread_app_id',\n",
       " 'tags',\n",
       " 'app_first_class',\n",
       " 'app_second_class',\n",
       " 'age',\n",
       " 'city',\n",
       " 'city_rank',\n",
       " 'device_name',\n",
       " 'device_size',\n",
       " 'career',\n",
       " 'gender',\n",
       " 'net_type',\n",
       " 'residence',\n",
       " 'his_app_size',\n",
       " 'his_on_shelf_time',\n",
       " 'app_score',\n",
       " 'emui_dev',\n",
       " 'list_time',\n",
       " 'device_price',\n",
       " 'up_life_duration',\n",
       " 'up_membership_grade',\n",
       " 'membership_life_duration',\n",
       " 'consume_purchase',\n",
       " 'communication_onlinerate',\n",
       " 'communication_avgonline_30d',\n",
       " 'indu_name',\n",
       " 'pt_d']"
      ]
     },
     "execution_count": 90,
     "metadata": {},
     "output_type": "execute_result"
    }
   ],
   "source": [
    "raw_df.columns"
   ]
  },
  {
   "cell_type": "code",
   "execution_count": 96,
   "metadata": {},
   "outputs": [],
   "source": [
    "id_columns = ['uid','task_id','adv_id','creat_type_cd','adv_prim_id','dev_id','inter_type_cd','slot_id','spread_app_id']"
   ]
  },
  {
   "cell_type": "code",
   "execution_count": 100,
   "metadata": {},
   "outputs": [
    {
     "name": "stdout",
     "output_type": "stream",
     "text": [
      "+-------------------+\n",
      "|count(DISTINCT uid)|\n",
      "+-------------------+\n",
      "|            1081436|\n",
      "+-------------------+\n",
      "\n",
      "+-----------------------+\n",
      "|count(DISTINCT task_id)|\n",
      "+-----------------------+\n",
      "|                   4329|\n",
      "+-----------------------+\n",
      "\n",
      "+----------------------+\n",
      "|count(DISTINCT adv_id)|\n",
      "+----------------------+\n",
      "|                  5319|\n",
      "+----------------------+\n",
      "\n",
      "+-----------------------------+\n",
      "|count(DISTINCT creat_type_cd)|\n",
      "+-----------------------------+\n",
      "|                            8|\n",
      "+-----------------------------+\n",
      "\n",
      "+---------------------------+\n",
      "|count(DISTINCT adv_prim_id)|\n",
      "+---------------------------+\n",
      "|                        101|\n",
      "+---------------------------+\n",
      "\n",
      "+----------------------+\n",
      "|count(DISTINCT dev_id)|\n",
      "+----------------------+\n",
      "|                    55|\n",
      "+----------------------+\n",
      "\n",
      "+-----------------------------+\n",
      "|count(DISTINCT inter_type_cd)|\n",
      "+-----------------------------+\n",
      "|                            4|\n",
      "+-----------------------------+\n",
      "\n",
      "+-----------------------+\n",
      "|count(DISTINCT slot_id)|\n",
      "+-----------------------+\n",
      "|                     12|\n",
      "+-----------------------+\n",
      "\n",
      "+-----------------------------+\n",
      "|count(DISTINCT spread_app_id)|\n",
      "+-----------------------------+\n",
      "|                           70|\n",
      "+-----------------------------+\n",
      "\n"
     ]
    }
   ],
   "source": [
    "for col in id_columns:\n",
    "    raw_df.select(F.countDistinct(col)).distinct().show()"
   ]
  },
  {
   "cell_type": "markdown",
   "metadata": {},
   "source": [
    "After looking at id columns closely, I discoverd \n",
    "1. some features are really ID, some  features are not\n",
    "2. some id values are actully a feature to another higher level features.\n",
    "\n",
    "With these two findings I constructed following feature map:\n",
    "\n",
    "1. users:\n",
    "    - uid\n",
    "    - age \n",
    "    - city\n",
    "        - city_rank\n",
    "    - career\n",
    "    - gender\n",
    "    - residence\n",
    "    - up_life_duration\n",
    "    - up_membership_grade\n",
    "    - membership_life_duration\n",
    "    - consume_purchase\n",
    "    - communication_onlinerate\n",
    "    - communication_avgonline_30d\n",
    "2. ads\n",
    "    - task_id\n",
    "    - adv_id\n",
    "    - creat_type_cd\n",
    "    - adv_prim_id\n",
    "    - dev_id\n",
    "    - inter_typ_cd\n",
    "    - slot_id\n",
    "    - indu_name\n",
    "3. apps\n",
    "    - spread_app_id\n",
    "    - tags\n",
    "    - app_first_class\n",
    "    - app_second_class\n",
    "    - his_app_size\n",
    "    - his_on_shelf_time\n",
    "    - app_score\n",
    "4. device\n",
    "    - device_name\n",
    "    - device_size\n",
    "    - emui_dev\n",
    "    - list_time\n",
    "    - device_price\n",
    "6. behavior/event\n",
    "    - net_type\n",
    "    - pt_d"
   ]
  },
  {
   "cell_type": "markdown",
   "metadata": {},
   "source": [
    "## uid"
   ]
  },
  {
   "cell_type": "markdown",
   "metadata": {},
   "source": [
    "examine how frequent users being display the ads\n",
    "\n",
    "this cound be a user feature"
   ]
  },
  {
   "cell_type": "code",
   "execution_count": 106,
   "metadata": {},
   "outputs": [],
   "source": [
    "uid_count = raw_df.select(\"uid\").groupby(\"uid\").count()\n",
    "uid_count_df = uid_count.toPandas()"
   ]
  },
  {
   "cell_type": "code",
   "execution_count": 170,
   "metadata": {},
   "outputs": [
    {
     "data": {
      "text/plain": [
       "count    1.081436e+06\n",
       "mean     3.875138e+01\n",
       "std      6.149806e+01\n",
       "min      1.000000e+00\n",
       "25%      5.000000e+00\n",
       "50%      1.500000e+01\n",
       "75%      4.600000e+01\n",
       "max      1.554000e+03\n",
       "Name: count, dtype: float64"
      ]
     },
     "execution_count": 170,
     "metadata": {},
     "output_type": "execute_result"
    }
   ],
   "source": [
    "uid_count_df[\"count\"].describe()"
   ]
  },
  {
   "cell_type": "code",
   "execution_count": 169,
   "metadata": {},
   "outputs": [
    {
     "data": {
      "text/plain": [
       "<AxesSubplot:xlabel='count'>"
      ]
     },
     "execution_count": 169,
     "metadata": {},
     "output_type": "execute_result"
    },
    {
     "data": {
      "image/png": "[encoded data removed]",
      "text/plain": [
       "<Figure size 432x288 with 1 Axes>"
      ]
     },
     "metadata": {
      "needs_background": "light"
     },
     "output_type": "display_data"
    }
   ],
   "source": [
    "sns.boxplot(uid_count_df[\"count\"])"
   ]
  },
  {
   "cell_type": "code",
   "execution_count": 332,
   "metadata": {},
   "outputs": [
    {
     "data": {
      "text/plain": [
       "<AxesSubplot:>"
      ]
     },
     "execution_count": 332,
     "metadata": {},
     "output_type": "execute_result"
    },
    {
     "data": {
      "image/png": "[encoded data removed]",
      "text/plain": [
       "<Figure size 432x288 with 1 Axes>"
      ]
     },
     "metadata": {
      "needs_background": "light"
     },
     "output_type": "display_data"
    }
   ],
   "source": [
    "df = pd.merge(uid_count_df,user_click_count,on='uid')\n",
    "pd.cut((df[\"sum(label)\"]/df['count']).sort_values(ascending=False),bins=20).value_counts().sort_index().plot.bar()"
   ]
  },
  {
   "cell_type": "markdown",
   "metadata": {},
   "source": [
    "CTR of each user in different category"
   ]
  },
  {
   "cell_type": "code",
   "execution_count": 174,
   "metadata": {},
   "outputs": [
    {
     "data": {
      "text/plain": [
       "<AxesSubplot:>"
      ]
     },
     "execution_count": 174,
     "metadata": {},
     "output_type": "execute_result"
    },
    {
     "data": {
      "image/png": "[encoded data removed]",
      "text/plain": [
       "<Figure size 432x288 with 1 Axes>"
      ]
     },
     "metadata": {
      "needs_background": "light"
     },
     "output_type": "display_data"
    }
   ],
   "source": [
    "pd.cut(uid_count_df[\"count\"],[0,5,15,46,41*1.5 + 46,1600]).value_counts().sort_index().plot.bar()"
   ]
  },
  {
   "cell_type": "markdown",
   "metadata": {},
   "source": [
    "From the first glance, the conclusing might be that people being showed 15-46 times have hight Click count. But this didn't consider no very much user could have chance to be showed an ad 46 times. So we need to calculated CTR not just count"
   ]
  },
  {
   "cell_type": "markdown",
   "metadata": {},
   "source": [
    "see the relation of frequency being displayed an ad between Click"
   ]
  },
  {
   "cell_type": "code",
   "execution_count": 215,
   "metadata": {},
   "outputs": [],
   "source": [
    "user_click_count = raw_df.select(\"uid\",\"label\").groupby(\"uid\").agg({'label':'sum'}).toPandas()"
   ]
  },
  {
   "cell_type": "code",
   "execution_count": 251,
   "metadata": {},
   "outputs": [],
   "source": [
    "uid_count_df[\"bucket\"] = pd.cut(uid_count_df[\"count\"],[0,5,15,46,41*1.5 + 46,1600])"
   ]
  },
  {
   "cell_type": "code",
   "execution_count": 252,
   "metadata": {},
   "outputs": [
    {
     "data": {
      "text/plain": [
       "bucket\n",
       "(0.0, 5.0]           901928\n",
       "(5.0, 15.0]         2466998\n",
       "(15.0, 46.0]        7313342\n",
       "(46.0, 107.5]      11817398\n",
       "(107.5, 1600.0]    19407467\n",
       "Name: count, dtype: int64"
      ]
     },
     "execution_count": 252,
     "metadata": {},
     "output_type": "execute_result"
    }
   ],
   "source": [
    "event_shown = uid_count_df.groupby(\"bucket\")['count'].sum()\n",
    "event_shown"
   ]
  },
  {
   "cell_type": "code",
   "execution_count": 253,
   "metadata": {},
   "outputs": [],
   "source": [
    "shown_click = pd.merge(uid_count_df,user_click_count,on='uid').groupby('bucket')['sum(label)'].sum()"
   ]
  },
  {
   "cell_type": "markdown",
   "metadata": {},
   "source": [
    "CTR of each bucket"
   ]
  },
  {
   "cell_type": "code",
   "execution_count": 254,
   "metadata": {},
   "outputs": [
    {
     "data": {
      "text/plain": [
       "<AxesSubplot:xlabel='bucket'>"
      ]
     },
     "execution_count": 254,
     "metadata": {},
     "output_type": "execute_result"
    },
    {
     "data": {
      "image/png": "[encoded data removed]",
      "text/plain": [
       "<Figure size 432x288 with 1 Axes>"
      ]
     },
     "metadata": {
      "needs_background": "light"
     },
     "output_type": "display_data"
    }
   ],
   "source": [
    "(shown_click/event_shown).plot.bar()"
   ]
  },
  {
   "cell_type": "markdown",
   "metadata": {},
   "source": [
    "## age"
   ]
  },
  {
   "cell_type": "markdown",
   "metadata": {},
   "source": [
    "since each row is ad event based. examing ages uf unique users will make more sense"
   ]
  },
  {
   "cell_type": "code",
   "execution_count": 260,
   "metadata": {},
   "outputs": [],
   "source": [
    "raw_df = raw_df.withColumn(\"label_int\", raw_df[\"label\"].cast(\"integer\"))"
   ]
  },
  {
   "cell_type": "code",
   "execution_count": 263,
   "metadata": {},
   "outputs": [],
   "source": [
    "age_df = raw_df.select(\"uid\",\"age\",\"label_int\").groupBy(\"uid\",\"age\").sum(\"label_int\").toPandas()"
   ]
  },
  {
   "cell_type": "code",
   "execution_count": 271,
   "metadata": {},
   "outputs": [],
   "source": [
    "users_diff_age_count = age_df.groupby(\"uid\")['age'].count().sort_values(ascending=False)"
   ]
  },
  {
   "cell_type": "code",
   "execution_count": 275,
   "metadata": {},
   "outputs": [
    {
     "data": {
      "text/plain": [
       "1    827370\n",
       "2    233141\n",
       "3     20755\n",
       "4       169\n",
       "5         1\n",
       "Name: age, dtype: int64"
      ]
     },
     "execution_count": 275,
     "metadata": {},
     "output_type": "execute_result"
    }
   ],
   "source": [
    "users_diff_age_count.value_counts()"
   ]
  },
  {
   "cell_type": "markdown",
   "metadata": {},
   "source": [
    "This is something interesting, seems like a user even has fiv different age type. To deal with this \n",
    "1. replace -1 value if a user has other age registered.\n",
    "2. I will create another age type \"multiple age\" covers users who has more than 2 different ages.\n",
    "\n",
    "for users who has two ages, it accounts about 1/5 users.\n",
    "I guess the reason is that \n",
    "1. these users didn't give their birthday when they register until being asked later.\n",
    "2. some users grew older during these 7 days.\n",
    "either way for users who has only 2 \n",
    "\n",
    "\n",
    "there is two options:\n",
    "1. always pick larger or smaller group\n",
    "2. create another age group \"two ages\""
   ]
  },
  {
   "cell_type": "code",
   "execution_count": 290,
   "metadata": {},
   "outputs": [
    {
     "data": {
      "text/plain": [
       "-1     22682\n",
       "1     103372\n",
       "2      46550\n",
       "3      59172\n",
       "4     250544\n",
       "5     304674\n",
       "6     306204\n",
       "7     263400\n",
       "Name: age, dtype: int64"
      ]
     },
     "execution_count": 290,
     "metadata": {},
     "output_type": "execute_result"
    }
   ],
   "source": [
    "age_df[\"age\"].value_counts().sort_index()"
   ]
  },
  {
   "cell_type": "markdown",
   "metadata": {},
   "source": [
    "Here I just choose the max value but I am interested in replace -1 with the min vale of others"
   ]
  },
  {
   "cell_type": "code",
   "execution_count": 291,
   "metadata": {},
   "outputs": [
    {
     "data": {
      "text/plain": [
       "-1      9895\n",
       "1      12644\n",
       "2      31696\n",
       "3      48771\n",
       "4     202976\n",
       "5     252298\n",
       "6     259756\n",
       "7     263400\n",
       "Name: age, dtype: int64"
      ]
     },
     "execution_count": 291,
     "metadata": {},
     "output_type": "execute_result"
    }
   ],
   "source": [
    "age_df.groupby(\"uid\")['age'].max().value_counts().sort_index()"
   ]
  },
  {
   "cell_type": "code",
   "execution_count": 294,
   "metadata": {},
   "outputs": [
    {
     "data": {
      "text/plain": [
       "<AxesSubplot:>"
      ]
     },
     "execution_count": 294,
     "metadata": {},
     "output_type": "execute_result"
    },
    {
     "data": {
      "image/png": "[encoded data removed]",
      "text/plain": [
       "<Figure size 432x288 with 1 Axes>"
      ]
     },
     "metadata": {
      "needs_background": "light"
     },
     "output_type": "display_data"
    }
   ],
   "source": [
    "age_df.groupby(\"uid\")['age'].max().value_counts().sort_index().plot.bar()"
   ]
  },
  {
   "cell_type": "markdown",
   "metadata": {},
   "source": [
    "I think this makes sense if the higher the value, the older the user group."
   ]
  },
  {
   "cell_type": "code",
   "execution_count": 286,
   "metadata": {},
   "outputs": [],
   "source": [
    "agg_df = age_df.groupby(\"uid\").agg({\"age\":max,\"sum(label_int)\":sum})"
   ]
  },
  {
   "cell_type": "code",
   "execution_count": 306,
   "metadata": {},
   "outputs": [
    {
     "data": {
      "text/plain": [
       "age\n",
       "-1     30999\n",
       "1     160670\n",
       "2      58383\n",
       "3      58372\n",
       "4     257797\n",
       "5     307217\n",
       "6     299821\n",
       "7     272229\n",
       "Name: sum(label_int), dtype: int64"
      ]
     },
     "execution_count": 306,
     "metadata": {},
     "output_type": "execute_result"
    }
   ],
   "source": [
    "age_click = agg_df[[\"age\",\t\"sum(label_int)\"]].groupby(\"age\")[\"sum(label_int)\"].sum()\n",
    "age_click"
   ]
  },
  {
   "cell_type": "code",
   "execution_count": 307,
   "metadata": {},
   "outputs": [
    {
     "data": {
      "text/plain": [
       "<AxesSubplot:xlabel='age'>"
      ]
     },
     "execution_count": 307,
     "metadata": {},
     "output_type": "execute_result"
    },
    {
     "data": {
      "image/png": "[encoded data removed]",
      "text/plain": [
       "<Figure size 432x288 with 1 Axes>"
      ]
     },
     "metadata": {
      "needs_background": "light"
     },
     "output_type": "display_data"
    }
   ],
   "source": [
    "age_click.plot.bar()"
   ]
  },
  {
   "cell_type": "markdown",
   "metadata": {},
   "source": [
    "This check how each age group clicked the ads. It is interesting that 2 and 3 has lower counts while 1 higher than them.\n",
    "Let's see the CTR of each group"
   ]
  },
  {
   "cell_type": "code",
   "execution_count": 302,
   "metadata": {},
   "outputs": [
    {
     "data": {
      "text/plain": [
       "age\n",
       "-1      357018\n",
       "1      4586160\n",
       "2      1530861\n",
       "3      1830995\n",
       "4      9061943\n",
       "5     11618291\n",
       "6      8816722\n",
       "7      4105143\n",
       "Name: count, dtype: int64"
      ]
     },
     "execution_count": 302,
     "metadata": {},
     "output_type": "execute_result"
    }
   ],
   "source": [
    "event_shown_age = pd.merge(agg_df,uid_count_df,on=\"uid\").groupby(\"age\")['count'].sum()\n",
    "event_shown_age"
   ]
  },
  {
   "cell_type": "markdown",
   "metadata": {},
   "source": [
    "CTR of each age group"
   ]
  },
  {
   "cell_type": "code",
   "execution_count": 309,
   "metadata": {},
   "outputs": [
    {
     "data": {
      "text/plain": [
       "<AxesSubplot:xlabel='age'>"
      ]
     },
     "execution_count": 309,
     "metadata": {},
     "output_type": "execute_result"
    },
    {
     "data": {
      "image/png": "[encoded data removed]",
      "text/plain": [
       "<Figure size 432x288 with 1 Axes>"
      ]
     },
     "metadata": {
      "needs_background": "light"
     },
     "output_type": "display_data"
    }
   ],
   "source": [
    "(age_click/event_shown_age).plot.bar()"
   ]
  },
  {
   "cell_type": "markdown",
   "metadata": {},
   "source": [
    "## City"
   ]
  },
  {
   "cell_type": "code",
   "execution_count": 310,
   "metadata": {},
   "outputs": [
    {
     "name": "stdout",
     "output_type": "stream",
     "text": [
      "+----+---------+\n",
      "|city|city_rank|\n",
      "+----+---------+\n",
      "| 437|        5|\n",
      "| 370|        5|\n",
      "| 306|        3|\n",
      "| 275|        5|\n",
      "| 412|        3|\n",
      "| 266|        4|\n",
      "| 311|        3|\n",
      "| 166|        3|\n",
      "| 275|        5|\n",
      "| 369|        4|\n",
      "| 407|        3|\n",
      "| 287|        2|\n",
      "| 193|        5|\n",
      "| 249|        3|\n",
      "| 437|        5|\n",
      "| 370|        5|\n",
      "| 157|        3|\n",
      "| 231|        5|\n",
      "| 437|        5|\n",
      "| 207|        5|\n",
      "+----+---------+\n",
      "only showing top 20 rows\n",
      "\n"
     ]
    }
   ],
   "source": [
    "raw_df.select(\"city\",\"city_rank\").show()"
   ]
  },
  {
   "cell_type": "code",
   "execution_count": 311,
   "metadata": {},
   "outputs": [
    {
     "name": "stdout",
     "output_type": "stream",
     "text": [
      "+--------------------+\n",
      "|count(DISTINCT city)|\n",
      "+--------------------+\n",
      "|                 344|\n",
      "+--------------------+\n",
      "\n"
     ]
    }
   ],
   "source": [
    "raw_df.select(F.countDistinct(\"city\")).show()"
   ]
  },
  {
   "cell_type": "code",
   "execution_count": null,
   "metadata": {},
   "outputs": [],
   "source": [
    "def calculate_CTR(click,total_shown):\n",
    "    return click/total_shown"
   ]
  },
  {
   "cell_type": "markdown",
   "metadata": {},
   "source": [
    "## city_rank"
   ]
  },
  {
   "cell_type": "code",
   "execution_count": 312,
   "metadata": {},
   "outputs": [
    {
     "name": "stdout",
     "output_type": "stream",
     "text": [
      "+-------------------------+\n",
      "|count(DISTINCT city_rank)|\n",
      "+-------------------------+\n",
      "|                        4|\n",
      "+-------------------------+\n",
      "\n"
     ]
    }
   ],
   "source": [
    "raw_df.select(F.countDistinct(\"city_rank\")).show()"
   ]
  },
  {
   "cell_type": "code",
   "execution_count": 313,
   "metadata": {},
   "outputs": [
    {
     "name": "stdout",
     "output_type": "stream",
     "text": [
      "+---------+--------+\n",
      "|city_rank|   count|\n",
      "+---------+--------+\n",
      "|        3|19311993|\n",
      "|        5|14488752|\n",
      "|        4| 7729572|\n",
      "|        2|  376816|\n",
      "+---------+--------+\n",
      "\n"
     ]
    }
   ],
   "source": [
    "raw_df.select(\"city_rank\").groupBy(\"city_rank\").count().show()"
   ]
  },
  {
   "cell_type": "code",
   "execution_count": 350,
   "metadata": {},
   "outputs": [],
   "source": [
    "df = raw_df.select(\"city_rank\").groupBy(\"city_rank\").count().toPandas()"
   ]
  },
  {
   "cell_type": "code",
   "execution_count": 342,
   "metadata": {},
   "outputs": [],
   "source": [
    "df_click = raw_df.select(\"city_rank\",\"label_int\").groupBy(\"city_rank\").sum(\"label_int\").toPandas()"
   ]
  },
  {
   "cell_type": "code",
   "execution_count": 346,
   "metadata": {},
   "outputs": [
    {
     "data": {
      "text/html": [
       "<div>\n",
       "<style scoped>\n",
       "    .dataframe tbody tr th:only-of-type {\n",
       "        vertical-align: middle;\n",
       "    }\n",
       "\n",
       "    .dataframe tbody tr th {\n",
       "        vertical-align: top;\n",
       "    }\n",
       "\n",
       "    .dataframe thead th {\n",
       "        text-align: right;\n",
       "    }\n",
       "</style>\n",
       "<table border=\"1\" class=\"dataframe\">\n",
       "  <thead>\n",
       "    <tr style=\"text-align: right;\">\n",
       "      <th></th>\n",
       "      <th>sum(label_int)</th>\n",
       "    </tr>\n",
       "    <tr>\n",
       "      <th>city_rank</th>\n",
       "      <th></th>\n",
       "    </tr>\n",
       "  </thead>\n",
       "  <tbody>\n",
       "    <tr>\n",
       "      <th>2</th>\n",
       "      <td>29016</td>\n",
       "    </tr>\n",
       "    <tr>\n",
       "      <th>3</th>\n",
       "      <td>723725</td>\n",
       "    </tr>\n",
       "    <tr>\n",
       "      <th>4</th>\n",
       "      <td>256997</td>\n",
       "    </tr>\n",
       "    <tr>\n",
       "      <th>5</th>\n",
       "      <td>435750</td>\n",
       "    </tr>\n",
       "  </tbody>\n",
       "</table>\n",
       "</div>"
      ],
      "text/plain": [
       "           sum(label_int)\n",
       "city_rank                \n",
       "2                   29016\n",
       "3                  723725\n",
       "4                  256997\n",
       "5                  435750"
      ]
     },
     "execution_count": 346,
     "metadata": {},
     "output_type": "execute_result"
    }
   ],
   "source": [
    "df_click = df_click.sort_values(\"city_rank\").set_index(\"city_rank\")\n",
    "df_click"
   ]
  },
  {
   "cell_type": "code",
   "execution_count": 351,
   "metadata": {},
   "outputs": [
    {
     "data": {
      "text/plain": [
       "<AxesSubplot:xlabel='city_rank'>"
      ]
     },
     "execution_count": 351,
     "metadata": {},
     "output_type": "execute_result"
    },
    {
     "data": {
      "image/png": "[encoded data removed]",
      "text/plain": [
       "<Figure size 432x288 with 1 Axes>"
      ]
     },
     "metadata": {
      "needs_background": "light"
     },
     "output_type": "display_data"
    }
   ],
   "source": [
    "# how many times ads shown in different city_rank \n",
    "df = df.sort_values(\"city_rank\").set_index(\"city_rank\")\n",
    "df.plot.bar()"
   ]
  },
  {
   "cell_type": "code",
   "execution_count": 352,
   "metadata": {},
   "outputs": [
    {
     "data": {
      "text/html": [
       "<div>\n",
       "<style scoped>\n",
       "    .dataframe tbody tr th:only-of-type {\n",
       "        vertical-align: middle;\n",
       "    }\n",
       "\n",
       "    .dataframe tbody tr th {\n",
       "        vertical-align: top;\n",
       "    }\n",
       "\n",
       "    .dataframe thead th {\n",
       "        text-align: right;\n",
       "    }\n",
       "</style>\n",
       "<table border=\"1\" class=\"dataframe\">\n",
       "  <thead>\n",
       "    <tr style=\"text-align: right;\">\n",
       "      <th></th>\n",
       "      <th>count</th>\n",
       "    </tr>\n",
       "    <tr>\n",
       "      <th>city_rank</th>\n",
       "      <th></th>\n",
       "    </tr>\n",
       "  </thead>\n",
       "  <tbody>\n",
       "    <tr>\n",
       "      <th>2</th>\n",
       "      <td>376816</td>\n",
       "    </tr>\n",
       "    <tr>\n",
       "      <th>3</th>\n",
       "      <td>19311993</td>\n",
       "    </tr>\n",
       "    <tr>\n",
       "      <th>4</th>\n",
       "      <td>7729572</td>\n",
       "    </tr>\n",
       "    <tr>\n",
       "      <th>5</th>\n",
       "      <td>14488752</td>\n",
       "    </tr>\n",
       "  </tbody>\n",
       "</table>\n",
       "</div>"
      ],
      "text/plain": [
       "              count\n",
       "city_rank          \n",
       "2            376816\n",
       "3          19311993\n",
       "4           7729572\n",
       "5          14488752"
      ]
     },
     "execution_count": 352,
     "metadata": {},
     "output_type": "execute_result"
    }
   ],
   "source": [
    "df"
   ]
  },
  {
   "cell_type": "code",
   "execution_count": 365,
   "metadata": {},
   "outputs": [
    {
     "data": {
      "text/plain": [
       "<AxesSubplot:xlabel='city_rank'>"
      ]
     },
     "execution_count": 365,
     "metadata": {},
     "output_type": "execute_result"
    },
    {
     "data": {
      "image/png": "[encoded data removed]",
      "text/plain": [
       "<Figure size 432x288 with 1 Axes>"
      ]
     },
     "metadata": {
      "needs_background": "light"
     },
     "output_type": "display_data"
    }
   ],
   "source": [
    "(df_click[\"sum(label_int)\"]/df['count']).plot.bar()"
   ]
  },
  {
   "cell_type": "markdown",
   "metadata": {},
   "source": [
    "seems like city_rank 2 has a higher CTR"
   ]
  },
  {
   "cell_type": "markdown",
   "metadata": {},
   "source": [
    "## Career"
   ]
  },
  {
   "cell_type": "code",
   "execution_count": 366,
   "metadata": {},
   "outputs": [
    {
     "name": "stdout",
     "output_type": "stream",
     "text": [
      "+----------------------+\n",
      "|count(DISTINCT career)|\n",
      "+----------------------+\n",
      "|                     9|\n",
      "+----------------------+\n",
      "\n"
     ]
    }
   ],
   "source": [
    "raw_df.select(F.countDistinct('career')).show()"
   ]
  },
  {
   "cell_type": "code",
   "execution_count": 369,
   "metadata": {},
   "outputs": [
    {
     "data": {
      "text/html": [
       "<div>\n",
       "<style scoped>\n",
       "    .dataframe tbody tr th:only-of-type {\n",
       "        vertical-align: middle;\n",
       "    }\n",
       "\n",
       "    .dataframe tbody tr th {\n",
       "        vertical-align: top;\n",
       "    }\n",
       "\n",
       "    .dataframe thead th {\n",
       "        text-align: right;\n",
       "    }\n",
       "</style>\n",
       "<table border=\"1\" class=\"dataframe\">\n",
       "  <thead>\n",
       "    <tr style=\"text-align: right;\">\n",
       "      <th></th>\n",
       "      <th>career</th>\n",
       "      <th>count</th>\n",
       "    </tr>\n",
       "  </thead>\n",
       "  <tbody>\n",
       "    <tr>\n",
       "      <th>0</th>\n",
       "      <td>7</td>\n",
       "      <td>1006608</td>\n",
       "    </tr>\n",
       "    <tr>\n",
       "      <th>1</th>\n",
       "      <td>3</td>\n",
       "      <td>1311863</td>\n",
       "    </tr>\n",
       "    <tr>\n",
       "      <th>2</th>\n",
       "      <td>8</td>\n",
       "      <td>723044</td>\n",
       "    </tr>\n",
       "    <tr>\n",
       "      <th>3</th>\n",
       "      <td>5</td>\n",
       "      <td>1866768</td>\n",
       "    </tr>\n",
       "    <tr>\n",
       "      <th>4</th>\n",
       "      <td>6</td>\n",
       "      <td>1109532</td>\n",
       "    </tr>\n",
       "    <tr>\n",
       "      <th>5</th>\n",
       "      <td>9</td>\n",
       "      <td>17084382</td>\n",
       "    </tr>\n",
       "    <tr>\n",
       "      <th>6</th>\n",
       "      <td>10</td>\n",
       "      <td>81285</td>\n",
       "    </tr>\n",
       "    <tr>\n",
       "      <th>7</th>\n",
       "      <td>4</td>\n",
       "      <td>17762020</td>\n",
       "    </tr>\n",
       "    <tr>\n",
       "      <th>8</th>\n",
       "      <td>2</td>\n",
       "      <td>961631</td>\n",
       "    </tr>\n",
       "  </tbody>\n",
       "</table>\n",
       "</div>"
      ],
      "text/plain": [
       "  career     count\n",
       "0      7   1006608\n",
       "1      3   1311863\n",
       "2      8    723044\n",
       "3      5   1866768\n",
       "4      6   1109532\n",
       "5      9  17084382\n",
       "6     10     81285\n",
       "7      4  17762020\n",
       "8      2    961631"
      ]
     },
     "execution_count": 369,
     "metadata": {},
     "output_type": "execute_result"
    }
   ],
   "source": [
    "career_count = raw_df.select('career').groupBy('career').count().toPandas()\n",
    "career_count"
   ]
  },
  {
   "cell_type": "code",
   "execution_count": 373,
   "metadata": {},
   "outputs": [
    {
     "data": {
      "text/html": [
       "<div>\n",
       "<style scoped>\n",
       "    .dataframe tbody tr th:only-of-type {\n",
       "        vertical-align: middle;\n",
       "    }\n",
       "\n",
       "    .dataframe tbody tr th {\n",
       "        vertical-align: top;\n",
       "    }\n",
       "\n",
       "    .dataframe thead th {\n",
       "        text-align: right;\n",
       "    }\n",
       "</style>\n",
       "<table border=\"1\" class=\"dataframe\">\n",
       "  <thead>\n",
       "    <tr style=\"text-align: right;\">\n",
       "      <th></th>\n",
       "      <th>career</th>\n",
       "      <th>sum(label_int)</th>\n",
       "    </tr>\n",
       "  </thead>\n",
       "  <tbody>\n",
       "    <tr>\n",
       "      <th>0</th>\n",
       "      <td>7</td>\n",
       "      <td>26589</td>\n",
       "    </tr>\n",
       "    <tr>\n",
       "      <th>1</th>\n",
       "      <td>3</td>\n",
       "      <td>33877</td>\n",
       "    </tr>\n",
       "    <tr>\n",
       "      <th>2</th>\n",
       "      <td>8</td>\n",
       "      <td>19871</td>\n",
       "    </tr>\n",
       "    <tr>\n",
       "      <th>3</th>\n",
       "      <td>5</td>\n",
       "      <td>66470</td>\n",
       "    </tr>\n",
       "    <tr>\n",
       "      <th>4</th>\n",
       "      <td>6</td>\n",
       "      <td>39935</td>\n",
       "    </tr>\n",
       "    <tr>\n",
       "      <th>5</th>\n",
       "      <td>9</td>\n",
       "      <td>722271</td>\n",
       "    </tr>\n",
       "    <tr>\n",
       "      <th>6</th>\n",
       "      <td>10</td>\n",
       "      <td>2888</td>\n",
       "    </tr>\n",
       "    <tr>\n",
       "      <th>7</th>\n",
       "      <td>4</td>\n",
       "      <td>507487</td>\n",
       "    </tr>\n",
       "    <tr>\n",
       "      <th>8</th>\n",
       "      <td>2</td>\n",
       "      <td>26100</td>\n",
       "    </tr>\n",
       "  </tbody>\n",
       "</table>\n",
       "</div>"
      ],
      "text/plain": [
       "  career  sum(label_int)\n",
       "0      7           26589\n",
       "1      3           33877\n",
       "2      8           19871\n",
       "3      5           66470\n",
       "4      6           39935\n",
       "5      9          722271\n",
       "6     10            2888\n",
       "7      4          507487\n",
       "8      2           26100"
      ]
     },
     "execution_count": 373,
     "metadata": {},
     "output_type": "execute_result"
    }
   ],
   "source": [
    "career_click = raw_df.select('career',\"label_int\").groupBy('career').sum(\"label_int\").toPandas()\n",
    "career_click"
   ]
  },
  {
   "cell_type": "code",
   "execution_count": 378,
   "metadata": {},
   "outputs": [
    {
     "data": {
      "text/html": [
       "<div>\n",
       "<style scoped>\n",
       "    .dataframe tbody tr th:only-of-type {\n",
       "        vertical-align: middle;\n",
       "    }\n",
       "\n",
       "    .dataframe tbody tr th {\n",
       "        vertical-align: top;\n",
       "    }\n",
       "\n",
       "    .dataframe thead th {\n",
       "        text-align: right;\n",
       "    }\n",
       "</style>\n",
       "<table border=\"1\" class=\"dataframe\">\n",
       "  <thead>\n",
       "    <tr style=\"text-align: right;\">\n",
       "      <th></th>\n",
       "      <th>sum(label_int)</th>\n",
       "      <th>count</th>\n",
       "    </tr>\n",
       "    <tr>\n",
       "      <th>career</th>\n",
       "      <th></th>\n",
       "      <th></th>\n",
       "    </tr>\n",
       "  </thead>\n",
       "  <tbody>\n",
       "    <tr>\n",
       "      <th>10</th>\n",
       "      <td>2888</td>\n",
       "      <td>81285</td>\n",
       "    </tr>\n",
       "    <tr>\n",
       "      <th>2</th>\n",
       "      <td>26100</td>\n",
       "      <td>961631</td>\n",
       "    </tr>\n",
       "    <tr>\n",
       "      <th>3</th>\n",
       "      <td>33877</td>\n",
       "      <td>1311863</td>\n",
       "    </tr>\n",
       "    <tr>\n",
       "      <th>4</th>\n",
       "      <td>507487</td>\n",
       "      <td>17762020</td>\n",
       "    </tr>\n",
       "    <tr>\n",
       "      <th>5</th>\n",
       "      <td>66470</td>\n",
       "      <td>1866768</td>\n",
       "    </tr>\n",
       "    <tr>\n",
       "      <th>6</th>\n",
       "      <td>39935</td>\n",
       "      <td>1109532</td>\n",
       "    </tr>\n",
       "    <tr>\n",
       "      <th>7</th>\n",
       "      <td>26589</td>\n",
       "      <td>1006608</td>\n",
       "    </tr>\n",
       "    <tr>\n",
       "      <th>8</th>\n",
       "      <td>19871</td>\n",
       "      <td>723044</td>\n",
       "    </tr>\n",
       "    <tr>\n",
       "      <th>9</th>\n",
       "      <td>722271</td>\n",
       "      <td>17084382</td>\n",
       "    </tr>\n",
       "  </tbody>\n",
       "</table>\n",
       "</div>"
      ],
      "text/plain": [
       "        sum(label_int)     count\n",
       "career                          \n",
       "10                2888     81285\n",
       "2                26100    961631\n",
       "3                33877   1311863\n",
       "4               507487  17762020\n",
       "5                66470   1866768\n",
       "6                39935   1109532\n",
       "7                26589   1006608\n",
       "8                19871    723044\n",
       "9               722271  17084382"
      ]
     },
     "execution_count": 378,
     "metadata": {},
     "output_type": "execute_result"
    }
   ],
   "source": [
    "df = pd.merge(career_click,career_count,on=\"career\").set_index(\"career\").sort_index()\n",
    "df"
   ]
  },
  {
   "cell_type": "code",
   "execution_count": 380,
   "metadata": {},
   "outputs": [
    {
     "data": {
      "text/plain": [
       "<AxesSubplot:xlabel='career'>"
      ]
     },
     "execution_count": 380,
     "metadata": {},
     "output_type": "execute_result"
    },
    {
     "data": {
      "image/png": "[encoded data removed]",
      "text/plain": [
       "<Figure size 432x288 with 1 Axes>"
      ]
     },
     "metadata": {
      "needs_background": "light"
     },
     "output_type": "display_data"
    }
   ],
   "source": [
    "(df[\"sum(label_int)\"]/df[\"count\"]).plot.bar()"
   ]
  },
  {
   "cell_type": "markdown",
   "metadata": {},
   "source": [
    "seems like career 10, 5,6,and 9 have higher CTR\n",
    "but how's the actual career distribution among users? if it's possible that these 4 careers are minor careers among users so they can have a higer CTR?"
   ]
  },
  {
   "cell_type": "code",
   "execution_count": 384,
   "metadata": {},
   "outputs": [
    {
     "data": {
      "text/html": [
       "<div>\n",
       "<style scoped>\n",
       "    .dataframe tbody tr th:only-of-type {\n",
       "        vertical-align: middle;\n",
       "    }\n",
       "\n",
       "    .dataframe tbody tr th {\n",
       "        vertical-align: top;\n",
       "    }\n",
       "\n",
       "    .dataframe thead th {\n",
       "        text-align: right;\n",
       "    }\n",
       "</style>\n",
       "<table border=\"1\" class=\"dataframe\">\n",
       "  <thead>\n",
       "    <tr style=\"text-align: right;\">\n",
       "      <th></th>\n",
       "      <th>career</th>\n",
       "      <th>count(uid)</th>\n",
       "    </tr>\n",
       "  </thead>\n",
       "  <tbody>\n",
       "    <tr>\n",
       "      <th>0</th>\n",
       "      <td>7</td>\n",
       "      <td>21739</td>\n",
       "    </tr>\n",
       "    <tr>\n",
       "      <th>1</th>\n",
       "      <td>3</td>\n",
       "      <td>27319</td>\n",
       "    </tr>\n",
       "    <tr>\n",
       "      <th>2</th>\n",
       "      <td>8</td>\n",
       "      <td>16098</td>\n",
       "    </tr>\n",
       "    <tr>\n",
       "      <th>3</th>\n",
       "      <td>5</td>\n",
       "      <td>54226</td>\n",
       "    </tr>\n",
       "    <tr>\n",
       "      <th>4</th>\n",
       "      <td>6</td>\n",
       "      <td>32639</td>\n",
       "    </tr>\n",
       "    <tr>\n",
       "      <th>5</th>\n",
       "      <td>9</td>\n",
       "      <td>506005</td>\n",
       "    </tr>\n",
       "    <tr>\n",
       "      <th>6</th>\n",
       "      <td>10</td>\n",
       "      <td>2354</td>\n",
       "    </tr>\n",
       "    <tr>\n",
       "      <th>7</th>\n",
       "      <td>4</td>\n",
       "      <td>411355</td>\n",
       "    </tr>\n",
       "    <tr>\n",
       "      <th>8</th>\n",
       "      <td>2</td>\n",
       "      <td>26024</td>\n",
       "    </tr>\n",
       "  </tbody>\n",
       "</table>\n",
       "</div>"
      ],
      "text/plain": [
       "  career  count(uid)\n",
       "0      7       21739\n",
       "1      3       27319\n",
       "2      8       16098\n",
       "3      5       54226\n",
       "4      6       32639\n",
       "5      9      506005\n",
       "6     10        2354\n",
       "7      4      411355\n",
       "8      2       26024"
      ]
     },
     "execution_count": 384,
     "metadata": {},
     "output_type": "execute_result"
    }
   ],
   "source": [
    "df = raw_df['uid','career'].groupBy('career').agg(F.countDistinct(\"uid\")).toPandas()\n",
    "df"
   ]
  },
  {
   "cell_type": "code",
   "execution_count": 388,
   "metadata": {},
   "outputs": [
    {
     "data": {
      "text/plain": [
       "1097759"
      ]
     },
     "execution_count": 388,
     "metadata": {},
     "output_type": "execute_result"
    }
   ],
   "source": [
    "df.iloc[:,1].sum()"
   ]
  },
  {
   "cell_type": "code",
   "execution_count": 385,
   "metadata": {},
   "outputs": [
    {
     "data": {
      "text/plain": [
       "<AxesSubplot:xlabel='career'>"
      ]
     },
     "execution_count": 385,
     "metadata": {},
     "output_type": "execute_result"
    },
    {
     "data": {
      "image/png": "[encoded data removed]",
      "text/plain": [
       "<Figure size 432x288 with 1 Axes>"
      ]
     },
     "metadata": {
      "needs_background": "light"
     },
     "output_type": "display_data"
    }
   ],
   "source": [
    "df.set_index(\"career\").sort_index().plot.bar()"
   ]
  },
  {
   "cell_type": "markdown",
   "metadata": {},
   "source": [
    "This chart confirm the reason career 10 has higher CTR because less career 10.\n",
    "career 9 has the highest count but also highest CTR"
   ]
  },
  {
   "cell_type": "markdown",
   "metadata": {},
   "source": [
    "## gender"
   ]
  },
  {
   "cell_type": "code",
   "execution_count": 391,
   "metadata": {},
   "outputs": [
    {
     "data": {
      "text/html": [
       "<div>\n",
       "<style scoped>\n",
       "    .dataframe tbody tr th:only-of-type {\n",
       "        vertical-align: middle;\n",
       "    }\n",
       "\n",
       "    .dataframe tbody tr th {\n",
       "        vertical-align: top;\n",
       "    }\n",
       "\n",
       "    .dataframe thead th {\n",
       "        text-align: right;\n",
       "    }\n",
       "</style>\n",
       "<table border=\"1\" class=\"dataframe\">\n",
       "  <thead>\n",
       "    <tr style=\"text-align: right;\">\n",
       "      <th></th>\n",
       "      <th>gender</th>\n",
       "      <th>count(uid)</th>\n",
       "    </tr>\n",
       "  </thead>\n",
       "  <tbody>\n",
       "    <tr>\n",
       "      <th>0</th>\n",
       "      <td>3</td>\n",
       "      <td>37873</td>\n",
       "    </tr>\n",
       "    <tr>\n",
       "      <th>1</th>\n",
       "      <td>4</td>\n",
       "      <td>250220</td>\n",
       "    </tr>\n",
       "    <tr>\n",
       "      <th>2</th>\n",
       "      <td>2</td>\n",
       "      <td>807676</td>\n",
       "    </tr>\n",
       "  </tbody>\n",
       "</table>\n",
       "</div>"
      ],
      "text/plain": [
       "  gender  count(uid)\n",
       "0      3       37873\n",
       "1      4      250220\n",
       "2      2      807676"
      ]
     },
     "execution_count": 391,
     "metadata": {},
     "output_type": "execute_result"
    }
   ],
   "source": [
    "dist = raw_df['uid','gender'].groupBy('gender').agg(F.countDistinct(\"uid\")).toPandas()\n",
    "dist"
   ]
  },
  {
   "cell_type": "code",
   "execution_count": 395,
   "metadata": {},
   "outputs": [
    {
     "data": {
      "text/plain": [
       "<AxesSubplot:xlabel='gender'>"
      ]
     },
     "execution_count": 395,
     "metadata": {},
     "output_type": "execute_result"
    },
    {
     "data": {
      "image/png": "[encoded data removed]",
      "text/plain": [
       "<Figure size 432x288 with 1 Axes>"
      ]
     },
     "metadata": {
      "needs_background": "light"
     },
     "output_type": "display_data"
    }
   ],
   "source": [
    "dist.set_index(\"gender\").plot.bar()"
   ]
  },
  {
   "cell_type": "code",
   "execution_count": 383,
   "metadata": {},
   "outputs": [
    {
     "data": {
      "text/html": [
       "<div>\n",
       "<style scoped>\n",
       "    .dataframe tbody tr th:only-of-type {\n",
       "        vertical-align: middle;\n",
       "    }\n",
       "\n",
       "    .dataframe tbody tr th {\n",
       "        vertical-align: top;\n",
       "    }\n",
       "\n",
       "    .dataframe thead th {\n",
       "        text-align: right;\n",
       "    }\n",
       "</style>\n",
       "<table border=\"1\" class=\"dataframe\">\n",
       "  <thead>\n",
       "    <tr style=\"text-align: right;\">\n",
       "      <th></th>\n",
       "      <th>gender</th>\n",
       "      <th>count</th>\n",
       "    </tr>\n",
       "  </thead>\n",
       "  <tbody>\n",
       "    <tr>\n",
       "      <th>0</th>\n",
       "      <td>3</td>\n",
       "      <td>514455</td>\n",
       "    </tr>\n",
       "    <tr>\n",
       "      <th>1</th>\n",
       "      <td>4</td>\n",
       "      <td>9225317</td>\n",
       "    </tr>\n",
       "    <tr>\n",
       "      <th>2</th>\n",
       "      <td>2</td>\n",
       "      <td>32167361</td>\n",
       "    </tr>\n",
       "  </tbody>\n",
       "</table>\n",
       "</div>"
      ],
      "text/plain": [
       "  gender     count\n",
       "0      3    514455\n",
       "1      4   9225317\n",
       "2      2  32167361"
      ]
     },
     "execution_count": 383,
     "metadata": {},
     "output_type": "execute_result"
    }
   ],
   "source": [
    "count = raw_df.select('gender').groupBy('gender').count().toPandas()\n",
    "count"
   ]
  },
  {
   "cell_type": "code",
   "execution_count": 390,
   "metadata": {},
   "outputs": [
    {
     "data": {
      "text/html": [
       "<div>\n",
       "<style scoped>\n",
       "    .dataframe tbody tr th:only-of-type {\n",
       "        vertical-align: middle;\n",
       "    }\n",
       "\n",
       "    .dataframe tbody tr th {\n",
       "        vertical-align: top;\n",
       "    }\n",
       "\n",
       "    .dataframe thead th {\n",
       "        text-align: right;\n",
       "    }\n",
       "</style>\n",
       "<table border=\"1\" class=\"dataframe\">\n",
       "  <thead>\n",
       "    <tr style=\"text-align: right;\">\n",
       "      <th></th>\n",
       "      <th>gender</th>\n",
       "      <th>sum(label_int)</th>\n",
       "    </tr>\n",
       "  </thead>\n",
       "  <tbody>\n",
       "    <tr>\n",
       "      <th>0</th>\n",
       "      <td>3</td>\n",
       "      <td>43712</td>\n",
       "    </tr>\n",
       "    <tr>\n",
       "      <th>1</th>\n",
       "      <td>4</td>\n",
       "      <td>314823</td>\n",
       "    </tr>\n",
       "    <tr>\n",
       "      <th>2</th>\n",
       "      <td>2</td>\n",
       "      <td>1086953</td>\n",
       "    </tr>\n",
       "  </tbody>\n",
       "</table>\n",
       "</div>"
      ],
      "text/plain": [
       "  gender  sum(label_int)\n",
       "0      3           43712\n",
       "1      4          314823\n",
       "2      2         1086953"
      ]
     },
     "execution_count": 390,
     "metadata": {},
     "output_type": "execute_result"
    }
   ],
   "source": [
    "click = raw_df.select('gender',\"label_int\").groupBy('gender').sum(\"label_int\").toPandas()\n",
    "click"
   ]
  },
  {
   "cell_type": "code",
   "execution_count": 396,
   "metadata": {},
   "outputs": [
    {
     "data": {
      "text/plain": [
       "gender\n",
       "3    0.084968\n",
       "4    0.034126\n",
       "2    0.033791\n",
       "dtype: float64"
      ]
     },
     "execution_count": 396,
     "metadata": {},
     "output_type": "execute_result"
    }
   ],
   "source": [
    "click.set_index(\"gender\")[\"sum(label_int)\"]/count.set_index(\"gender\")[\"count\"]"
   ]
  },
  {
   "cell_type": "code",
   "execution_count": 397,
   "metadata": {},
   "outputs": [
    {
     "data": {
      "text/plain": [
       "<AxesSubplot:xlabel='gender'>"
      ]
     },
     "execution_count": 397,
     "metadata": {},
     "output_type": "execute_result"
    },
    {
     "data": {
      "image/png": "[encoded data removed]",
      "text/plain": [
       "<Figure size 432x288 with 1 Axes>"
      ]
     },
     "metadata": {
      "needs_background": "light"
     },
     "output_type": "display_data"
    }
   ],
   "source": [
    "(click.set_index(\"gender\")[\"sum(label_int)\"]/count.set_index(\"gender\")[\"count\"]).plot.bar()"
   ]
  },
  {
   "cell_type": "markdown",
   "metadata": {},
   "source": [
    "gender CTR"
   ]
  },
  {
   "cell_type": "markdown",
   "metadata": {},
   "source": [
    "## residence"
   ]
  },
  {
   "cell_type": "code",
   "execution_count": 399,
   "metadata": {},
   "outputs": [
    {
     "data": {
      "text/html": [
       "<div>\n",
       "<style scoped>\n",
       "    .dataframe tbody tr th:only-of-type {\n",
       "        vertical-align: middle;\n",
       "    }\n",
       "\n",
       "    .dataframe tbody tr th {\n",
       "        vertical-align: top;\n",
       "    }\n",
       "\n",
       "    .dataframe thead th {\n",
       "        text-align: right;\n",
       "    }\n",
       "</style>\n",
       "<table border=\"1\" class=\"dataframe\">\n",
       "  <thead>\n",
       "    <tr style=\"text-align: right;\">\n",
       "      <th></th>\n",
       "      <th>residence</th>\n",
       "      <th>count(uid)</th>\n",
       "    </tr>\n",
       "  </thead>\n",
       "  <tbody>\n",
       "    <tr>\n",
       "      <th>0</th>\n",
       "      <td>15</td>\n",
       "      <td>31415</td>\n",
       "    </tr>\n",
       "    <tr>\n",
       "      <th>1</th>\n",
       "      <td>11</td>\n",
       "      <td>22568</td>\n",
       "    </tr>\n",
       "    <tr>\n",
       "      <th>2</th>\n",
       "      <td>29</td>\n",
       "      <td>35797</td>\n",
       "    </tr>\n",
       "    <tr>\n",
       "      <th>3</th>\n",
       "      <td>42</td>\n",
       "      <td>48381</td>\n",
       "    </tr>\n",
       "    <tr>\n",
       "      <th>4</th>\n",
       "      <td>30</td>\n",
       "      <td>17964</td>\n",
       "    </tr>\n",
       "    <tr>\n",
       "      <th>5</th>\n",
       "      <td>34</td>\n",
       "      <td>94373</td>\n",
       "    </tr>\n",
       "    <tr>\n",
       "      <th>6</th>\n",
       "      <td>28</td>\n",
       "      <td>38415</td>\n",
       "    </tr>\n",
       "    <tr>\n",
       "      <th>7</th>\n",
       "      <td>22</td>\n",
       "      <td>7</td>\n",
       "    </tr>\n",
       "    <tr>\n",
       "      <th>8</th>\n",
       "      <td>35</td>\n",
       "      <td>40839</td>\n",
       "    </tr>\n",
       "    <tr>\n",
       "      <th>9</th>\n",
       "      <td>16</td>\n",
       "      <td>2565</td>\n",
       "    </tr>\n",
       "    <tr>\n",
       "      <th>10</th>\n",
       "      <td>43</td>\n",
       "      <td>18509</td>\n",
       "    </tr>\n",
       "    <tr>\n",
       "      <th>11</th>\n",
       "      <td>31</td>\n",
       "      <td>18</td>\n",
       "    </tr>\n",
       "    <tr>\n",
       "      <th>12</th>\n",
       "      <td>18</td>\n",
       "      <td>24879</td>\n",
       "    </tr>\n",
       "    <tr>\n",
       "      <th>13</th>\n",
       "      <td>27</td>\n",
       "      <td>15136</td>\n",
       "    </tr>\n",
       "    <tr>\n",
       "      <th>14</th>\n",
       "      <td>17</td>\n",
       "      <td>2458</td>\n",
       "    </tr>\n",
       "    <tr>\n",
       "      <th>15</th>\n",
       "      <td>26</td>\n",
       "      <td>15198</td>\n",
       "    </tr>\n",
       "    <tr>\n",
       "      <th>16</th>\n",
       "      <td>46</td>\n",
       "      <td>53618</td>\n",
       "    </tr>\n",
       "    <tr>\n",
       "      <th>17</th>\n",
       "      <td>19</td>\n",
       "      <td>17743</td>\n",
       "    </tr>\n",
       "    <tr>\n",
       "      <th>18</th>\n",
       "      <td>41</td>\n",
       "      <td>33922</td>\n",
       "    </tr>\n",
       "    <tr>\n",
       "      <th>19</th>\n",
       "      <td>23</td>\n",
       "      <td>23408</td>\n",
       "    </tr>\n",
       "    <tr>\n",
       "      <th>20</th>\n",
       "      <td>40</td>\n",
       "      <td>11113</td>\n",
       "    </tr>\n",
       "    <tr>\n",
       "      <th>21</th>\n",
       "      <td>38</td>\n",
       "      <td>21129</td>\n",
       "    </tr>\n",
       "    <tr>\n",
       "      <th>22</th>\n",
       "      <td>25</td>\n",
       "      <td>15</td>\n",
       "    </tr>\n",
       "    <tr>\n",
       "      <th>23</th>\n",
       "      <td>44</td>\n",
       "      <td>4522</td>\n",
       "    </tr>\n",
       "    <tr>\n",
       "      <th>24</th>\n",
       "      <td>33</td>\n",
       "      <td>7209</td>\n",
       "    </tr>\n",
       "    <tr>\n",
       "      <th>25</th>\n",
       "      <td>24</td>\n",
       "      <td>11785</td>\n",
       "    </tr>\n",
       "    <tr>\n",
       "      <th>26</th>\n",
       "      <td>32</td>\n",
       "      <td>42810</td>\n",
       "    </tr>\n",
       "    <tr>\n",
       "      <th>27</th>\n",
       "      <td>20</td>\n",
       "      <td>132252</td>\n",
       "    </tr>\n",
       "    <tr>\n",
       "      <th>28</th>\n",
       "      <td>36</td>\n",
       "      <td>8744</td>\n",
       "    </tr>\n",
       "    <tr>\n",
       "      <th>29</th>\n",
       "      <td>37</td>\n",
       "      <td>60062</td>\n",
       "    </tr>\n",
       "    <tr>\n",
       "      <th>30</th>\n",
       "      <td>39</td>\n",
       "      <td>37795</td>\n",
       "    </tr>\n",
       "    <tr>\n",
       "      <th>31</th>\n",
       "      <td>12</td>\n",
       "      <td>73523</td>\n",
       "    </tr>\n",
       "    <tr>\n",
       "      <th>32</th>\n",
       "      <td>13</td>\n",
       "      <td>28241</td>\n",
       "    </tr>\n",
       "    <tr>\n",
       "      <th>33</th>\n",
       "      <td>21</td>\n",
       "      <td>56906</td>\n",
       "    </tr>\n",
       "    <tr>\n",
       "      <th>34</th>\n",
       "      <td>14</td>\n",
       "      <td>43306</td>\n",
       "    </tr>\n",
       "    <tr>\n",
       "      <th>35</th>\n",
       "      <td>45</td>\n",
       "      <td>31577</td>\n",
       "    </tr>\n",
       "  </tbody>\n",
       "</table>\n",
       "</div>"
      ],
      "text/plain": [
       "   residence  count(uid)\n",
       "0         15       31415\n",
       "1         11       22568\n",
       "2         29       35797\n",
       "3         42       48381\n",
       "4         30       17964\n",
       "5         34       94373\n",
       "6         28       38415\n",
       "7         22           7\n",
       "8         35       40839\n",
       "9         16        2565\n",
       "10        43       18509\n",
       "11        31          18\n",
       "12        18       24879\n",
       "13        27       15136\n",
       "14        17        2458\n",
       "15        26       15198\n",
       "16        46       53618\n",
       "17        19       17743\n",
       "18        41       33922\n",
       "19        23       23408\n",
       "20        40       11113\n",
       "21        38       21129\n",
       "22        25          15\n",
       "23        44        4522\n",
       "24        33        7209\n",
       "25        24       11785\n",
       "26        32       42810\n",
       "27        20      132252\n",
       "28        36        8744\n",
       "29        37       60062\n",
       "30        39       37795\n",
       "31        12       73523\n",
       "32        13       28241\n",
       "33        21       56906\n",
       "34        14       43306\n",
       "35        45       31577"
      ]
     },
     "execution_count": 399,
     "metadata": {},
     "output_type": "execute_result"
    }
   ],
   "source": [
    "dist = raw_df['uid','residence'].groupBy('residence').agg(F.countDistinct(\"uid\")).toPandas()\n",
    "dist"
   ]
  },
  {
   "cell_type": "code",
   "execution_count": 400,
   "metadata": {},
   "outputs": [
    {
     "data": {
      "text/plain": [
       "<AxesSubplot:xlabel='residence'>"
      ]
     },
     "execution_count": 400,
     "metadata": {},
     "output_type": "execute_result"
    },
    {
     "data": {
      "image/png": "[encoded data removed]",
      "text/plain": [
       "<Figure size 432x288 with 1 Axes>"
      ]
     },
     "metadata": {
      "needs_background": "light"
     },
     "output_type": "display_data"
    }
   ],
   "source": [
    "dist.set_index(\"residence\").sort_values(\"count(uid)\").plot.bar()"
   ]
  },
  {
   "cell_type": "code",
   "execution_count": 401,
   "metadata": {},
   "outputs": [],
   "source": [
    "count = raw_df.select('residence').groupBy('residence').count().toPandas().set_index(\"residence\")\n",
    "click = raw_df.select('residence',\"label_int\").groupBy('residence').sum(\"label_int\").toPandas().set_index(\"residence\")"
   ]
  },
  {
   "cell_type": "code",
   "execution_count": 407,
   "metadata": {},
   "outputs": [
    {
     "data": {
      "text/plain": [
       "<AxesSubplot:xlabel='residence'>"
      ]
     },
     "execution_count": 407,
     "metadata": {},
     "output_type": "execute_result"
    },
    {
     "data": {
      "image/png": "[encoded data removed]",
      "text/plain": [
       "<Figure size 432x288 with 1 Axes>"
      ]
     },
     "metadata": {
      "needs_background": "light"
     },
     "output_type": "display_data"
    }
   ],
   "source": [
    "(click[\"sum(label_int)\"]/count[\"count\"]).plot.bar()"
   ]
  },
  {
   "cell_type": "markdown",
   "metadata": {},
   "source": [
    "wow, 11 and 22 has two most highest CTR we I've seen sot far in EDA\n",
    "\n",
    "but again, 22 has higer CTR because it shows up less in the whole dataset.\n",
    "11 seems ligit though"
   ]
  },
  {
   "cell_type": "markdown",
   "metadata": {},
   "source": [
    "## up_life_duration"
   ]
  },
  {
   "cell_type": "code",
   "execution_count": 408,
   "metadata": {},
   "outputs": [
    {
     "data": {
      "text/html": [
       "<div>\n",
       "<style scoped>\n",
       "    .dataframe tbody tr th:only-of-type {\n",
       "        vertical-align: middle;\n",
       "    }\n",
       "\n",
       "    .dataframe tbody tr th {\n",
       "        vertical-align: top;\n",
       "    }\n",
       "\n",
       "    .dataframe thead th {\n",
       "        text-align: right;\n",
       "    }\n",
       "</style>\n",
       "<table border=\"1\" class=\"dataframe\">\n",
       "  <thead>\n",
       "    <tr style=\"text-align: right;\">\n",
       "      <th></th>\n",
       "      <th>up_life_duration</th>\n",
       "      <th>count(uid)</th>\n",
       "    </tr>\n",
       "  </thead>\n",
       "  <tbody>\n",
       "    <tr>\n",
       "      <th>0</th>\n",
       "      <td>7</td>\n",
       "      <td>6813</td>\n",
       "    </tr>\n",
       "    <tr>\n",
       "      <th>1</th>\n",
       "      <td>-1</td>\n",
       "      <td>355286</td>\n",
       "    </tr>\n",
       "    <tr>\n",
       "      <th>2</th>\n",
       "      <td>15</td>\n",
       "      <td>5850</td>\n",
       "    </tr>\n",
       "    <tr>\n",
       "      <th>3</th>\n",
       "      <td>11</td>\n",
       "      <td>14918</td>\n",
       "    </tr>\n",
       "    <tr>\n",
       "      <th>4</th>\n",
       "      <td>3</td>\n",
       "      <td>6413</td>\n",
       "    </tr>\n",
       "    <tr>\n",
       "      <th>5</th>\n",
       "      <td>8</td>\n",
       "      <td>6661</td>\n",
       "    </tr>\n",
       "    <tr>\n",
       "      <th>6</th>\n",
       "      <td>16</td>\n",
       "      <td>44312</td>\n",
       "    </tr>\n",
       "    <tr>\n",
       "      <th>7</th>\n",
       "      <td>5</td>\n",
       "      <td>6501</td>\n",
       "    </tr>\n",
       "    <tr>\n",
       "      <th>8</th>\n",
       "      <td>18</td>\n",
       "      <td>259514</td>\n",
       "    </tr>\n",
       "    <tr>\n",
       "      <th>9</th>\n",
       "      <td>17</td>\n",
       "      <td>4043</td>\n",
       "    </tr>\n",
       "    <tr>\n",
       "      <th>10</th>\n",
       "      <td>6</td>\n",
       "      <td>6718</td>\n",
       "    </tr>\n",
       "    <tr>\n",
       "      <th>11</th>\n",
       "      <td>19</td>\n",
       "      <td>2034</td>\n",
       "    </tr>\n",
       "    <tr>\n",
       "      <th>12</th>\n",
       "      <td>9</td>\n",
       "      <td>19463</td>\n",
       "    </tr>\n",
       "    <tr>\n",
       "      <th>13</th>\n",
       "      <td>1</td>\n",
       "      <td>5337</td>\n",
       "    </tr>\n",
       "    <tr>\n",
       "      <th>14</th>\n",
       "      <td>20</td>\n",
       "      <td>376958</td>\n",
       "    </tr>\n",
       "    <tr>\n",
       "      <th>15</th>\n",
       "      <td>10</td>\n",
       "      <td>6502</td>\n",
       "    </tr>\n",
       "    <tr>\n",
       "      <th>16</th>\n",
       "      <td>4</td>\n",
       "      <td>6423</td>\n",
       "    </tr>\n",
       "    <tr>\n",
       "      <th>17</th>\n",
       "      <td>12</td>\n",
       "      <td>18748</td>\n",
       "    </tr>\n",
       "    <tr>\n",
       "      <th>18</th>\n",
       "      <td>13</td>\n",
       "      <td>6348</td>\n",
       "    </tr>\n",
       "    <tr>\n",
       "      <th>19</th>\n",
       "      <td>14</td>\n",
       "      <td>50257</td>\n",
       "    </tr>\n",
       "    <tr>\n",
       "      <th>20</th>\n",
       "      <td>2</td>\n",
       "      <td>6063</td>\n",
       "    </tr>\n",
       "  </tbody>\n",
       "</table>\n",
       "</div>"
      ],
      "text/plain": [
       "   up_life_duration  count(uid)\n",
       "0                 7        6813\n",
       "1                -1      355286\n",
       "2                15        5850\n",
       "3                11       14918\n",
       "4                 3        6413\n",
       "5                 8        6661\n",
       "6                16       44312\n",
       "7                 5        6501\n",
       "8                18      259514\n",
       "9                17        4043\n",
       "10                6        6718\n",
       "11               19        2034\n",
       "12                9       19463\n",
       "13                1        5337\n",
       "14               20      376958\n",
       "15               10        6502\n",
       "16                4        6423\n",
       "17               12       18748\n",
       "18               13        6348\n",
       "19               14       50257\n",
       "20                2        6063"
      ]
     },
     "execution_count": 408,
     "metadata": {},
     "output_type": "execute_result"
    }
   ],
   "source": [
    "dist = raw_df['uid','up_life_duration'].groupBy('up_life_duration').agg(F.countDistinct(\"uid\")).toPandas()\n",
    "dist"
   ]
  },
  {
   "cell_type": "code",
   "execution_count": 414,
   "metadata": {},
   "outputs": [
    {
     "data": {
      "text/plain": [
       "<AxesSubplot:xlabel='up_life_duration'>"
      ]
     },
     "execution_count": 414,
     "metadata": {},
     "output_type": "execute_result"
    },
    {
     "data": {
      "image/png": "[encoded data removed]",
      "text/plain": [
       "<Figure size 432x288 with 1 Axes>"
      ]
     },
     "metadata": {
      "needs_background": "light"
     },
     "output_type": "display_data"
    }
   ],
   "source": [
    "dist.set_index(\"up_life_duration\").sort_values(\"count(uid)\").plot.bar()"
   ]
  },
  {
   "cell_type": "code",
   "execution_count": 518,
   "metadata": {},
   "outputs": [],
   "source": [
    "col = \"up_life_duration\"\n",
    "count = raw_df.select(col).groupBy(col).count().toPandas().set_index(col)\n",
    "click = raw_df.select(col,\"label_int\").groupBy(col).sum(\"label_int\").toPandas().set_index(col)"
   ]
  },
  {
   "cell_type": "code",
   "execution_count": 523,
   "metadata": {},
   "outputs": [
    {
     "data": {
      "text/plain": [
       "<AxesSubplot:xlabel='up_life_duration'>"
      ]
     },
     "execution_count": 523,
     "metadata": {},
     "output_type": "execute_result"
    },
    {
     "data": {
      "image/png": "[encoded data removed]",
      "text/plain": [
       "<Figure size 432x288 with 1 Axes>"
      ]
     },
     "metadata": {
      "needs_background": "light"
     },
     "output_type": "display_data"
    }
   ],
   "source": [
    "count.index = count.index.astype(int)\n",
    "count.sort_index().plot.bar()"
   ]
  },
  {
   "cell_type": "markdown",
   "metadata": {},
   "source": [
    "following cell check if ads distributed across up_life_duration evenly"
   ]
  },
  {
   "cell_type": "code",
   "execution_count": 522,
   "metadata": {},
   "outputs": [
    {
     "data": {
      "text/plain": [
       "<AxesSubplot:xlabel='up_life_duration'>"
      ]
     },
     "execution_count": 522,
     "metadata": {},
     "output_type": "execute_result"
    },
    {
     "data": {
      "image/png": "[encoded data removed]",
      "text/plain": [
       "<Figure size 432x288 with 1 Axes>"
      ]
     },
     "metadata": {
      "needs_background": "light"
     },
     "output_type": "display_data"
    }
   ],
   "source": [
    "click.index = click.index.astype(int)\n",
    "click.sort_index().plot.bar()"
   ]
  },
  {
   "cell_type": "code",
   "execution_count": 524,
   "metadata": {},
   "outputs": [
    {
     "data": {
      "text/plain": [
       "<matplotlib.collections.LineCollection at 0x7f0e02134780>"
      ]
     },
     "execution_count": 524,
     "metadata": {},
     "output_type": "execute_result"
    },
    {
     "data": {
      "image/png": "[encoded data removed]",
      "text/plain": [
       "<Figure size 432x288 with 1 Axes>"
      ]
     },
     "metadata": {
      "needs_background": "light"
     },
     "output_type": "display_data"
    }
   ],
   "source": [
    "(click.iloc[:,0]/count.iloc[:,0]).sort_index().plot.bar()\n",
    "plt.hlines(0.035, 0, 24,linestyles='dashed',colors=\"r\")"
   ]
  },
  {
   "cell_type": "markdown",
   "metadata": {},
   "source": [
    "I suspect the reason 1- 17 can have higer CTR is because they havea smaller denominator.\n",
    "What interesting is that even 19 has a smaller total count, it still has ower CTR"
   ]
  },
  {
   "cell_type": "markdown",
   "metadata": {},
   "source": [
    "## up_membership_grade"
   ]
  },
  {
   "cell_type": "code",
   "execution_count": 449,
   "metadata": {},
   "outputs": [
    {
     "data": {
      "text/plain": [
       "<AxesSubplot:xlabel='up_membership_grade'>"
      ]
     },
     "execution_count": 449,
     "metadata": {},
     "output_type": "execute_result"
    },
    {
     "data": {
      "image/png": "[encoded data removed]",
      "text/plain": [
       "<Figure size 432x288 with 1 Axes>"
      ]
     },
     "metadata": {
      "needs_background": "light"
     },
     "output_type": "display_data"
    }
   ],
   "source": [
    "col = \"up_membership_grade\"\n",
    "dist = raw_df['uid',col].groupBy(col).agg(F.countDistinct(\"uid\")).toPandas()\n",
    "dist.set_index(col).sort_index().plot.bar()"
   ]
  },
  {
   "cell_type": "code",
   "execution_count": 451,
   "metadata": {},
   "outputs": [
    {
     "data": {
      "text/html": [
       "<div>\n",
       "<style scoped>\n",
       "    .dataframe tbody tr th:only-of-type {\n",
       "        vertical-align: middle;\n",
       "    }\n",
       "\n",
       "    .dataframe tbody tr th {\n",
       "        vertical-align: top;\n",
       "    }\n",
       "\n",
       "    .dataframe thead th {\n",
       "        text-align: right;\n",
       "    }\n",
       "</style>\n",
       "<table border=\"1\" class=\"dataframe\">\n",
       "  <thead>\n",
       "    <tr style=\"text-align: right;\">\n",
       "      <th></th>\n",
       "      <th>up_membership_grade</th>\n",
       "      <th>count(uid)</th>\n",
       "    </tr>\n",
       "  </thead>\n",
       "  <tbody>\n",
       "    <tr>\n",
       "      <th>0</th>\n",
       "      <td>-1</td>\n",
       "      <td>979858</td>\n",
       "    </tr>\n",
       "    <tr>\n",
       "      <th>1</th>\n",
       "      <td>3</td>\n",
       "      <td>318</td>\n",
       "    </tr>\n",
       "    <tr>\n",
       "      <th>2</th>\n",
       "      <td>1</td>\n",
       "      <td>115303</td>\n",
       "    </tr>\n",
       "    <tr>\n",
       "      <th>3</th>\n",
       "      <td>2</td>\n",
       "      <td>957</td>\n",
       "    </tr>\n",
       "  </tbody>\n",
       "</table>\n",
       "</div>"
      ],
      "text/plain": [
       "  up_membership_grade  count(uid)\n",
       "0                  -1      979858\n",
       "1                   3         318\n",
       "2                   1      115303\n",
       "3                   2         957"
      ]
     },
     "execution_count": 451,
     "metadata": {},
     "output_type": "execute_result"
    }
   ],
   "source": [
    "dist"
   ]
  },
  {
   "cell_type": "code",
   "execution_count": 450,
   "metadata": {},
   "outputs": [
    {
     "name": "stdout",
     "output_type": "stream",
     "text": [
      "CTR\n"
     ]
    },
    {
     "data": {
      "text/plain": [
       "<AxesSubplot:xlabel='up_membership_grade'>"
      ]
     },
     "execution_count": 450,
     "metadata": {},
     "output_type": "execute_result"
    },
    {
     "data": {
      "image/png": "[encoded data removed]",
      "text/plain": [
       "<Figure size 432x288 with 1 Axes>"
      ]
     },
     "metadata": {
      "needs_background": "light"
     },
     "output_type": "display_data"
    }
   ],
   "source": [
    "count = raw_df.select(col).groupBy(col).count().toPandas().set_index(col)\n",
    "click = raw_df.select(col,\"label_int\").groupBy(col).sum(\"label_int\").toPandas().set_index(col)\n",
    "print(\"CTR\")\n",
    "(click.iloc[:,0]/count.iloc[:,0]).sort_values().plot.bar()"
   ]
  },
  {
   "cell_type": "markdown",
   "metadata": {},
   "source": [
    "seems like most of them are -1, and the highest CTR here doesn't surpass total CTR which is 3.5%\n",
    "this column seems not very useful to me"
   ]
  },
  {
   "cell_type": "markdown",
   "metadata": {},
   "source": [
    "## communication_onlinerate"
   ]
  },
  {
   "cell_type": "code",
   "execution_count": 458,
   "metadata": {},
   "outputs": [
    {
     "name": "stdout",
     "output_type": "stream",
     "text": [
      "+------------------------+\n",
      "|communication_onlinerate|\n",
      "+------------------------+\n",
      "|    0^1^2^3^4^5^6^7^8...|\n",
      "|    3^4^5^6^7^8^9^10^...|\n",
      "|    0^1^2^3^4^5^6^7^8...|\n",
      "|    5^6^7^8^9^10^11^1...|\n",
      "|    2^3^4^5^6^7^8^9^1...|\n",
      "|    6^7^8^9^10^11^12^...|\n",
      "|    0^1^2^3^4^5^6^7^8...|\n",
      "|    14^15^16^17^18^19...|\n",
      "|    1^2^3^4^5^6^7^8^9...|\n",
      "|    6^7^8^9^10^11^12^...|\n",
      "|    6^7^8^9^10^11^12^...|\n",
      "|                21^22^23|\n",
      "|    2^3^4^5^6^7^8^9^1...|\n",
      "|    6^7^8^9^10^11^12^...|\n",
      "|    4^5^6^7^8^9^10^11...|\n",
      "|    7^8^9^10^11^12^13...|\n",
      "|    6^7^8^9^10^11^12^...|\n",
      "|    6^7^8^9^10^11^12^...|\n",
      "|    4^5^6^7^8^9^10^11...|\n",
      "|    6^7^8^9^10^11^12^...|\n",
      "+------------------------+\n",
      "only showing top 20 rows\n",
      "\n"
     ]
    }
   ],
   "source": [
    "raw_df.select(\"communication_onlinerate\").show()"
   ]
  },
  {
   "cell_type": "code",
   "execution_count": 473,
   "metadata": {},
   "outputs": [
    {
     "name": "stdout",
     "output_type": "stream",
     "text": [
      "+--------------------------------------+\n",
      "|split(communication_onlinerate, ^, -1)|\n",
      "+--------------------------------------+\n",
      "|                  [0^1^2^3^4^5^6^7^...|\n",
      "|                  [3^4^5^6^7^8^9^10...|\n",
      "|                  [0^1^2^3^4^5^6^7^...|\n",
      "|                  [5^6^7^8^9^10^11^...|\n",
      "|                  [2^3^4^5^6^7^8^9^...|\n",
      "|                  [6^7^8^9^10^11^12...|\n",
      "|                  [0^1^2^3^4^5^6^7^...|\n",
      "|                  [14^15^16^17^18^1...|\n",
      "|                  [1^2^3^4^5^6^7^8^...|\n",
      "|                  [6^7^8^9^10^11^12...|\n",
      "|                  [6^7^8^9^10^11^12...|\n",
      "|                            [21^22^23]|\n",
      "|                  [2^3^4^5^6^7^8^9^...|\n",
      "|                  [6^7^8^9^10^11^12...|\n",
      "|                  [4^5^6^7^8^9^10^1...|\n",
      "|                  [7^8^9^10^11^12^1...|\n",
      "|                  [6^7^8^9^10^11^12...|\n",
      "|                  [6^7^8^9^10^11^12...|\n",
      "|                  [4^5^6^7^8^9^10^1...|\n",
      "|                  [6^7^8^9^10^11^12...|\n",
      "+--------------------------------------+\n",
      "only showing top 20 rows\n",
      "\n"
     ]
    }
   ],
   "source": [
    "raw_df.select(F.split(raw_df.communication_onlinerate,\"^\")).show()"
   ]
  },
  {
   "cell_type": "markdown",
   "metadata": {},
   "source": [
    "So weird that it didn't split on \"^\", I have to try another way"
   ]
  },
  {
   "cell_type": "code",
   "execution_count": 496,
   "metadata": {},
   "outputs": [],
   "source": [
    "raw_df = raw_df.withColumn(\"start_communication_onlinerate\",raw_df.communication_onlinerate.substr(1,2))\n",
    "raw_df = raw_df.withColumn(\"start_communication_onlinerate\",F.regexp_extract(raw_df.start_communication_onlinerate,r'(\\d+)',1))"
   ]
  },
  {
   "cell_type": "code",
   "execution_count": 497,
   "metadata": {},
   "outputs": [],
   "source": [
    "raw_df = raw_df.withColumn(\"last_communication_onlinerate\",raw_df.communication_onlinerate.substr(-2,2))\n",
    "raw_df = raw_df.withColumn(\"last_communication_onlinerate\",F.regexp_extract(raw_df.last_communication_onlinerate,r'(\\d+)',1))"
   ]
  },
  {
   "cell_type": "code",
   "execution_count": 498,
   "metadata": {},
   "outputs": [
    {
     "name": "stdout",
     "output_type": "stream",
     "text": [
      "+------------------------------+-----------------------------+\n",
      "|start_communication_onlinerate|last_communication_onlinerate|\n",
      "+------------------------------+-----------------------------+\n",
      "|                             0|                           23|\n",
      "|                             3|                           23|\n",
      "|                             0|                           23|\n",
      "|                             5|                           23|\n",
      "|                             2|                           23|\n",
      "|                             6|                           23|\n",
      "|                             0|                           23|\n",
      "|                            14|                           23|\n",
      "|                             1|                           23|\n",
      "|                             6|                           23|\n",
      "|                             6|                           23|\n",
      "|                            21|                           23|\n",
      "|                             2|                           23|\n",
      "|                             6|                           23|\n",
      "|                             4|                           23|\n",
      "|                             7|                           23|\n",
      "|                             6|                           23|\n",
      "|                             6|                           23|\n",
      "|                             4|                           23|\n",
      "|                             6|                           23|\n",
      "+------------------------------+-----------------------------+\n",
      "only showing top 20 rows\n",
      "\n"
     ]
    }
   ],
   "source": [
    "raw_df.select(\"start_communication_onlinerate\",\"last_communication_onlinerate\").show()"
   ]
  },
  {
   "cell_type": "code",
   "execution_count": 504,
   "metadata": {},
   "outputs": [
    {
     "name": "stdout",
     "output_type": "stream",
     "text": [
      "+-----+-------+-------+------+-------------+-----------+------+-------------+-------+-------------+----+---------------+----------------+---+----+---------+-----------+-----------+------+------+--------+---------+------------+-----------------+---------+--------+---------+------------+----------------+-------------------+------------------------+----------------+------------------------+---------------------------+---------+----+---------+------------------------------+-----------------------------+---------------------------------+\n",
      "|label|    uid|task_id|adv_id|creat_type_cd|adv_prim_id|dev_id|inter_type_cd|slot_id|spread_app_id|tags|app_first_class|app_second_class|age|city|city_rank|device_name|device_size|career|gender|net_type|residence|his_app_size|his_on_shelf_time|app_score|emui_dev|list_time|device_price|up_life_duration|up_membership_grade|membership_life_duration|consume_purchase|communication_onlinerate|communication_avgonline_30d|indu_name|pt_d|label_int|start_communication_onlinerate|last_communication_onlinerate|duration_communication_onlinerate|\n",
      "+-----+-------+-------+------+-------------+-----------+------+-------------+-------+-------------+----+---------------+----------------+---+----+---------+-----------+-----------+------+------+--------+---------+------------+-----------------+---------+--------+---------+------------+----------------+-------------------+------------------------+----------------+------------------------+---------------------------+---------+----+---------+------------------------------+-----------------------------+---------------------------------+\n",
      "|    0|1916310|   1446|  1592|            7|        175|    37|            4|     13|           34|  40|              4|              25|  7| 138|        3|         80|        156|     5|     4|       2|       45|          17|                3|        2|      14|        7|           1|              -1|                 -1|                      -1|               2|                       0|                          4|       17|   7|        0|                             0|                            0|                              0.0|\n",
      "|    0|1916310|   4975|  1249|            6|        193|    37|            5|     18|           50|  37|              4|              21|  7| 138|        3|         80|        156|     5|     4|       2|       45|           6|                3|        2|      14|        7|           1|              -1|                 -1|                      -1|               2|                       0|                          4|       17|   7|        0|                             0|                            0|                              0.0|\n",
      "|    0|1916310|   1781|  4067|            7|        207|    17|            5|     12|           13|  37|              4|              21|  7| 138|        3|         80|        156|     5|     4|       2|       45|           4|                3|        2|      14|        7|           1|              -1|                 -1|                      -1|               2|                       0|                          4|       17|   7|        0|                             0|                            0|                              0.0|\n",
      "|    0|1916310|   4424|  2233|            7|        168|    37|            5|     21|           44|  40|              4|              25|  7| 138|        3|         80|        156|     5|     4|       2|       45|           9|                3|        2|      14|        7|           1|              -1|                 -1|                      -1|               2|                       0|                          4|       17|   7|        0|                             0|                            0|                              0.0|\n",
      "|    0|1916310|   1217|  4304|            7|        156|    56|            5|     21|           58|  37|              4|              21|  7| 138|        3|         80|        156|     5|     4|       2|       45|          14|                3|        2|      14|        7|           1|              -1|                 -1|                      -1|               2|                       0|                          4|       17|   7|        0|                             0|                            0|                              0.0|\n",
      "|    0|1916310|   3385|  6388|            7|        177|    56|            5|     19|           31|  40|              4|              25|  7| 138|        3|         80|        156|     5|     4|       2|       45|          13|                3|        2|      14|        7|           1|              -1|                 -1|                      -1|               2|                       0|                          4|       17|   7|        0|                             0|                            0|                              0.0|\n",
      "|    0|1916310|   3953|  3418|            7|        130|    30|            5|     15|           28|  39|              4|              17|  7| 138|        3|         80|        156|     5|     4|       2|       45|           6|                2|        2|      14|        7|           1|              -1|                 -1|                      -1|               2|                       0|                          4|       36|   7|        0|                             0|                            0|                              0.0|\n",
      "+-----+-------+-------+------+-------------+-----------+------+-------------+-------+-------------+----+---------------+----------------+---+----+---------+-----------+-----------+------+------+--------+---------+------------+-----------------+---------+--------+---------+------------+----------------+-------------------+------------------------+----------------+------------------------+---------------------------+---------+----+---------+------------------------------+-----------------------------+---------------------------------+\n",
      "\n"
     ]
    }
   ],
   "source": [
    "raw_df.select(raw_df.last_communication_onlinerate == 0).show()"
   ]
  },
  {
   "cell_type": "markdown",
   "metadata": {},
   "source": [
    "There are entries ends with 0, replace it with 24"
   ]
  },
  {
   "cell_type": "code",
   "execution_count": 505,
   "metadata": {},
   "outputs": [],
   "source": [
    "raw_df = raw_df.withColumn(\"last_communication_onlinerate\"\\\n",
    "                           ,raw_df.last_communication_onlinerate + 24 - raw_df.last_communication_onlinerate)"
   ]
  },
  {
   "cell_type": "code",
   "execution_count": 506,
   "metadata": {},
   "outputs": [],
   "source": [
    "raw_df = raw_df.withColumn(\"duration_communication_onlinerate\"\\\n",
    "                  ,raw_df.last_communication_onlinerate-raw_df.start_communication_onlinerate)"
   ]
  },
  {
   "cell_type": "code",
   "execution_count": 507,
   "metadata": {},
   "outputs": [
    {
     "data": {
      "text/plain": [
       "<AxesSubplot:xlabel='duration_communication_onlinerate'>"
      ]
     },
     "execution_count": 507,
     "metadata": {},
     "output_type": "execute_result"
    },
    {
     "data": {
      "image/png": "[encoded data removed]",
      "text/plain": [
       "<Figure size 432x288 with 1 Axes>"
      ]
     },
     "metadata": {
      "needs_background": "light"
     },
     "output_type": "display_data"
    }
   ],
   "source": [
    "col = \"duration_communication_onlinerate\"\n",
    "dist = raw_df['uid',col].groupBy(col).agg(F.countDistinct(\"uid\")).toPandas()\n",
    "dist.set_index(col).sort_index().plot.bar()"
   ]
  },
  {
   "cell_type": "markdown",
   "metadata": {},
   "source": [
    "interesting that a lot users active either 18 or 24 hours a day.\n",
    "I suppose users active 18 hours means that those users are using plone all the time while awake.\n",
    "I guess users active 24 hours means there is some app still open so the plone didn't go off. or they do keep awake 24 hours and using it 24 hrs."
   ]
  },
  {
   "cell_type": "code",
   "execution_count": 515,
   "metadata": {},
   "outputs": [],
   "source": [
    "count = raw_df.select(col).groupBy(col).count().toPandas().set_index(col)\n",
    "click = raw_df.select(col,\"label_int\").groupBy(col).sum(\"label_int\").toPandas().set_index(col)"
   ]
  },
  {
   "cell_type": "code",
   "execution_count": 516,
   "metadata": {},
   "outputs": [
    {
     "name": "stdout",
     "output_type": "stream",
     "text": [
      "CTR\n"
     ]
    },
    {
     "data": {
      "text/plain": [
       "<matplotlib.collections.LineCollection at 0x7f0e02a73f98>"
      ]
     },
     "execution_count": 516,
     "metadata": {},
     "output_type": "execute_result"
    },
    {
     "data": {
      "image/png": "[encoded data removed]",
      "text/plain": [
       "<Figure size 432x288 with 1 Axes>"
      ]
     },
     "metadata": {
      "needs_background": "light"
     },
     "output_type": "display_data"
    }
   ],
   "source": [
    "print(\"CTR\")\n",
    "(click.iloc[:,0]/count.iloc[:,0]).sort_index().plot.bar()\n",
    "plt.hlines(0.05, 0, 24,linestyles='dashed',colors=\"r\")"
   ]
  },
  {
   "cell_type": "markdown",
   "metadata": {},
   "source": [
    "seems like being active 2 to 6 hours means true \"active\" users. especially 3 hrs.\n",
    "furthermore, among this range, being active 3 hrs-ish makes people want to click the ads.\n",
    "My assumption is that \n",
    "1. 3 hrs is the limit people can resist himself from clicking ads that keeps showing again and again  \n",
    "2. or users was tired using same app 3 hrs, his dropped his guard and then finally click the ads\n",
    "3. or there is an ad super interesing that most users will click, however 3 hrs is a cycle that all ads can be dispyayed to users. so using app 3hrs gurantee at least once that fun ad was displayed to users. I will combine this assumption with later ads discovery to confirm my theory"
   ]
  },
  {
   "cell_type": "markdown",
   "metadata": {},
   "source": [
    "## communication_avgonline_30d"
   ]
  },
  {
   "cell_type": "code",
   "execution_count": 541,
   "metadata": {},
   "outputs": [
    {
     "data": {
      "text/plain": [
       "<AxesSubplot:xlabel='communication_avgonline_30d'>"
      ]
     },
     "execution_count": 541,
     "metadata": {},
     "output_type": "execute_result"
    },
    {
     "data": {
      "image/png": "[encoded data removed]",
      "text/plain": [
       "<Figure size 432x288 with 1 Axes>"
      ]
     },
     "metadata": {
      "needs_background": "light"
     },
     "output_type": "display_data"
    }
   ],
   "source": [
    "col = \"communication_avgonline_30d\"\n",
    "dist = raw_df.select(col).groupBy(col).count().toPandas()\n",
    "dist = dist.set_index(col)\n",
    "dist.index = dist.index.astype(int)\n",
    "dist.sort_index().plot.bar()"
   ]
  },
  {
   "cell_type": "code",
   "execution_count": 540,
   "metadata": {},
   "outputs": [
    {
     "data": {
      "text/plain": [
       "<AxesSubplot:xlabel='communication_avgonline_30d'>"
      ]
     },
     "execution_count": 540,
     "metadata": {},
     "output_type": "execute_result"
    },
    {
     "data": {
      "image/png": "[encoded data removed]",
      "text/plain": [
       "<Figure size 432x288 with 1 Axes>"
      ]
     },
     "metadata": {
      "needs_background": "light"
     },
     "output_type": "display_data"
    }
   ],
   "source": [
    "dist = raw_df['uid',col].groupBy(col).agg(F.countDistinct(\"uid\")).toPandas()\n",
    "dist = dist.set_index(col)\n",
    "dist.index = dist.index.astype(int)\n",
    "dist.sort_index().plot.bar()"
   ]
  },
  {
   "cell_type": "code",
   "execution_count": 535,
   "metadata": {},
   "outputs": [],
   "source": [
    "count = raw_df.select(col).groupBy(col).count().toPandas().set_index(col)\n",
    "click = raw_df.select(col,\"label_int\").groupBy(col).sum(\"label_int\").toPandas().set_index(col)"
   ]
  },
  {
   "cell_type": "code",
   "execution_count": 537,
   "metadata": {},
   "outputs": [
    {
     "name": "stdout",
     "output_type": "stream",
     "text": [
      "CTR\n"
     ]
    },
    {
     "data": {
      "text/plain": [
       "<matplotlib.collections.LineCollection at 0x7f0e01b6a198>"
      ]
     },
     "execution_count": 537,
     "metadata": {},
     "output_type": "execute_result"
    },
    {
     "data": {
      "image/png": "[encoded data removed]",
      "text/plain": [
       "<Figure size 432x288 with 1 Axes>"
      ]
     },
     "metadata": {
      "needs_background": "light"
     },
     "output_type": "display_data"
    }
   ],
   "source": [
    "print(\"CTR\")\n",
    "df = click.iloc[:,0]/count.iloc[:,0]\n",
    "df.index = df.index.astype(int)\n",
    "df.sort_index().plot.bar()\n",
    "plt.hlines(0.035, 0, 24,linestyles='dashed',colors=\"r\")"
   ]
  },
  {
   "cell_type": "markdown",
   "metadata": {},
   "source": [
    "## consume_purchase"
   ]
  },
  {
   "cell_type": "code",
   "execution_count": 531,
   "metadata": {},
   "outputs": [
    {
     "data": {
      "text/plain": [
       "<AxesSubplot:xlabel='consume_purchase'>"
      ]
     },
     "execution_count": 531,
     "metadata": {},
     "output_type": "execute_result"
    },
    {
     "data": {
      "image/png": "[encoded data removed]",
      "text/plain": [
       "<Figure size 432x288 with 1 Axes>"
      ]
     },
     "metadata": {
      "needs_background": "light"
     },
     "output_type": "display_data"
    }
   ],
   "source": [
    "col = \"consume_purchase\"\n",
    "raw_df.select(col).groupBy(col).count().toPandas().set_index(col).sort_index().plot.bar()"
   ]
  },
  {
   "cell_type": "code",
   "execution_count": 526,
   "metadata": {},
   "outputs": [
    {
     "data": {
      "text/plain": [
       "<AxesSubplot:xlabel='consume_purchase'>"
      ]
     },
     "execution_count": 526,
     "metadata": {},
     "output_type": "execute_result"
    },
    {
     "data": {
      "image/png": "[encoded data removed]",
      "text/plain": [
       "<Figure size 432x288 with 1 Axes>"
      ]
     },
     "metadata": {
      "needs_background": "light"
     },
     "output_type": "display_data"
    }
   ],
   "source": [
    "dist = raw_df['uid',col].groupBy(col).agg(F.countDistinct(\"uid\")).toPandas()\n",
    "dist.set_index(col).sort_index().plot.bar()"
   ]
  },
  {
   "cell_type": "code",
   "execution_count": 527,
   "metadata": {},
   "outputs": [],
   "source": [
    "count = raw_df.select(col).groupBy(col).count().toPandas().set_index(col)\n",
    "click = raw_df.select(col,\"label_int\").groupBy(col).sum(\"label_int\").toPandas().set_index(col)"
   ]
  },
  {
   "cell_type": "code",
   "execution_count": 530,
   "metadata": {},
   "outputs": [
    {
     "name": "stdout",
     "output_type": "stream",
     "text": [
      "CTR\n"
     ]
    },
    {
     "data": {
      "text/plain": [
       "<matplotlib.collections.LineCollection at 0x7f0e01d6e358>"
      ]
     },
     "execution_count": 530,
     "metadata": {},
     "output_type": "execute_result"
    },
    {
     "data": {
      "image/png": "[encoded data removed]",
      "text/plain": [
       "<Figure size 432x288 with 1 Axes>"
      ]
     },
     "metadata": {
      "needs_background": "light"
     },
     "output_type": "display_data"
    }
   ],
   "source": [
    "print(\"CTR\")\n",
    "(click.iloc[:,0]/count.iloc[:,0]).sort_index().plot.bar()\n",
    "plt.hlines(0.035, 0, 24,linestyles='dashed',colors=\"r\")"
   ]
  },
  {
   "cell_type": "markdown",
   "metadata": {},
   "source": [
    "ouch seems like this feature doesn't help at all"
   ]
  },
  {
   "cell_type": "code",
   "execution_count": null,
   "metadata": {},
   "outputs": [],
   "source": [
    "## "
   ]
  }
 ],
 "metadata": {
  "kernelspec": {
   "display_name": "Python 3",
   "language": "python",
   "name": "python3"
  },
  "language_info": {
   "codemirror_mode": {
    "name": "ipython",
    "version": 3
   },
   "file_extension": ".py",
   "mimetype": "text/x-python",
   "name": "python",
   "nbconvert_exporter": "python",
   "pygments_lexer": "ipython3",
   "version": "3.6.9"
  }
 },
 "nbformat": 4,
 "nbformat_minor": 2
}
