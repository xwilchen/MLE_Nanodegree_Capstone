{
 "cells": [
  {
   "cell_type": "markdown",
   "metadata": {},
   "source": [
    "# Exploratory Data Analysis\n",
    "\n",
    "This analysis will help me get familiar with dataset and find the opportunities to do feature engineering"
   ]
  },
  {
   "cell_type": "code",
   "execution_count": 1,
   "metadata": {},
   "outputs": [],
   "source": [
    "import numpy as np\n",
    "import pandas as pd\n",
    "import os\n",
    "import matplotlib.pyplot as plt\n",
    "import seaborn as sns\n",
    "from EDA import EDA"
   ]
  },
  {
   "cell_type": "code",
   "execution_count": 2,
   "metadata": {},
   "outputs": [],
   "source": [
    "pd.set_option('display.max_columns', 40)"
   ]
  },
  {
   "cell_type": "markdown",
   "metadata": {},
   "source": [
    "Pandas cannot handel 6G data while simply reading it.\n",
    "There are four solutions I can think of:\n",
    "1. reading only a few columns and analyze at once. However, calculation such as correlation might be a problem in the future even I successfully read in the data.\n",
    "2. specify each dtype since default dtype takes more memories. However it might have future problem asa point 1.\n",
    "3. load data in as matrix\n",
    "4. use spark\n",
    "\n",
    "Of all the solutioins above, I will try second method first just to test if I can load in the data this way and I am just so familiar analyzing data using pandas, can't give it up so quick without giving it a shot.\n",
    "However, I think it makes more sense to use spark for following reasons:\n",
    "1. It can ba a lot faster when doing calculation.\n",
    "2. The dataset I have only cover 7 days of behavoior data, In the real world setting, I think this type of data is the classic \"big data\" people are talking all the time. And spark is designed for handling this type of data! \n",
    "3. Because the reason in bullet point 2, even I am not dealing with sreaming data, It is better to showcase I have this skillset to the employers."
   ]
  },
  {
   "cell_type": "markdown",
   "metadata": {},
   "source": [
    "# Load Data"
   ]
  },
  {
   "cell_type": "code",
   "execution_count": 3,
   "metadata": {},
   "outputs": [],
   "source": [
    "from pyspark.sql import SparkSession\n",
    "from pyspark.sql import functions as F\n",
    "spark = SparkSession \\\n",
    "    .builder \\\n",
    "    .appName(\"EDA\") \\\n",
    "    .getOrCreate()"
   ]
  },
  {
   "cell_type": "code",
   "execution_count": 4,
   "metadata": {},
   "outputs": [
    {
     "data": {
      "text/plain": [
       "[('spark.app.id', 'local-1600912049122'),\n",
       " ('spark.rdd.compress', 'True'),\n",
       " ('spark.driver.port', '43659'),\n",
       " ('spark.serializer.objectStreamReset', '100'),\n",
       " ('spark.master', 'local[*]'),\n",
       " ('spark.submit.pyFiles', ''),\n",
       " ('spark.executor.id', 'driver'),\n",
       " ('spark.app.name', 'EDA'),\n",
       " ('spark.submit.deployMode', 'client'),\n",
       " ('spark.ui.showConsoleProgress', 'true'),\n",
       " ('spark.driver.host', '192.168.2.162')]"
      ]
     },
     "execution_count": 4,
     "metadata": {},
     "output_type": "execute_result"
    }
   ],
   "source": [
    "spark.sparkContext.getConf().getAll()"
   ]
  },
  {
   "cell_type": "code",
   "execution_count": 5,
   "metadata": {},
   "outputs": [],
   "source": [
    "data_dir = \"../MLE_Project_Data\"\n",
    "data_file_name = \"train_data.csv\"\n",
    "data_path = os.path.join(data_dir,data_file_name)\n",
    "\n",
    "raw_df = spark.read.load(data_path,format=\"csv\",delimiter=\"|\",header=True)"
   ]
  },
  {
   "cell_type": "markdown",
   "metadata": {},
   "source": [
    "# Examine Dataset"
   ]
  },
  {
   "cell_type": "code",
   "execution_count": 6,
   "metadata": {},
   "outputs": [
    {
     "name": "stdout",
     "output_type": "stream",
     "text": [
      "The shape: (41907133, 36)\n"
     ]
    }
   ],
   "source": [
    "raw_df_shape = (raw_df.count(),len(raw_df.columns))\n",
    "print(f\"The shape: {raw_df_shape}\")"
   ]
  },
  {
   "cell_type": "code",
   "execution_count": 7,
   "metadata": {},
   "outputs": [
    {
     "data": {
      "text/html": [
       "<div>\n",
       "<style scoped>\n",
       "    .dataframe tbody tr th:only-of-type {\n",
       "        vertical-align: middle;\n",
       "    }\n",
       "\n",
       "    .dataframe tbody tr th {\n",
       "        vertical-align: top;\n",
       "    }\n",
       "\n",
       "    .dataframe thead th {\n",
       "        text-align: right;\n",
       "    }\n",
       "</style>\n",
       "<table border=\"1\" class=\"dataframe\">\n",
       "  <thead>\n",
       "    <tr style=\"text-align: right;\">\n",
       "      <th></th>\n",
       "      <th>label</th>\n",
       "      <th>uid</th>\n",
       "      <th>task_id</th>\n",
       "      <th>adv_id</th>\n",
       "      <th>creat_type_cd</th>\n",
       "      <th>adv_prim_id</th>\n",
       "      <th>dev_id</th>\n",
       "      <th>inter_type_cd</th>\n",
       "      <th>slot_id</th>\n",
       "      <th>spread_app_id</th>\n",
       "      <th>tags</th>\n",
       "      <th>app_first_class</th>\n",
       "      <th>app_second_class</th>\n",
       "      <th>age</th>\n",
       "      <th>city</th>\n",
       "      <th>city_rank</th>\n",
       "      <th>device_name</th>\n",
       "      <th>device_size</th>\n",
       "      <th>career</th>\n",
       "      <th>gender</th>\n",
       "      <th>net_type</th>\n",
       "      <th>residence</th>\n",
       "      <th>his_app_size</th>\n",
       "      <th>his_on_shelf_time</th>\n",
       "      <th>app_score</th>\n",
       "      <th>emui_dev</th>\n",
       "      <th>list_time</th>\n",
       "      <th>device_price</th>\n",
       "      <th>up_life_duration</th>\n",
       "      <th>up_membership_grade</th>\n",
       "      <th>membership_life_duration</th>\n",
       "      <th>consume_purchase</th>\n",
       "      <th>communication_onlinerate</th>\n",
       "      <th>communication_avgonline_30d</th>\n",
       "      <th>indu_name</th>\n",
       "      <th>pt_d</th>\n",
       "    </tr>\n",
       "  </thead>\n",
       "  <tbody>\n",
       "    <tr>\n",
       "      <th>0</th>\n",
       "      <td>0</td>\n",
       "      <td>1638254</td>\n",
       "      <td>2112</td>\n",
       "      <td>6869</td>\n",
       "      <td>7</td>\n",
       "      <td>207</td>\n",
       "      <td>17</td>\n",
       "      <td>5</td>\n",
       "      <td>11</td>\n",
       "      <td>13</td>\n",
       "      <td>37</td>\n",
       "      <td>4</td>\n",
       "      <td>21</td>\n",
       "      <td>5</td>\n",
       "      <td>437</td>\n",
       "      <td>5</td>\n",
       "      <td>37</td>\n",
       "      <td>162</td>\n",
       "      <td>4</td>\n",
       "      <td>2</td>\n",
       "      <td>2</td>\n",
       "      <td>28</td>\n",
       "      <td>4</td>\n",
       "      <td>2</td>\n",
       "      <td>2</td>\n",
       "      <td>20</td>\n",
       "      <td>4</td>\n",
       "      <td>4</td>\n",
       "      <td>20</td>\n",
       "      <td>-1</td>\n",
       "      <td>-1</td>\n",
       "      <td>2</td>\n",
       "      <td>0^1^2^3^4^5^6^7^8^9^10^11^12^13^14^15^16^17^18...</td>\n",
       "      <td>12</td>\n",
       "      <td>17</td>\n",
       "      <td>1</td>\n",
       "    </tr>\n",
       "    <tr>\n",
       "      <th>1</th>\n",
       "      <td>0</td>\n",
       "      <td>1161786</td>\n",
       "      <td>3104</td>\n",
       "      <td>3247</td>\n",
       "      <td>7</td>\n",
       "      <td>183</td>\n",
       "      <td>29</td>\n",
       "      <td>5</td>\n",
       "      <td>17</td>\n",
       "      <td>86</td>\n",
       "      <td>37</td>\n",
       "      <td>4</td>\n",
       "      <td>21</td>\n",
       "      <td>4</td>\n",
       "      <td>370</td>\n",
       "      <td>5</td>\n",
       "      <td>59</td>\n",
       "      <td>141</td>\n",
       "      <td>9</td>\n",
       "      <td>4</td>\n",
       "      <td>2</td>\n",
       "      <td>26</td>\n",
       "      <td>4</td>\n",
       "      <td>3</td>\n",
       "      <td>2</td>\n",
       "      <td>20</td>\n",
       "      <td>4</td>\n",
       "      <td>4</td>\n",
       "      <td>18</td>\n",
       "      <td>-1</td>\n",
       "      <td>-1</td>\n",
       "      <td>2</td>\n",
       "      <td>3^4^5^6^7^8^9^10^11^12^13^14^15^16^17^18^19^20...</td>\n",
       "      <td>12</td>\n",
       "      <td>17</td>\n",
       "      <td>1</td>\n",
       "    </tr>\n",
       "    <tr>\n",
       "      <th>2</th>\n",
       "      <td>0</td>\n",
       "      <td>1814783</td>\n",
       "      <td>5890</td>\n",
       "      <td>4183</td>\n",
       "      <td>7</td>\n",
       "      <td>178</td>\n",
       "      <td>17</td>\n",
       "      <td>5</td>\n",
       "      <td>11</td>\n",
       "      <td>70</td>\n",
       "      <td>39</td>\n",
       "      <td>4</td>\n",
       "      <td>17</td>\n",
       "      <td>5</td>\n",
       "      <td>306</td>\n",
       "      <td>3</td>\n",
       "      <td>81</td>\n",
       "      <td>162</td>\n",
       "      <td>4</td>\n",
       "      <td>2</td>\n",
       "      <td>2</td>\n",
       "      <td>21</td>\n",
       "      <td>2</td>\n",
       "      <td>3</td>\n",
       "      <td>2</td>\n",
       "      <td>20</td>\n",
       "      <td>4</td>\n",
       "      <td>5</td>\n",
       "      <td>20</td>\n",
       "      <td>-1</td>\n",
       "      <td>-1</td>\n",
       "      <td>2</td>\n",
       "      <td>0^1^2^3^4^5^6^7^8^9^10^11^12^13^14^15^16^17^18...</td>\n",
       "      <td>11</td>\n",
       "      <td>36</td>\n",
       "      <td>1</td>\n",
       "    </tr>\n",
       "    <tr>\n",
       "      <th>3</th>\n",
       "      <td>0</td>\n",
       "      <td>1468996</td>\n",
       "      <td>1993</td>\n",
       "      <td>5405</td>\n",
       "      <td>7</td>\n",
       "      <td>207</td>\n",
       "      <td>17</td>\n",
       "      <td>5</td>\n",
       "      <td>21</td>\n",
       "      <td>13</td>\n",
       "      <td>37</td>\n",
       "      <td>4</td>\n",
       "      <td>21</td>\n",
       "      <td>5</td>\n",
       "      <td>275</td>\n",
       "      <td>5</td>\n",
       "      <td>88</td>\n",
       "      <td>180</td>\n",
       "      <td>4</td>\n",
       "      <td>2</td>\n",
       "      <td>2</td>\n",
       "      <td>23</td>\n",
       "      <td>4</td>\n",
       "      <td>2</td>\n",
       "      <td>2</td>\n",
       "      <td>20</td>\n",
       "      <td>7</td>\n",
       "      <td>3</td>\n",
       "      <td>-1</td>\n",
       "      <td>-1</td>\n",
       "      <td>-1</td>\n",
       "      <td>2</td>\n",
       "      <td>5^6^7^8^9^10^11^12^13^14^15^16^17^18^19^20^21^...</td>\n",
       "      <td>11</td>\n",
       "      <td>17</td>\n",
       "      <td>1</td>\n",
       "    </tr>\n",
       "    <tr>\n",
       "      <th>4</th>\n",
       "      <td>0</td>\n",
       "      <td>2164010</td>\n",
       "      <td>5439</td>\n",
       "      <td>4677</td>\n",
       "      <td>2</td>\n",
       "      <td>138</td>\n",
       "      <td>24</td>\n",
       "      <td>5</td>\n",
       "      <td>12</td>\n",
       "      <td>33</td>\n",
       "      <td>15</td>\n",
       "      <td>4</td>\n",
       "      <td>15</td>\n",
       "      <td>5</td>\n",
       "      <td>412</td>\n",
       "      <td>3</td>\n",
       "      <td>88</td>\n",
       "      <td>180</td>\n",
       "      <td>4</td>\n",
       "      <td>2</td>\n",
       "      <td>2</td>\n",
       "      <td>20</td>\n",
       "      <td>16</td>\n",
       "      <td>3</td>\n",
       "      <td>2</td>\n",
       "      <td>20</td>\n",
       "      <td>7</td>\n",
       "      <td>3</td>\n",
       "      <td>-1</td>\n",
       "      <td>-1</td>\n",
       "      <td>-1</td>\n",
       "      <td>2</td>\n",
       "      <td>2^3^4^5^6^7^8^9^10^11^12^13^14^15^16^17^18^19^...</td>\n",
       "      <td>11</td>\n",
       "      <td>20</td>\n",
       "      <td>1</td>\n",
       "    </tr>\n",
       "  </tbody>\n",
       "</table>\n",
       "</div>"
      ],
      "text/plain": [
       "  label      uid task_id adv_id creat_type_cd adv_prim_id dev_id  \\\n",
       "0     0  1638254    2112   6869             7         207     17   \n",
       "1     0  1161786    3104   3247             7         183     29   \n",
       "2     0  1814783    5890   4183             7         178     17   \n",
       "3     0  1468996    1993   5405             7         207     17   \n",
       "4     0  2164010    5439   4677             2         138     24   \n",
       "\n",
       "  inter_type_cd slot_id spread_app_id tags app_first_class app_second_class  \\\n",
       "0             5      11            13   37               4               21   \n",
       "1             5      17            86   37               4               21   \n",
       "2             5      11            70   39               4               17   \n",
       "3             5      21            13   37               4               21   \n",
       "4             5      12            33   15               4               15   \n",
       "\n",
       "  age city city_rank device_name device_size career gender net_type residence  \\\n",
       "0   5  437         5          37         162      4      2        2        28   \n",
       "1   4  370         5          59         141      9      4        2        26   \n",
       "2   5  306         3          81         162      4      2        2        21   \n",
       "3   5  275         5          88         180      4      2        2        23   \n",
       "4   5  412         3          88         180      4      2        2        20   \n",
       "\n",
       "  his_app_size his_on_shelf_time app_score emui_dev list_time device_price  \\\n",
       "0            4                 2         2       20         4            4   \n",
       "1            4                 3         2       20         4            4   \n",
       "2            2                 3         2       20         4            5   \n",
       "3            4                 2         2       20         7            3   \n",
       "4           16                 3         2       20         7            3   \n",
       "\n",
       "  up_life_duration up_membership_grade membership_life_duration  \\\n",
       "0               20                  -1                       -1   \n",
       "1               18                  -1                       -1   \n",
       "2               20                  -1                       -1   \n",
       "3               -1                  -1                       -1   \n",
       "4               -1                  -1                       -1   \n",
       "\n",
       "  consume_purchase                           communication_onlinerate  \\\n",
       "0                2  0^1^2^3^4^5^6^7^8^9^10^11^12^13^14^15^16^17^18...   \n",
       "1                2  3^4^5^6^7^8^9^10^11^12^13^14^15^16^17^18^19^20...   \n",
       "2                2  0^1^2^3^4^5^6^7^8^9^10^11^12^13^14^15^16^17^18...   \n",
       "3                2  5^6^7^8^9^10^11^12^13^14^15^16^17^18^19^20^21^...   \n",
       "4                2  2^3^4^5^6^7^8^9^10^11^12^13^14^15^16^17^18^19^...   \n",
       "\n",
       "  communication_avgonline_30d indu_name pt_d  \n",
       "0                          12        17    1  \n",
       "1                          12        17    1  \n",
       "2                          11        36    1  \n",
       "3                          11        17    1  \n",
       "4                          11        20    1  "
      ]
     },
     "execution_count": 7,
     "metadata": {},
     "output_type": "execute_result"
    }
   ],
   "source": [
    "# head\n",
    "raw_df_head = [row.asDict() for row in raw_df.head(5)]\n",
    "pd.DataFrame(raw_df_head)"
   ]
  },
  {
   "cell_type": "code",
   "execution_count": 8,
   "metadata": {},
   "outputs": [
    {
     "data": {
      "text/html": [
       "<div>\n",
       "<style scoped>\n",
       "    .dataframe tbody tr th:only-of-type {\n",
       "        vertical-align: middle;\n",
       "    }\n",
       "\n",
       "    .dataframe tbody tr th {\n",
       "        vertical-align: top;\n",
       "    }\n",
       "\n",
       "    .dataframe thead th {\n",
       "        text-align: right;\n",
       "    }\n",
       "</style>\n",
       "<table border=\"1\" class=\"dataframe\">\n",
       "  <thead>\n",
       "    <tr style=\"text-align: right;\">\n",
       "      <th></th>\n",
       "      <th>label</th>\n",
       "      <th>uid</th>\n",
       "      <th>task_id</th>\n",
       "      <th>adv_id</th>\n",
       "      <th>creat_type_cd</th>\n",
       "      <th>adv_prim_id</th>\n",
       "      <th>dev_id</th>\n",
       "      <th>inter_type_cd</th>\n",
       "      <th>slot_id</th>\n",
       "      <th>spread_app_id</th>\n",
       "      <th>tags</th>\n",
       "      <th>app_first_class</th>\n",
       "      <th>app_second_class</th>\n",
       "      <th>age</th>\n",
       "      <th>city</th>\n",
       "      <th>city_rank</th>\n",
       "      <th>device_name</th>\n",
       "      <th>device_size</th>\n",
       "      <th>career</th>\n",
       "      <th>gender</th>\n",
       "      <th>net_type</th>\n",
       "      <th>residence</th>\n",
       "      <th>his_app_size</th>\n",
       "      <th>his_on_shelf_time</th>\n",
       "      <th>app_score</th>\n",
       "      <th>emui_dev</th>\n",
       "      <th>list_time</th>\n",
       "      <th>device_price</th>\n",
       "      <th>up_life_duration</th>\n",
       "      <th>up_membership_grade</th>\n",
       "      <th>membership_life_duration</th>\n",
       "      <th>consume_purchase</th>\n",
       "      <th>communication_onlinerate</th>\n",
       "      <th>communication_avgonline_30d</th>\n",
       "      <th>indu_name</th>\n",
       "      <th>pt_d</th>\n",
       "    </tr>\n",
       "  </thead>\n",
       "  <tbody>\n",
       "    <tr>\n",
       "      <th>0</th>\n",
       "      <td>0</td>\n",
       "      <td>2154906</td>\n",
       "      <td>5275</td>\n",
       "      <td>5473</td>\n",
       "      <td>7</td>\n",
       "      <td>156</td>\n",
       "      <td>56</td>\n",
       "      <td>5</td>\n",
       "      <td>13</td>\n",
       "      <td>58</td>\n",
       "      <td>37</td>\n",
       "      <td>4</td>\n",
       "      <td>21</td>\n",
       "      <td>6</td>\n",
       "      <td>255</td>\n",
       "      <td>3</td>\n",
       "      <td>87</td>\n",
       "      <td>117</td>\n",
       "      <td>9</td>\n",
       "      <td>2</td>\n",
       "      <td>2</td>\n",
       "      <td>18</td>\n",
       "      <td>14</td>\n",
       "      <td>3</td>\n",
       "      <td>2</td>\n",
       "      <td>28</td>\n",
       "      <td>5</td>\n",
       "      <td>4</td>\n",
       "      <td>18</td>\n",
       "      <td>-1</td>\n",
       "      <td>-1</td>\n",
       "      <td>2</td>\n",
       "      <td>1^2^3^4^5^6^7^8^9^10^11^12^13^14^15^16^17^18^1...</td>\n",
       "      <td>13</td>\n",
       "      <td>17</td>\n",
       "      <td>7</td>\n",
       "    </tr>\n",
       "    <tr>\n",
       "      <th>1</th>\n",
       "      <td>0</td>\n",
       "      <td>1466996</td>\n",
       "      <td>5952</td>\n",
       "      <td>4158</td>\n",
       "      <td>7</td>\n",
       "      <td>207</td>\n",
       "      <td>17</td>\n",
       "      <td>5</td>\n",
       "      <td>17</td>\n",
       "      <td>13</td>\n",
       "      <td>37</td>\n",
       "      <td>4</td>\n",
       "      <td>21</td>\n",
       "      <td>5</td>\n",
       "      <td>335</td>\n",
       "      <td>3</td>\n",
       "      <td>75</td>\n",
       "      <td>141</td>\n",
       "      <td>4</td>\n",
       "      <td>4</td>\n",
       "      <td>2</td>\n",
       "      <td>38</td>\n",
       "      <td>4</td>\n",
       "      <td>3</td>\n",
       "      <td>2</td>\n",
       "      <td>20</td>\n",
       "      <td>8</td>\n",
       "      <td>5</td>\n",
       "      <td>18</td>\n",
       "      <td>-1</td>\n",
       "      <td>-1</td>\n",
       "      <td>2</td>\n",
       "      <td>0^1^2^3^4^5^6^7^8^9^10^11^12^13^14^15^16^17^18...</td>\n",
       "      <td>12</td>\n",
       "      <td>17</td>\n",
       "      <td>7</td>\n",
       "    </tr>\n",
       "    <tr>\n",
       "      <th>2</th>\n",
       "      <td>0</td>\n",
       "      <td>1930657</td>\n",
       "      <td>2178</td>\n",
       "      <td>1860</td>\n",
       "      <td>2</td>\n",
       "      <td>142</td>\n",
       "      <td>60</td>\n",
       "      <td>5</td>\n",
       "      <td>12</td>\n",
       "      <td>80</td>\n",
       "      <td>41</td>\n",
       "      <td>2</td>\n",
       "      <td>26</td>\n",
       "      <td>5</td>\n",
       "      <td>140</td>\n",
       "      <td>4</td>\n",
       "      <td>29</td>\n",
       "      <td>141</td>\n",
       "      <td>10</td>\n",
       "      <td>2</td>\n",
       "      <td>3</td>\n",
       "      <td>30</td>\n",
       "      <td>-1</td>\n",
       "      <td>-1</td>\n",
       "      <td>1</td>\n",
       "      <td>20</td>\n",
       "      <td>9</td>\n",
       "      <td>3</td>\n",
       "      <td>-1</td>\n",
       "      <td>-1</td>\n",
       "      <td>-1</td>\n",
       "      <td>2</td>\n",
       "      <td>6^7^8^9^10^11^12^13^14^15^16^17^18^19^20^21^22^23</td>\n",
       "      <td>11</td>\n",
       "      <td>24</td>\n",
       "      <td>7</td>\n",
       "    </tr>\n",
       "    <tr>\n",
       "      <th>3</th>\n",
       "      <td>0</td>\n",
       "      <td>1550398</td>\n",
       "      <td>1976</td>\n",
       "      <td>6739</td>\n",
       "      <td>7</td>\n",
       "      <td>154</td>\n",
       "      <td>56</td>\n",
       "      <td>5</td>\n",
       "      <td>11</td>\n",
       "      <td>31</td>\n",
       "      <td>40</td>\n",
       "      <td>4</td>\n",
       "      <td>25</td>\n",
       "      <td>5</td>\n",
       "      <td>275</td>\n",
       "      <td>5</td>\n",
       "      <td>38</td>\n",
       "      <td>162</td>\n",
       "      <td>3</td>\n",
       "      <td>2</td>\n",
       "      <td>2</td>\n",
       "      <td>23</td>\n",
       "      <td>13</td>\n",
       "      <td>3</td>\n",
       "      <td>2</td>\n",
       "      <td>20</td>\n",
       "      <td>4</td>\n",
       "      <td>4</td>\n",
       "      <td>20</td>\n",
       "      <td>1</td>\n",
       "      <td>-1</td>\n",
       "      <td>2</td>\n",
       "      <td>3^4^5^6^7^8^9^10^11^12^13^14^15^16^17^18^19^20...</td>\n",
       "      <td>11</td>\n",
       "      <td>17</td>\n",
       "      <td>7</td>\n",
       "    </tr>\n",
       "    <tr>\n",
       "      <th>4</th>\n",
       "      <td>0</td>\n",
       "      <td>1400807</td>\n",
       "      <td>3869</td>\n",
       "      <td>6751</td>\n",
       "      <td>7</td>\n",
       "      <td>130</td>\n",
       "      <td>30</td>\n",
       "      <td>5</td>\n",
       "      <td>13</td>\n",
       "      <td>28</td>\n",
       "      <td>39</td>\n",
       "      <td>4</td>\n",
       "      <td>17</td>\n",
       "      <td>4</td>\n",
       "      <td>406</td>\n",
       "      <td>5</td>\n",
       "      <td>65</td>\n",
       "      <td>141</td>\n",
       "      <td>4</td>\n",
       "      <td>2</td>\n",
       "      <td>2</td>\n",
       "      <td>21</td>\n",
       "      <td>6</td>\n",
       "      <td>2</td>\n",
       "      <td>2</td>\n",
       "      <td>14</td>\n",
       "      <td>10</td>\n",
       "      <td>2</td>\n",
       "      <td>20</td>\n",
       "      <td>-1</td>\n",
       "      <td>-1</td>\n",
       "      <td>2</td>\n",
       "      <td>7^8^9^10^11^12^13^14^15^16^17^18^19^20^21^22^23</td>\n",
       "      <td>10</td>\n",
       "      <td>36</td>\n",
       "      <td>7</td>\n",
       "    </tr>\n",
       "  </tbody>\n",
       "</table>\n",
       "</div>"
      ],
      "text/plain": [
       "  label      uid task_id adv_id creat_type_cd adv_prim_id dev_id  \\\n",
       "0     0  2154906    5275   5473             7         156     56   \n",
       "1     0  1466996    5952   4158             7         207     17   \n",
       "2     0  1930657    2178   1860             2         142     60   \n",
       "3     0  1550398    1976   6739             7         154     56   \n",
       "4     0  1400807    3869   6751             7         130     30   \n",
       "\n",
       "  inter_type_cd slot_id spread_app_id tags app_first_class app_second_class  \\\n",
       "0             5      13            58   37               4               21   \n",
       "1             5      17            13   37               4               21   \n",
       "2             5      12            80   41               2               26   \n",
       "3             5      11            31   40               4               25   \n",
       "4             5      13            28   39               4               17   \n",
       "\n",
       "  age city city_rank device_name device_size career gender net_type residence  \\\n",
       "0   6  255         3          87         117      9      2        2        18   \n",
       "1   5  335         3          75         141      4      4        2        38   \n",
       "2   5  140         4          29         141     10      2        3        30   \n",
       "3   5  275         5          38         162      3      2        2        23   \n",
       "4   4  406         5          65         141      4      2        2        21   \n",
       "\n",
       "  his_app_size his_on_shelf_time app_score emui_dev list_time device_price  \\\n",
       "0           14                 3         2       28         5            4   \n",
       "1            4                 3         2       20         8            5   \n",
       "2           -1                -1         1       20         9            3   \n",
       "3           13                 3         2       20         4            4   \n",
       "4            6                 2         2       14        10            2   \n",
       "\n",
       "  up_life_duration up_membership_grade membership_life_duration  \\\n",
       "0               18                  -1                       -1   \n",
       "1               18                  -1                       -1   \n",
       "2               -1                  -1                       -1   \n",
       "3               20                   1                       -1   \n",
       "4               20                  -1                       -1   \n",
       "\n",
       "  consume_purchase                           communication_onlinerate  \\\n",
       "0                2  1^2^3^4^5^6^7^8^9^10^11^12^13^14^15^16^17^18^1...   \n",
       "1                2  0^1^2^3^4^5^6^7^8^9^10^11^12^13^14^15^16^17^18...   \n",
       "2                2  6^7^8^9^10^11^12^13^14^15^16^17^18^19^20^21^22^23   \n",
       "3                2  3^4^5^6^7^8^9^10^11^12^13^14^15^16^17^18^19^20...   \n",
       "4                2    7^8^9^10^11^12^13^14^15^16^17^18^19^20^21^22^23   \n",
       "\n",
       "  communication_avgonline_30d indu_name pt_d  \n",
       "0                          13        17    7  \n",
       "1                          12        17    7  \n",
       "2                          11        24    7  \n",
       "3                          11        17    7  \n",
       "4                          10        36    7  "
      ]
     },
     "execution_count": 8,
     "metadata": {},
     "output_type": "execute_result"
    }
   ],
   "source": [
    "# tail\n",
    "raw_df_tail = [row.asDict() for row in raw_df.tail(5)]\n",
    "pd.DataFrame(raw_df_tail)"
   ]
  },
  {
   "cell_type": "code",
   "execution_count": 9,
   "metadata": {},
   "outputs": [
    {
     "data": {
      "text/plain": [
       "[StructField(label,StringType,true),\n",
       " StructField(uid,StringType,true),\n",
       " StructField(task_id,StringType,true),\n",
       " StructField(adv_id,StringType,true),\n",
       " StructField(creat_type_cd,StringType,true),\n",
       " StructField(adv_prim_id,StringType,true),\n",
       " StructField(dev_id,StringType,true),\n",
       " StructField(inter_type_cd,StringType,true),\n",
       " StructField(slot_id,StringType,true),\n",
       " StructField(spread_app_id,StringType,true),\n",
       " StructField(tags,StringType,true),\n",
       " StructField(app_first_class,StringType,true),\n",
       " StructField(app_second_class,StringType,true),\n",
       " StructField(age,StringType,true),\n",
       " StructField(city,StringType,true),\n",
       " StructField(city_rank,StringType,true),\n",
       " StructField(device_name,StringType,true),\n",
       " StructField(device_size,StringType,true),\n",
       " StructField(career,StringType,true),\n",
       " StructField(gender,StringType,true),\n",
       " StructField(net_type,StringType,true),\n",
       " StructField(residence,StringType,true),\n",
       " StructField(his_app_size,StringType,true),\n",
       " StructField(his_on_shelf_time,StringType,true),\n",
       " StructField(app_score,StringType,true),\n",
       " StructField(emui_dev,StringType,true),\n",
       " StructField(list_time,StringType,true),\n",
       " StructField(device_price,StringType,true),\n",
       " StructField(up_life_duration,StringType,true),\n",
       " StructField(up_membership_grade,StringType,true),\n",
       " StructField(membership_life_duration,StringType,true),\n",
       " StructField(consume_purchase,StringType,true),\n",
       " StructField(communication_onlinerate,StringType,true),\n",
       " StructField(communication_avgonline_30d,StringType,true),\n",
       " StructField(indu_name,StringType,true),\n",
       " StructField(pt_d,StringType,true)]"
      ]
     },
     "execution_count": 9,
     "metadata": {},
     "output_type": "execute_result"
    }
   ],
   "source": [
    "# dtypes\n",
    "raw_df.schema.fields"
   ]
  },
  {
   "cell_type": "code",
   "execution_count": 10,
   "metadata": {},
   "outputs": [
    {
     "data": {
      "text/plain": [
       "['label',\n",
       " 'uid',\n",
       " 'task_id',\n",
       " 'adv_id',\n",
       " 'creat_type_cd',\n",
       " 'adv_prim_id',\n",
       " 'dev_id',\n",
       " 'inter_type_cd',\n",
       " 'slot_id',\n",
       " 'spread_app_id',\n",
       " 'tags',\n",
       " 'app_first_class',\n",
       " 'app_second_class',\n",
       " 'age',\n",
       " 'city',\n",
       " 'city_rank',\n",
       " 'device_name',\n",
       " 'device_size',\n",
       " 'career',\n",
       " 'gender',\n",
       " 'net_type',\n",
       " 'residence',\n",
       " 'his_app_size',\n",
       " 'his_on_shelf_time',\n",
       " 'app_score',\n",
       " 'emui_dev',\n",
       " 'list_time',\n",
       " 'device_price',\n",
       " 'up_life_duration',\n",
       " 'up_membership_grade',\n",
       " 'membership_life_duration',\n",
       " 'consume_purchase',\n",
       " 'communication_onlinerate',\n",
       " 'communication_avgonline_30d',\n",
       " 'indu_name',\n",
       " 'pt_d']"
      ]
     },
     "execution_count": 10,
     "metadata": {},
     "output_type": "execute_result"
    }
   ],
   "source": [
    "raw_df.columns"
   ]
  },
  {
   "cell_type": "code",
   "execution_count": 11,
   "metadata": {},
   "outputs": [
    {
     "data": {
      "text/html": [
       "<div>\n",
       "<style scoped>\n",
       "    .dataframe tbody tr th:only-of-type {\n",
       "        vertical-align: middle;\n",
       "    }\n",
       "\n",
       "    .dataframe tbody tr th {\n",
       "        vertical-align: top;\n",
       "    }\n",
       "\n",
       "    .dataframe thead th {\n",
       "        text-align: right;\n",
       "    }\n",
       "</style>\n",
       "<table border=\"1\" class=\"dataframe\">\n",
       "  <thead>\n",
       "    <tr style=\"text-align: right;\">\n",
       "      <th>summary</th>\n",
       "      <th>count</th>\n",
       "      <th>mean</th>\n",
       "      <th>stddev</th>\n",
       "      <th>min</th>\n",
       "      <th>max</th>\n",
       "    </tr>\n",
       "  </thead>\n",
       "  <tbody>\n",
       "    <tr>\n",
       "      <th>label</th>\n",
       "      <td>41907133</td>\n",
       "      <td>0.034492648304048856</td>\n",
       "      <td>0.18249083898022259</td>\n",
       "      <td>0</td>\n",
       "      <td>1</td>\n",
       "    </tr>\n",
       "    <tr>\n",
       "      <th>uid</th>\n",
       "      <td>41907133</td>\n",
       "      <td>1618366.5450654665</td>\n",
       "      <td>357389.65521592135</td>\n",
       "      <td>1000001</td>\n",
       "      <td>2237673</td>\n",
       "    </tr>\n",
       "    <tr>\n",
       "      <th>task_id</th>\n",
       "      <td>41907133</td>\n",
       "      <td>3436.3739258660335</td>\n",
       "      <td>1429.9486235761321</td>\n",
       "      <td>1001</td>\n",
       "      <td>5992</td>\n",
       "    </tr>\n",
       "    <tr>\n",
       "      <th>adv_id</th>\n",
       "      <td>41907133</td>\n",
       "      <td>3963.51341013951</td>\n",
       "      <td>1720.5691813375768</td>\n",
       "      <td>1001</td>\n",
       "      <td>7020</td>\n",
       "    </tr>\n",
       "    <tr>\n",
       "      <th>creat_type_cd</th>\n",
       "      <td>41907133</td>\n",
       "      <td>6.490081748135813</td>\n",
       "      <td>1.231181612514361</td>\n",
       "      <td>2</td>\n",
       "      <td>9</td>\n",
       "    </tr>\n",
       "    <tr>\n",
       "      <th>adv_prim_id</th>\n",
       "      <td>41907133</td>\n",
       "      <td>159.31912006483478</td>\n",
       "      <td>30.899225966287723</td>\n",
       "      <td>101</td>\n",
       "      <td>214</td>\n",
       "    </tr>\n",
       "    <tr>\n",
       "      <th>dev_id</th>\n",
       "      <td>41907133</td>\n",
       "      <td>41.59357343772479</td>\n",
       "      <td>17.41486835377897</td>\n",
       "      <td>11</td>\n",
       "      <td>72</td>\n",
       "    </tr>\n",
       "    <tr>\n",
       "      <th>inter_type_cd</th>\n",
       "      <td>41907133</td>\n",
       "      <td>4.646959504483402</td>\n",
       "      <td>0.7103276382288628</td>\n",
       "      <td>2</td>\n",
       "      <td>5</td>\n",
       "    </tr>\n",
       "    <tr>\n",
       "      <th>slot_id</th>\n",
       "      <td>41907133</td>\n",
       "      <td>15.254736109005595</td>\n",
       "      <td>3.167097985067854</td>\n",
       "      <td>11</td>\n",
       "      <td>22</td>\n",
       "    </tr>\n",
       "    <tr>\n",
       "      <th>spread_app_id</th>\n",
       "      <td>41907133</td>\n",
       "      <td>51.9989373646725</td>\n",
       "      <td>25.10112386162042</td>\n",
       "      <td>11</td>\n",
       "      <td>89</td>\n",
       "    </tr>\n",
       "    <tr>\n",
       "      <th>tags</th>\n",
       "      <td>41907133</td>\n",
       "      <td>34.36324749297452</td>\n",
       "      <td>8.154165557587445</td>\n",
       "      <td>11</td>\n",
       "      <td>42</td>\n",
       "    </tr>\n",
       "    <tr>\n",
       "      <th>app_first_class</th>\n",
       "      <td>41907133</td>\n",
       "      <td>3.5649967751313363</td>\n",
       "      <td>0.8217028376391976</td>\n",
       "      <td>2</td>\n",
       "      <td>4</td>\n",
       "    </tr>\n",
       "    <tr>\n",
       "      <th>app_second_class</th>\n",
       "      <td>41907133</td>\n",
       "      <td>22.091261146401973</td>\n",
       "      <td>3.619250695438356</td>\n",
       "      <td>11</td>\n",
       "      <td>29</td>\n",
       "    </tr>\n",
       "    <tr>\n",
       "      <th>age</th>\n",
       "      <td>41907133</td>\n",
       "      <td>5.055212772489113</td>\n",
       "      <td>1.4153192617965202</td>\n",
       "      <td>-1</td>\n",
       "      <td>7</td>\n",
       "    </tr>\n",
       "    <tr>\n",
       "      <th>city</th>\n",
       "      <td>41907133</td>\n",
       "      <td>265.4613547531395</td>\n",
       "      <td>101.43291692447634</td>\n",
       "      <td>101</td>\n",
       "      <td>444</td>\n",
       "    </tr>\n",
       "    <tr>\n",
       "      <th>city_rank</th>\n",
       "      <td>41907133</td>\n",
       "      <td>3.866923060568233</td>\n",
       "      <td>0.908196213682573</td>\n",
       "      <td>2</td>\n",
       "      <td>5</td>\n",
       "    </tr>\n",
       "    <tr>\n",
       "      <th>device_name</th>\n",
       "      <td>41907133</td>\n",
       "      <td>62.610451709975</td>\n",
       "      <td>25.063266031528805</td>\n",
       "      <td>100</td>\n",
       "      <td>99</td>\n",
       "    </tr>\n",
       "    <tr>\n",
       "      <th>device_size</th>\n",
       "      <td>41907133</td>\n",
       "      <td>158.2104430527376</td>\n",
       "      <td>45.07228338655767</td>\n",
       "      <td>101</td>\n",
       "      <td>349</td>\n",
       "    </tr>\n",
       "    <tr>\n",
       "      <th>career</th>\n",
       "      <td>41907133</td>\n",
       "      <td>6.211373586448875</td>\n",
       "      <td>2.4773453826878598</td>\n",
       "      <td>10</td>\n",
       "      <td>9</td>\n",
       "    </tr>\n",
       "    <tr>\n",
       "      <th>gender</th>\n",
       "      <td>41907133</td>\n",
       "      <td>2.45255038086237</td>\n",
       "      <td>0.8294714331999957</td>\n",
       "      <td>2</td>\n",
       "      <td>4</td>\n",
       "    </tr>\n",
       "    <tr>\n",
       "      <th>net_type</th>\n",
       "      <td>41907133</td>\n",
       "      <td>2.2110841130554078</td>\n",
       "      <td>0.42470431343106757</td>\n",
       "      <td>2</td>\n",
       "      <td>6</td>\n",
       "    </tr>\n",
       "    <tr>\n",
       "      <th>residence</th>\n",
       "      <td>41907133</td>\n",
       "      <td>28.401120162526986</td>\n",
       "      <td>10.576117921626116</td>\n",
       "      <td>11</td>\n",
       "      <td>46</td>\n",
       "    </tr>\n",
       "    <tr>\n",
       "      <th>his_app_size</th>\n",
       "      <td>41907133</td>\n",
       "      <td>6.5524609378551375</td>\n",
       "      <td>5.898097528503572</td>\n",
       "      <td>-1</td>\n",
       "      <td>9</td>\n",
       "    </tr>\n",
       "    <tr>\n",
       "      <th>his_on_shelf_time</th>\n",
       "      <td>41907133</td>\n",
       "      <td>2.0369311353272486</td>\n",
       "      <td>1.6162615277376697</td>\n",
       "      <td>-1</td>\n",
       "      <td>3</td>\n",
       "    </tr>\n",
       "    <tr>\n",
       "      <th>app_score</th>\n",
       "      <td>41907133</td>\n",
       "      <td>1.7847627037621494</td>\n",
       "      <td>0.41098686910490795</td>\n",
       "      <td>1</td>\n",
       "      <td>2</td>\n",
       "    </tr>\n",
       "    <tr>\n",
       "      <th>emui_dev</th>\n",
       "      <td>41907133</td>\n",
       "      <td>19.289472415113675</td>\n",
       "      <td>4.527055579825146</td>\n",
       "      <td>11</td>\n",
       "      <td>28</td>\n",
       "    </tr>\n",
       "    <tr>\n",
       "      <th>list_time</th>\n",
       "      <td>41907133</td>\n",
       "      <td>9.214946558143216</td>\n",
       "      <td>3.6426297279975546</td>\n",
       "      <td>-1</td>\n",
       "      <td>9</td>\n",
       "    </tr>\n",
       "    <tr>\n",
       "      <th>device_price</th>\n",
       "      <td>41907133</td>\n",
       "      <td>3.476986387973618</td>\n",
       "      <td>1.1587958240779863</td>\n",
       "      <td>-1</td>\n",
       "      <td>7</td>\n",
       "    </tr>\n",
       "    <tr>\n",
       "      <th>up_life_duration</th>\n",
       "      <td>41907133</td>\n",
       "      <td>12.708119116619121</td>\n",
       "      <td>9.024164935334515</td>\n",
       "      <td>-1</td>\n",
       "      <td>9</td>\n",
       "    </tr>\n",
       "    <tr>\n",
       "      <th>up_membership_grade</th>\n",
       "      <td>41907133</td>\n",
       "      <td>-0.7547465964803652</td>\n",
       "      <td>0.6594331074603075</td>\n",
       "      <td>-1</td>\n",
       "      <td>3</td>\n",
       "    </tr>\n",
       "    <tr>\n",
       "      <th>membership_life_duration</th>\n",
       "      <td>41907133</td>\n",
       "      <td>-0.9708431259184445</td>\n",
       "      <td>0.7396529042972468</td>\n",
       "      <td>-1</td>\n",
       "      <td>9</td>\n",
       "    </tr>\n",
       "    <tr>\n",
       "      <th>consume_purchase</th>\n",
       "      <td>41907133</td>\n",
       "      <td>2.5831103024871687</td>\n",
       "      <td>1.7609380333709541</td>\n",
       "      <td>10</td>\n",
       "      <td>9</td>\n",
       "    </tr>\n",
       "    <tr>\n",
       "      <th>communication_onlinerate</th>\n",
       "      <td>41907133</td>\n",
       "      <td>-0.4275050419081946</td>\n",
       "      <td>3.5667091919025333</td>\n",
       "      <td>-1</td>\n",
       "      <td>9^21^22^23</td>\n",
       "    </tr>\n",
       "    <tr>\n",
       "      <th>communication_avgonline_30d</th>\n",
       "      <td>41907133</td>\n",
       "      <td>11.14246834781086</td>\n",
       "      <td>1.6469923345674298</td>\n",
       "      <td>-1</td>\n",
       "      <td>9</td>\n",
       "    </tr>\n",
       "    <tr>\n",
       "      <th>indu_name</th>\n",
       "      <td>41907133</td>\n",
       "      <td>26.53484627545387</td>\n",
       "      <td>11.050931693338034</td>\n",
       "      <td>11</td>\n",
       "      <td>52</td>\n",
       "    </tr>\n",
       "    <tr>\n",
       "      <th>pt_d</th>\n",
       "      <td>41907133</td>\n",
       "      <td>3.98785063631053</td>\n",
       "      <td>2.0121062641235374</td>\n",
       "      <td>1</td>\n",
       "      <td>7</td>\n",
       "    </tr>\n",
       "  </tbody>\n",
       "</table>\n",
       "</div>"
      ],
      "text/plain": [
       "summary                         count                  mean  \\\n",
       "label                        41907133  0.034492648304048856   \n",
       "uid                          41907133    1618366.5450654665   \n",
       "task_id                      41907133    3436.3739258660335   \n",
       "adv_id                       41907133      3963.51341013951   \n",
       "creat_type_cd                41907133     6.490081748135813   \n",
       "adv_prim_id                  41907133    159.31912006483478   \n",
       "dev_id                       41907133     41.59357343772479   \n",
       "inter_type_cd                41907133     4.646959504483402   \n",
       "slot_id                      41907133    15.254736109005595   \n",
       "spread_app_id                41907133      51.9989373646725   \n",
       "tags                         41907133     34.36324749297452   \n",
       "app_first_class              41907133    3.5649967751313363   \n",
       "app_second_class             41907133    22.091261146401973   \n",
       "age                          41907133     5.055212772489113   \n",
       "city                         41907133     265.4613547531395   \n",
       "city_rank                    41907133     3.866923060568233   \n",
       "device_name                  41907133       62.610451709975   \n",
       "device_size                  41907133     158.2104430527376   \n",
       "career                       41907133     6.211373586448875   \n",
       "gender                       41907133      2.45255038086237   \n",
       "net_type                     41907133    2.2110841130554078   \n",
       "residence                    41907133    28.401120162526986   \n",
       "his_app_size                 41907133    6.5524609378551375   \n",
       "his_on_shelf_time            41907133    2.0369311353272486   \n",
       "app_score                    41907133    1.7847627037621494   \n",
       "emui_dev                     41907133    19.289472415113675   \n",
       "list_time                    41907133     9.214946558143216   \n",
       "device_price                 41907133     3.476986387973618   \n",
       "up_life_duration             41907133    12.708119116619121   \n",
       "up_membership_grade          41907133   -0.7547465964803652   \n",
       "membership_life_duration     41907133   -0.9708431259184445   \n",
       "consume_purchase             41907133    2.5831103024871687   \n",
       "communication_onlinerate     41907133   -0.4275050419081946   \n",
       "communication_avgonline_30d  41907133     11.14246834781086   \n",
       "indu_name                    41907133     26.53484627545387   \n",
       "pt_d                         41907133      3.98785063631053   \n",
       "\n",
       "summary                                   stddev      min         max  \n",
       "label                        0.18249083898022259        0           1  \n",
       "uid                           357389.65521592135  1000001     2237673  \n",
       "task_id                       1429.9486235761321     1001        5992  \n",
       "adv_id                        1720.5691813375768     1001        7020  \n",
       "creat_type_cd                  1.231181612514361        2           9  \n",
       "adv_prim_id                   30.899225966287723      101         214  \n",
       "dev_id                         17.41486835377897       11          72  \n",
       "inter_type_cd                 0.7103276382288628        2           5  \n",
       "slot_id                        3.167097985067854       11          22  \n",
       "spread_app_id                  25.10112386162042       11          89  \n",
       "tags                           8.154165557587445       11          42  \n",
       "app_first_class               0.8217028376391976        2           4  \n",
       "app_second_class               3.619250695438356       11          29  \n",
       "age                           1.4153192617965202       -1           7  \n",
       "city                          101.43291692447634      101         444  \n",
       "city_rank                      0.908196213682573        2           5  \n",
       "device_name                   25.063266031528805      100          99  \n",
       "device_size                    45.07228338655767      101         349  \n",
       "career                        2.4773453826878598       10           9  \n",
       "gender                        0.8294714331999957        2           4  \n",
       "net_type                     0.42470431343106757        2           6  \n",
       "residence                     10.576117921626116       11          46  \n",
       "his_app_size                   5.898097528503572       -1           9  \n",
       "his_on_shelf_time             1.6162615277376697       -1           3  \n",
       "app_score                    0.41098686910490795        1           2  \n",
       "emui_dev                       4.527055579825146       11          28  \n",
       "list_time                     3.6426297279975546       -1           9  \n",
       "device_price                  1.1587958240779863       -1           7  \n",
       "up_life_duration               9.024164935334515       -1           9  \n",
       "up_membership_grade           0.6594331074603075       -1           3  \n",
       "membership_life_duration      0.7396529042972468       -1           9  \n",
       "consume_purchase              1.7609380333709541       10           9  \n",
       "communication_onlinerate      3.5667091919025333       -1  9^21^22^23  \n",
       "communication_avgonline_30d   1.6469923345674298       -1           9  \n",
       "indu_name                     11.050931693338034       11          52  \n",
       "pt_d                          2.0121062641235374        1           7  "
      ]
     },
     "execution_count": 11,
     "metadata": {},
     "output_type": "execute_result"
    }
   ],
   "source": [
    "# describe\n",
    "describe = raw_df.describe()\n",
    "describe.toPandas().set_index(\"summary\").T"
   ]
  },
  {
   "cell_type": "markdown",
   "metadata": {},
   "source": [
    "Most of the columns are acutallly categorical variables, doesn't make sense to lokking at those statistics.\n",
    "However, this summary is a way to confirm whether those categorical columns are really categorical"
   ]
  },
  {
   "cell_type": "code",
   "execution_count": 12,
   "metadata": {},
   "outputs": [],
   "source": [
    "numeric_columns = [\"age\",\"device_size\",'his_app_size','app_score','device_price']"
   ]
  },
  {
   "cell_type": "code",
   "execution_count": 13,
   "metadata": {},
   "outputs": [
    {
     "data": {
      "text/html": [
       "<div>\n",
       "<style scoped>\n",
       "    .dataframe tbody tr th:only-of-type {\n",
       "        vertical-align: middle;\n",
       "    }\n",
       "\n",
       "    .dataframe tbody tr th {\n",
       "        vertical-align: top;\n",
       "    }\n",
       "\n",
       "    .dataframe thead th {\n",
       "        text-align: right;\n",
       "    }\n",
       "</style>\n",
       "<table border=\"1\" class=\"dataframe\">\n",
       "  <thead>\n",
       "    <tr style=\"text-align: right;\">\n",
       "      <th>summary</th>\n",
       "      <th>count</th>\n",
       "      <th>mean</th>\n",
       "      <th>stddev</th>\n",
       "      <th>min</th>\n",
       "      <th>max</th>\n",
       "    </tr>\n",
       "  </thead>\n",
       "  <tbody>\n",
       "    <tr>\n",
       "      <th>age</th>\n",
       "      <td>41907133</td>\n",
       "      <td>5.055212772489113</td>\n",
       "      <td>1.4153192617965202</td>\n",
       "      <td>-1</td>\n",
       "      <td>7</td>\n",
       "    </tr>\n",
       "    <tr>\n",
       "      <th>device_size</th>\n",
       "      <td>41907133</td>\n",
       "      <td>158.2104430527376</td>\n",
       "      <td>45.07228338655767</td>\n",
       "      <td>101</td>\n",
       "      <td>349</td>\n",
       "    </tr>\n",
       "    <tr>\n",
       "      <th>his_app_size</th>\n",
       "      <td>41907133</td>\n",
       "      <td>6.5524609378551375</td>\n",
       "      <td>5.898097528503572</td>\n",
       "      <td>-1</td>\n",
       "      <td>9</td>\n",
       "    </tr>\n",
       "    <tr>\n",
       "      <th>app_score</th>\n",
       "      <td>41907133</td>\n",
       "      <td>1.7847627037621494</td>\n",
       "      <td>0.41098686910490795</td>\n",
       "      <td>1</td>\n",
       "      <td>2</td>\n",
       "    </tr>\n",
       "    <tr>\n",
       "      <th>device_price</th>\n",
       "      <td>41907133</td>\n",
       "      <td>3.476986387973618</td>\n",
       "      <td>1.1587958240779863</td>\n",
       "      <td>-1</td>\n",
       "      <td>7</td>\n",
       "    </tr>\n",
       "  </tbody>\n",
       "</table>\n",
       "</div>"
      ],
      "text/plain": [
       "summary          count                mean               stddev  min  max\n",
       "age           41907133   5.055212772489113   1.4153192617965202   -1    7\n",
       "device_size   41907133   158.2104430527376    45.07228338655767  101  349\n",
       "his_app_size  41907133  6.5524609378551375    5.898097528503572   -1    9\n",
       "app_score     41907133  1.7847627037621494  0.41098686910490795    1    2\n",
       "device_price  41907133   3.476986387973618   1.1587958240779863   -1    7"
      ]
     },
     "execution_count": 13,
     "metadata": {},
     "output_type": "execute_result"
    }
   ],
   "source": [
    "# describe\n",
    "describe = raw_df.select(numeric_columns) \\\n",
    "    .describe()\n",
    "describe.toPandas().set_index(\"summary\").T"
   ]
  },
  {
   "cell_type": "markdown",
   "metadata": {},
   "source": [
    "Seems like even these are numerical variables but they are already benn grouped by a different bucket levels.\n",
    "Because there is no further explanation, I need to make a few assumptions:\n",
    "1. value = -1 equal missing value\n",
    "2. value of app_score is actual score\n",
    "3. device price 1-7 means cheap to expensive\n",
    "4. age 1-7 means young to old\n",
    "\n",
    "This discovery means when processing data for models, I need to create a lot dummy variables."
   ]
  },
  {
   "cell_type": "markdown",
   "metadata": {},
   "source": [
    "# Explore Data"
   ]
  },
  {
   "cell_type": "markdown",
   "metadata": {},
   "source": [
    "## label distribution"
   ]
  },
  {
   "cell_type": "code",
   "execution_count": 14,
   "metadata": {},
   "outputs": [],
   "source": [
    "label_count = raw_df.select(\"label\").groupby(\"label\").count().toPandas()"
   ]
  },
  {
   "cell_type": "code",
   "execution_count": 15,
   "metadata": {},
   "outputs": [
    {
     "data": {
      "text/html": [
       "<div>\n",
       "<style scoped>\n",
       "    .dataframe tbody tr th:only-of-type {\n",
       "        vertical-align: middle;\n",
       "    }\n",
       "\n",
       "    .dataframe tbody tr th {\n",
       "        vertical-align: top;\n",
       "    }\n",
       "\n",
       "    .dataframe thead th {\n",
       "        text-align: right;\n",
       "    }\n",
       "</style>\n",
       "<table border=\"1\" class=\"dataframe\">\n",
       "  <thead>\n",
       "    <tr style=\"text-align: right;\">\n",
       "      <th></th>\n",
       "      <th>label</th>\n",
       "      <th>count</th>\n",
       "      <th>pct</th>\n",
       "    </tr>\n",
       "  </thead>\n",
       "  <tbody>\n",
       "    <tr>\n",
       "      <th>0</th>\n",
       "      <td>0</td>\n",
       "      <td>40461645</td>\n",
       "      <td>0.966</td>\n",
       "    </tr>\n",
       "    <tr>\n",
       "      <th>1</th>\n",
       "      <td>1</td>\n",
       "      <td>1445488</td>\n",
       "      <td>0.034</td>\n",
       "    </tr>\n",
       "  </tbody>\n",
       "</table>\n",
       "</div>"
      ],
      "text/plain": [
       "  label     count    pct\n",
       "0     0  40461645  0.966\n",
       "1     1   1445488  0.034"
      ]
     },
     "execution_count": 15,
     "metadata": {},
     "output_type": "execute_result"
    }
   ],
   "source": [
    "label_count[\"pct\"] = np.round(label_count[\"count\"].values/raw_df_shape[0],decimals=3)\n",
    "label_count"
   ]
  },
  {
   "cell_type": "code",
   "execution_count": 16,
   "metadata": {},
   "outputs": [
    {
     "data": {
      "image/png": "[encoded data removed]",
      "text/plain": [
       "<Figure size 432x288 with 1 Axes>"
      ]
     },
     "metadata": {
      "needs_background": "light"
     },
     "output_type": "display_data"
    }
   ],
   "source": [
    "plot = sns.barplot(label_count[\"label\"].values,label_count[\"count\"].values/raw_df_shape[0])"
   ]
  },
  {
   "cell_type": "markdown",
   "metadata": {},
   "source": [
    "The label distribution is imbalance. But it is expected. This means CTR in this dataset is around 3.5% which is better than the average CTR number I googled.\n",
    "<img src=\"images/avg_ctr.png\">\n",
    "The better and alternative way to get the mean CTR is conducting a random sampling to get the esstimation of population mean CTR. But this project is more about demonstrating my skills in develop and deploy the whole system; therefore for faster development, I'll just use the simple mean."
   ]
  },
  {
   "cell_type": "markdown",
   "metadata": {},
   "source": [
    "## ID columns"
   ]
  },
  {
   "cell_type": "code",
   "execution_count": 17,
   "metadata": {},
   "outputs": [
    {
     "data": {
      "text/plain": [
       "['label',\n",
       " 'uid',\n",
       " 'task_id',\n",
       " 'adv_id',\n",
       " 'creat_type_cd',\n",
       " 'adv_prim_id',\n",
       " 'dev_id',\n",
       " 'inter_type_cd',\n",
       " 'slot_id',\n",
       " 'spread_app_id',\n",
       " 'tags',\n",
       " 'app_first_class',\n",
       " 'app_second_class',\n",
       " 'age',\n",
       " 'city',\n",
       " 'city_rank',\n",
       " 'device_name',\n",
       " 'device_size',\n",
       " 'career',\n",
       " 'gender',\n",
       " 'net_type',\n",
       " 'residence',\n",
       " 'his_app_size',\n",
       " 'his_on_shelf_time',\n",
       " 'app_score',\n",
       " 'emui_dev',\n",
       " 'list_time',\n",
       " 'device_price',\n",
       " 'up_life_duration',\n",
       " 'up_membership_grade',\n",
       " 'membership_life_duration',\n",
       " 'consume_purchase',\n",
       " 'communication_onlinerate',\n",
       " 'communication_avgonline_30d',\n",
       " 'indu_name',\n",
       " 'pt_d']"
      ]
     },
     "execution_count": 17,
     "metadata": {},
     "output_type": "execute_result"
    }
   ],
   "source": [
    "raw_df.columns"
   ]
  },
  {
   "cell_type": "code",
   "execution_count": 18,
   "metadata": {},
   "outputs": [],
   "source": [
    "id_columns = ['uid','task_id','adv_id','creat_type_cd','adv_prim_id','dev_id','inter_type_cd','slot_id','spread_app_id']"
   ]
  },
  {
   "cell_type": "code",
   "execution_count": 19,
   "metadata": {},
   "outputs": [
    {
     "name": "stdout",
     "output_type": "stream",
     "text": [
      "+-------------------+\n",
      "|count(DISTINCT uid)|\n",
      "+-------------------+\n",
      "|            1081436|\n",
      "+-------------------+\n",
      "\n",
      "+-----------------------+\n",
      "|count(DISTINCT task_id)|\n",
      "+-----------------------+\n",
      "|                   4329|\n",
      "+-----------------------+\n",
      "\n",
      "+----------------------+\n",
      "|count(DISTINCT adv_id)|\n",
      "+----------------------+\n",
      "|                  5319|\n",
      "+----------------------+\n",
      "\n",
      "+-----------------------------+\n",
      "|count(DISTINCT creat_type_cd)|\n",
      "+-----------------------------+\n",
      "|                            8|\n",
      "+-----------------------------+\n",
      "\n",
      "+---------------------------+\n",
      "|count(DISTINCT adv_prim_id)|\n",
      "+---------------------------+\n",
      "|                        101|\n",
      "+---------------------------+\n",
      "\n",
      "+----------------------+\n",
      "|count(DISTINCT dev_id)|\n",
      "+----------------------+\n",
      "|                    55|\n",
      "+----------------------+\n",
      "\n",
      "+-----------------------------+\n",
      "|count(DISTINCT inter_type_cd)|\n",
      "+-----------------------------+\n",
      "|                            4|\n",
      "+-----------------------------+\n",
      "\n",
      "+-----------------------+\n",
      "|count(DISTINCT slot_id)|\n",
      "+-----------------------+\n",
      "|                     12|\n",
      "+-----------------------+\n",
      "\n",
      "+-----------------------------+\n",
      "|count(DISTINCT spread_app_id)|\n",
      "+-----------------------------+\n",
      "|                           70|\n",
      "+-----------------------------+\n",
      "\n"
     ]
    }
   ],
   "source": [
    "for col in id_columns:\n",
    "    raw_df.select(F.countDistinct(col)).distinct().show()"
   ]
  },
  {
   "cell_type": "markdown",
   "metadata": {},
   "source": [
    "After looking at id columns closely, I discoverd \n",
    "1. some features are really ID, some  features are not\n",
    "2. some id values are actully a feature to another higher level features.\n",
    "\n",
    "With these two findings I constructed following feature map:\n",
    "\n",
    "1. users:\n",
    "    - uid\n",
    "    - age \n",
    "    - city\n",
    "        - city_rank\n",
    "        - residence\n",
    "    - career\n",
    "    - gender\n",
    "    - up_life_duration\n",
    "    - up_membership_grade\n",
    "    - membership_life_duration\n",
    "    - consume_purchase\n",
    "    - communication_onlinerate\n",
    "    - communication_avgonline_30d\n",
    "2. ads\n",
    "    - task_id\n",
    "    - adv_id\n",
    "    - creat_type_cd\n",
    "    - adv_prim_id\n",
    "    - dev_id\n",
    "    - inter_typ_cd\n",
    "    - slot_id\n",
    "    - indu_name\n",
    "3. apps\n",
    "    - spread_app_id\n",
    "    - tags\n",
    "    - app_first_class\n",
    "    - app_second_class\n",
    "    - his_app_size\n",
    "    - his_on_shelf_time\n",
    "    - app_score\n",
    "4. device\n",
    "    - device_name\n",
    "    - device_size\n",
    "    - emui_dev\n",
    "    - list_time\n",
    "    - device_price\n",
    "6. behavior/event\n",
    "    - net_type\n",
    "    - pt_d\n",
    "   \n",
    "I will start explore features following this feature map"
   ]
  },
  {
   "cell_type": "markdown",
   "metadata": {},
   "source": [
    "## Users\n",
    "\n",
    "users:\n",
    "- uid\n",
    "- age \n",
    "- city\n",
    "    - city_rank\n",
    "    - residence\n",
    "- career\n",
    "- gender\n",
    "- up_life_duration\n",
    "- up_membership_grade\n",
    "- membership_life_duration\n",
    "- consume_purchase\n",
    "- communication_onlinerate\n",
    "- communication_avgonline_30d"
   ]
  },
  {
   "cell_type": "markdown",
   "metadata": {},
   "source": [
    "### uid"
   ]
  },
  {
   "cell_type": "code",
   "execution_count": 20,
   "metadata": {},
   "outputs": [],
   "source": [
    "# Instantiating EDA object\n",
    "eda = EDA(target_ctr=0.035)\n",
    "# cast label into int for calculation\n",
    "raw_df = raw_df.withColumn(\"label_int\",raw_df[\"label\"].cast(\"integer\"))"
   ]
  },
  {
   "cell_type": "code",
   "execution_count": 21,
   "metadata": {},
   "outputs": [
    {
     "name": "stdout",
     "output_type": "stream",
     "text": [
      "CTR distribution by uid\n",
      "count    1.081436e+06\n",
      "mean     1.488611e-01\n",
      "std      1.990887e-01\n",
      "min      0.000000e+00\n",
      "25%      1.515152e-02\n",
      "50%      6.000000e-02\n",
      "75%      2.000000e-01\n",
      "max      1.000000e+00\n",
      "Name: uid_ctr, dtype: float64\n"
     ]
    },
    {
     "data": {
      "image/png": "[encoded data removed]",
      "text/plain": [
       "<Figure size 432x288 with 1 Axes>"
      ]
     },
     "metadata": {
      "needs_background": "light"
     },
     "output_type": "display_data"
    },
    {
     "data": {
      "image/png": "[encoded data removed]",
      "text/plain": [
       "<Figure size 432x288 with 1 Axes>"
      ]
     },
     "metadata": {
      "needs_background": "light"
     },
     "output_type": "display_data"
    },
    {
     "data": {
      "image/png": "[encoded data removed]",
      "text/plain": [
       "<Figure size 432x288 with 1 Axes>"
      ]
     },
     "metadata": {
      "needs_background": "light"
     },
     "output_type": "display_data"
    },
    {
     "data": {
      "image/png": "[encoded data removed]",
      "text/plain": [
       "<Figure size 432x288 with 1 Axes>"
      ]
     },
     "metadata": {
      "needs_background": "light"
     },
     "output_type": "display_data"
    }
   ],
   "source": [
    "high_ctr_uids, low_ctr_uids = eda.id_analysis(raw_df,\"uid\")"
   ]
  },
  {
   "cell_type": "code",
   "execution_count": 22,
   "metadata": {},
   "outputs": [],
   "source": [
    "user_features = [\"age\",                 \n",
    "                 #city,\n",
    "                 \"city_rank\",\n",
    "                 \"residence\",\n",
    "                 \"career\",\n",
    "                 \"gender\",\n",
    "                 \"up_life_duration\",\n",
    "                 \"up_membership_grade\",\n",
    "                 \"membership_life_duration\",\n",
    "                 \"consume_purchase\",\n",
    "                 #\"communication_onlinerate\",\n",
    "                 \"communication_avgonline_30d\"\n",
    "                ]"
   ]
  },
  {
   "cell_type": "code",
   "execution_count": 23,
   "metadata": {},
   "outputs": [
    {
     "name": "stdout",
     "output_type": "stream",
     "text": [
      "ANALYZE age\n"
     ]
    },
    {
     "data": {
      "image/png": "[encoded data removed]",
      "text/plain": [
       "<Figure size 432x288 with 1 Axes>"
      ]
     },
     "metadata": {
      "needs_background": "light"
     },
     "output_type": "display_data"
    },
    {
     "name": "stdout",
     "output_type": "stream",
     "text": [
      "CTR\n"
     ]
    },
    {
     "data": {
      "image/png": "[encoded data removed]",
      "text/plain": [
       "<Figure size 432x288 with 1 Axes>"
      ]
     },
     "metadata": {
      "needs_background": "light"
     },
     "output_type": "display_data"
    },
    {
     "name": "stdout",
     "output_type": "stream",
     "text": [
      "distritubtions of click or not\n"
     ]
    },
    {
     "data": {
      "image/png": "[encoded data removed]",
      "text/plain": [
       "<Figure size 432x288 with 1 Axes>"
      ]
     },
     "metadata": {
      "needs_background": "light"
     },
     "output_type": "display_data"
    },
    {
     "name": "stdout",
     "output_type": "stream",
     "text": [
      "\n",
      "====================\n",
      "\n",
      "ANALYZE city_rank\n"
     ]
    },
    {
     "data": {
      "image/png": "[encoded data removed]",
      "text/plain": [
       "<Figure size 432x288 with 1 Axes>"
      ]
     },
     "metadata": {
      "needs_background": "light"
     },
     "output_type": "display_data"
    },
    {
     "name": "stdout",
     "output_type": "stream",
     "text": [
      "CTR\n"
     ]
    },
    {
     "data": {
      "image/png": "[encoded data removed]",
      "text/plain": [
       "<Figure size 432x288 with 1 Axes>"
      ]
     },
     "metadata": {
      "needs_background": "light"
     },
     "output_type": "display_data"
    },
    {
     "name": "stdout",
     "output_type": "stream",
     "text": [
      "distritubtions of click or not\n"
     ]
    },
    {
     "data": {
      "image/png": "[encoded data removed]",
      "text/plain": [
       "<Figure size 432x288 with 1 Axes>"
      ]
     },
     "metadata": {
      "needs_background": "light"
     },
     "output_type": "display_data"
    },
    {
     "name": "stdout",
     "output_type": "stream",
     "text": [
      "\n",
      "====================\n",
      "\n",
      "ANALYZE residence\n"
     ]
    },
    {
     "data": {
      "image/png": "[encoded data removed]",
      "text/plain": [
       "<Figure size 432x288 with 1 Axes>"
      ]
     },
     "metadata": {
      "needs_background": "light"
     },
     "output_type": "display_data"
    },
    {
     "name": "stdout",
     "output_type": "stream",
     "text": [
      "CTR\n"
     ]
    },
    {
     "data": {
      "image/png": "[encoded data removed]",
      "text/plain": [
       "<Figure size 432x288 with 1 Axes>"
      ]
     },
     "metadata": {
      "needs_background": "light"
     },
     "output_type": "display_data"
    },
    {
     "name": "stdout",
     "output_type": "stream",
     "text": [
      "distritubtions of click or not\n"
     ]
    },
    {
     "data": {
      "image/png": "[encoded data removed]",
      "text/plain": [
       "<Figure size 432x288 with 1 Axes>"
      ]
     },
     "metadata": {
      "needs_background": "light"
     },
     "output_type": "display_data"
    },
    {
     "name": "stdout",
     "output_type": "stream",
     "text": [
      "\n",
      "====================\n",
      "\n",
      "ANALYZE career\n"
     ]
    },
    {
     "data": {
      "image/png": "[encoded data removed]",
      "text/plain": [
       "<Figure size 432x288 with 1 Axes>"
      ]
     },
     "metadata": {
      "needs_background": "light"
     },
     "output_type": "display_data"
    },
    {
     "name": "stdout",
     "output_type": "stream",
     "text": [
      "CTR\n"
     ]
    },
    {
     "data": {
      "image/png": "[encoded data removed]",
      "text/plain": [
       "<Figure size 432x288 with 1 Axes>"
      ]
     },
     "metadata": {
      "needs_background": "light"
     },
     "output_type": "display_data"
    },
    {
     "name": "stdout",
     "output_type": "stream",
     "text": [
      "distritubtions of click or not\n"
     ]
    },
    {
     "data": {
      "image/png": "[encoded data removed]",
      "text/plain": [
       "<Figure size 432x288 with 1 Axes>"
      ]
     },
     "metadata": {
      "needs_background": "light"
     },
     "output_type": "display_data"
    },
    {
     "name": "stdout",
     "output_type": "stream",
     "text": [
      "\n",
      "====================\n",
      "\n",
      "ANALYZE gender\n"
     ]
    },
    {
     "data": {
      "image/png": "[encoded data removed]",
      "text/plain": [
       "<Figure size 432x288 with 1 Axes>"
      ]
     },
     "metadata": {
      "needs_background": "light"
     },
     "output_type": "display_data"
    },
    {
     "name": "stdout",
     "output_type": "stream",
     "text": [
      "CTR\n"
     ]
    },
    {
     "data": {
      "image/png": "[encoded data removed]",
      "text/plain": [
       "<Figure size 432x288 with 1 Axes>"
      ]
     },
     "metadata": {
      "needs_background": "light"
     },
     "output_type": "display_data"
    },
    {
     "name": "stdout",
     "output_type": "stream",
     "text": [
      "distritubtions of click or not\n"
     ]
    },
    {
     "data": {
      "image/png": "[encoded data removed]",
      "text/plain": [
       "<Figure size 432x288 with 1 Axes>"
      ]
     },
     "metadata": {
      "needs_background": "light"
     },
     "output_type": "display_data"
    },
    {
     "name": "stdout",
     "output_type": "stream",
     "text": [
      "\n",
      "====================\n",
      "\n",
      "ANALYZE up_life_duration\n"
     ]
    },
    {
     "data": {
      "image/png": "[encoded data removed]",
      "text/plain": [
       "<Figure size 432x288 with 1 Axes>"
      ]
     },
     "metadata": {
      "needs_background": "light"
     },
     "output_type": "display_data"
    },
    {
     "name": "stdout",
     "output_type": "stream",
     "text": [
      "CTR\n"
     ]
    },
    {
     "data": {
      "image/png": "[encoded data removed]",
      "text/plain": [
       "<Figure size 432x288 with 1 Axes>"
      ]
     },
     "metadata": {
      "needs_background": "light"
     },
     "output_type": "display_data"
    },
    {
     "name": "stdout",
     "output_type": "stream",
     "text": [
      "distritubtions of click or not\n"
     ]
    },
    {
     "data": {
      "image/png": "[encoded data removed]",
      "text/plain": [
       "<Figure size 432x288 with 1 Axes>"
      ]
     },
     "metadata": {
      "needs_background": "light"
     },
     "output_type": "display_data"
    },
    {
     "name": "stdout",
     "output_type": "stream",
     "text": [
      "\n",
      "====================\n",
      "\n",
      "ANALYZE up_membership_grade\n"
     ]
    },
    {
     "data": {
      "image/png": "[encoded data removed]",
      "text/plain": [
       "<Figure size 432x288 with 1 Axes>"
      ]
     },
     "metadata": {
      "needs_background": "light"
     },
     "output_type": "display_data"
    },
    {
     "name": "stdout",
     "output_type": "stream",
     "text": [
      "CTR\n"
     ]
    },
    {
     "data": {
      "image/png": "[encoded data removed]",
      "text/plain": [
       "<Figure size 432x288 with 1 Axes>"
      ]
     },
     "metadata": {
      "needs_background": "light"
     },
     "output_type": "display_data"
    },
    {
     "name": "stdout",
     "output_type": "stream",
     "text": [
      "distritubtions of click or not\n"
     ]
    },
    {
     "data": {
      "image/png": "[encoded data removed]",
      "text/plain": [
       "<Figure size 432x288 with 1 Axes>"
      ]
     },
     "metadata": {
      "needs_background": "light"
     },
     "output_type": "display_data"
    },
    {
     "name": "stdout",
     "output_type": "stream",
     "text": [
      "\n",
      "====================\n",
      "\n",
      "ANALYZE membership_life_duration\n"
     ]
    },
    {
     "data": {
      "image/png": "[encoded data removed]",
      "text/plain": [
       "<Figure size 432x288 with 1 Axes>"
      ]
     },
     "metadata": {
      "needs_background": "light"
     },
     "output_type": "display_data"
    },
    {
     "name": "stdout",
     "output_type": "stream",
     "text": [
      "CTR\n"
     ]
    },
    {
     "data": {
      "image/png": "[encoded data removed]",
      "text/plain": [
       "<Figure size 432x288 with 1 Axes>"
      ]
     },
     "metadata": {
      "needs_background": "light"
     },
     "output_type": "display_data"
    },
    {
     "name": "stdout",
     "output_type": "stream",
     "text": [
      "distritubtions of click or not\n"
     ]
    },
    {
     "data": {
      "image/png": "[encoded data removed]",
      "text/plain": [
       "<Figure size 432x288 with 1 Axes>"
      ]
     },
     "metadata": {
      "needs_background": "light"
     },
     "output_type": "display_data"
    },
    {
     "name": "stdout",
     "output_type": "stream",
     "text": [
      "\n",
      "====================\n",
      "\n",
      "ANALYZE consume_purchase\n"
     ]
    },
    {
     "data": {
      "image/png": "[encoded data removed]",
      "text/plain": [
       "<Figure size 432x288 with 1 Axes>"
      ]
     },
     "metadata": {
      "needs_background": "light"
     },
     "output_type": "display_data"
    },
    {
     "name": "stdout",
     "output_type": "stream",
     "text": [
      "CTR\n"
     ]
    },
    {
     "data": {
      "image/png": "[encoded data removed]",
      "text/plain": [
       "<Figure size 432x288 with 1 Axes>"
      ]
     },
     "metadata": {
      "needs_background": "light"
     },
     "output_type": "display_data"
    },
    {
     "name": "stdout",
     "output_type": "stream",
     "text": [
      "distritubtions of click or not\n"
     ]
    },
    {
     "data": {
      "image/png": "[encoded data removed]",
      "text/plain": [
       "<Figure size 432x288 with 1 Axes>"
      ]
     },
     "metadata": {
      "needs_background": "light"
     },
     "output_type": "display_data"
    },
    {
     "name": "stdout",
     "output_type": "stream",
     "text": [
      "\n",
      "====================\n",
      "\n",
      "ANALYZE communication_avgonline_30d\n"
     ]
    },
    {
     "data": {
      "image/png": "[encoded data removed]",
      "text/plain": [
       "<Figure size 432x288 with 1 Axes>"
      ]
     },
     "metadata": {
      "needs_background": "light"
     },
     "output_type": "display_data"
    },
    {
     "name": "stdout",
     "output_type": "stream",
     "text": [
      "CTR\n"
     ]
    },
    {
     "data": {
      "image/png": "[encoded data removed]",
      "text/plain": [
       "<Figure size 432x288 with 1 Axes>"
      ]
     },
     "metadata": {
      "needs_background": "light"
     },
     "output_type": "display_data"
    },
    {
     "name": "stdout",
     "output_type": "stream",
     "text": [
      "distritubtions of click or not\n"
     ]
    },
    {
     "data": {
      "image/png": "[encoded data removed]",
      "text/plain": [
       "<Figure size 432x288 with 1 Axes>"
      ]
     },
     "metadata": {
      "needs_background": "light"
     },
     "output_type": "display_data"
    },
    {
     "name": "stdout",
     "output_type": "stream",
     "text": [
      "\n",
      "====================\n",
      "\n"
     ]
    }
   ],
   "source": [
    "for feature in user_features:\n",
    "    print(f\"ANALYZE {feature}\")\n",
    "    eda.cat_analysis(raw_df,feature,\"uid\")\n",
    "    eda.click_not_click_distrubitions(raw_df,feature)\n",
    "    print(\"\")\n",
    "    print(\"=\"*20)\n",
    "    print(\"\")"
   ]
  },
  {
   "cell_type": "markdown",
   "metadata": {},
   "source": [
    "## communication_onlinerate"
   ]
  },
  {
   "cell_type": "code",
   "execution_count": 24,
   "metadata": {},
   "outputs": [
    {
     "name": "stdout",
     "output_type": "stream",
     "text": [
      "+--------------------------------------+\n",
      "|split(communication_onlinerate, ^, -1)|\n",
      "+--------------------------------------+\n",
      "|                  [0^1^2^3^4^5^6^7^...|\n",
      "|                  [3^4^5^6^7^8^9^10...|\n",
      "|                  [0^1^2^3^4^5^6^7^...|\n",
      "|                  [5^6^7^8^9^10^11^...|\n",
      "|                  [2^3^4^5^6^7^8^9^...|\n",
      "|                  [6^7^8^9^10^11^12...|\n",
      "|                  [0^1^2^3^4^5^6^7^...|\n",
      "|                  [14^15^16^17^18^1...|\n",
      "|                  [1^2^3^4^5^6^7^8^...|\n",
      "|                  [6^7^8^9^10^11^12...|\n",
      "|                  [6^7^8^9^10^11^12...|\n",
      "|                            [21^22^23]|\n",
      "|                  [2^3^4^5^6^7^8^9^...|\n",
      "|                  [6^7^8^9^10^11^12...|\n",
      "|                  [4^5^6^7^8^9^10^1...|\n",
      "|                  [7^8^9^10^11^12^1...|\n",
      "|                  [6^7^8^9^10^11^12...|\n",
      "|                  [6^7^8^9^10^11^12...|\n",
      "|                  [4^5^6^7^8^9^10^1...|\n",
      "|                  [6^7^8^9^10^11^12...|\n",
      "+--------------------------------------+\n",
      "only showing top 20 rows\n",
      "\n"
     ]
    }
   ],
   "source": [
    "raw_df.select(F.split(raw_df.communication_onlinerate,\"^\")).show()"
   ]
  },
  {
   "cell_type": "markdown",
   "metadata": {},
   "source": [
    "So weird that it didn't split on \"^\", I have to try another way"
   ]
  },
  {
   "cell_type": "code",
   "execution_count": 25,
   "metadata": {},
   "outputs": [
    {
     "name": "stdout",
     "output_type": "stream",
     "text": [
      "+------------------------------+-----------------------------+\n",
      "|start_communication_onlinerate|last_communication_onlinerate|\n",
      "+------------------------------+-----------------------------+\n",
      "|                             0|                           23|\n",
      "|                             3|                           23|\n",
      "|                             0|                           23|\n",
      "|                             5|                           23|\n",
      "|                             2|                           23|\n",
      "|                             6|                           23|\n",
      "|                             0|                           23|\n",
      "|                            14|                           23|\n",
      "|                             1|                           23|\n",
      "|                             6|                           23|\n",
      "|                             6|                           23|\n",
      "|                            21|                           23|\n",
      "|                             2|                           23|\n",
      "|                             6|                           23|\n",
      "|                             4|                           23|\n",
      "|                             7|                           23|\n",
      "|                             6|                           23|\n",
      "|                             6|                           23|\n",
      "|                             4|                           23|\n",
      "|                             6|                           23|\n",
      "+------------------------------+-----------------------------+\n",
      "only showing top 20 rows\n",
      "\n"
     ]
    }
   ],
   "source": [
    "# parse out only start and end time\n",
    "raw_df = raw_df.withColumn(\"start_communication_onlinerate\",raw_df.communication_onlinerate.substr(1,2))\n",
    "raw_df = raw_df.withColumn(\"start_communication_onlinerate\",F.regexp_extract(raw_df.start_communication_onlinerate,r'(\\d+)',1))\n",
    "raw_df = raw_df.withColumn(\"last_communication_onlinerate\",raw_df.communication_onlinerate.substr(-2,2))\n",
    "raw_df = raw_df.withColumn(\"last_communication_onlinerate\",F.regexp_extract(raw_df.last_communication_onlinerate,r'(\\d+)',1))\n",
    "\n",
    "raw_df.select(\"start_communication_onlinerate\",\"last_communication_onlinerate\").show()"
   ]
  },
  {
   "cell_type": "code",
   "execution_count": 26,
   "metadata": {},
   "outputs": [],
   "source": [
    "# make ending at 0 convert to 24\n",
    "raw_df = raw_df.withColumn(\"last_communication_onlinerate\"\\\n",
    "                           ,F.when(raw_df.last_communication_onlinerate == 0, 24)\\\n",
    "                           .otherwise(raw_df.last_communication_onlinerate))"
   ]
  },
  {
   "cell_type": "code",
   "execution_count": 27,
   "metadata": {},
   "outputs": [],
   "source": [
    "# calculate the online duration in that day\n",
    "raw_df = raw_df.withColumn(\"duration_communication_onlinerate\"\\\n",
    "                  ,raw_df.last_communication_onlinerate-raw_df.start_communication_onlinerate)"
   ]
  },
  {
   "cell_type": "code",
   "execution_count": 28,
   "metadata": {},
   "outputs": [
    {
     "name": "stdout",
     "output_type": "stream",
     "text": [
      "ANALYZE start_communication_onlinerate\n"
     ]
    },
    {
     "data": {
      "image/png": "[encoded data removed]",
      "text/plain": [
       "<Figure size 432x288 with 1 Axes>"
      ]
     },
     "metadata": {
      "needs_background": "light"
     },
     "output_type": "display_data"
    },
    {
     "name": "stdout",
     "output_type": "stream",
     "text": [
      "CTR\n"
     ]
    },
    {
     "data": {
      "image/png": "[encoded data removed]",
      "text/plain": [
       "<Figure size 432x288 with 1 Axes>"
      ]
     },
     "metadata": {
      "needs_background": "light"
     },
     "output_type": "display_data"
    },
    {
     "name": "stdout",
     "output_type": "stream",
     "text": [
      "distritubtions of click or not\n"
     ]
    },
    {
     "data": {
      "image/png": "[encoded data removed]",
      "text/plain": [
       "<Figure size 432x288 with 1 Axes>"
      ]
     },
     "metadata": {
      "needs_background": "light"
     },
     "output_type": "display_data"
    },
    {
     "name": "stdout",
     "output_type": "stream",
     "text": [
      "\n",
      "====================\n",
      "\n",
      "ANALYZE last_communication_onlinerate\n"
     ]
    },
    {
     "data": {
      "image/png": "[encoded data removed]",
      "text/plain": [
       "<Figure size 432x288 with 1 Axes>"
      ]
     },
     "metadata": {
      "needs_background": "light"
     },
     "output_type": "display_data"
    },
    {
     "name": "stdout",
     "output_type": "stream",
     "text": [
      "CTR\n"
     ]
    },
    {
     "data": {
      "image/png": "[encoded data removed]",
      "text/plain": [
       "<Figure size 432x288 with 1 Axes>"
      ]
     },
     "metadata": {
      "needs_background": "light"
     },
     "output_type": "display_data"
    },
    {
     "name": "stdout",
     "output_type": "stream",
     "text": [
      "distritubtions of click or not\n"
     ]
    },
    {
     "data": {
      "image/png": "[encoded data removed]",
      "text/plain": [
       "<Figure size 432x288 with 1 Axes>"
      ]
     },
     "metadata": {
      "needs_background": "light"
     },
     "output_type": "display_data"
    },
    {
     "name": "stdout",
     "output_type": "stream",
     "text": [
      "\n",
      "====================\n",
      "\n",
      "ANALYZE duration_communication_onlinerate\n"
     ]
    },
    {
     "data": {
      "image/png": "[encoded data removed]",
      "text/plain": [
       "<Figure size 432x288 with 1 Axes>"
      ]
     },
     "metadata": {
      "needs_background": "light"
     },
     "output_type": "display_data"
    },
    {
     "name": "stdout",
     "output_type": "stream",
     "text": [
      "CTR\n"
     ]
    },
    {
     "data": {
      "image/png": "[encoded data removed]",
      "text/plain": [
       "<Figure size 432x288 with 1 Axes>"
      ]
     },
     "metadata": {
      "needs_background": "light"
     },
     "output_type": "display_data"
    },
    {
     "name": "stdout",
     "output_type": "stream",
     "text": [
      "distritubtions of click or not\n"
     ]
    },
    {
     "ename": "ValueError",
     "evalue": "Could not interpret input 'duration_communication_onlinerate'",
     "output_type": "error",
     "traceback": [
      "\u001b[0;31m---------------------------------------------------------------------------\u001b[0m",
      "\u001b[0;31mValueError\u001b[0m                                Traceback (most recent call last)",
      "\u001b[0;32m<ipython-input-28-c7cfe210866a>\u001b[0m in \u001b[0;36m<module>\u001b[0;34m\u001b[0m\n\u001b[1;32m      2\u001b[0m     \u001b[0mprint\u001b[0m\u001b[0;34m(\u001b[0m\u001b[0;34mf\"ANALYZE {feature}\"\u001b[0m\u001b[0;34m)\u001b[0m\u001b[0;34m\u001b[0m\u001b[0;34m\u001b[0m\u001b[0m\n\u001b[1;32m      3\u001b[0m     \u001b[0meda\u001b[0m\u001b[0;34m.\u001b[0m\u001b[0mcat_analysis\u001b[0m\u001b[0;34m(\u001b[0m\u001b[0mraw_df\u001b[0m\u001b[0;34m,\u001b[0m\u001b[0mfeature\u001b[0m\u001b[0;34m,\u001b[0m\u001b[0;34m\"uid\"\u001b[0m\u001b[0;34m)\u001b[0m\u001b[0;34m\u001b[0m\u001b[0;34m\u001b[0m\u001b[0m\n\u001b[0;32m----> 4\u001b[0;31m     \u001b[0meda\u001b[0m\u001b[0;34m.\u001b[0m\u001b[0mclick_not_click_distrubitions\u001b[0m\u001b[0;34m(\u001b[0m\u001b[0mraw_df\u001b[0m\u001b[0;34m,\u001b[0m\u001b[0mfeature\u001b[0m\u001b[0;34m)\u001b[0m\u001b[0;34m\u001b[0m\u001b[0;34m\u001b[0m\u001b[0m\n\u001b[0m\u001b[1;32m      5\u001b[0m     \u001b[0mprint\u001b[0m\u001b[0;34m(\u001b[0m\u001b[0;34m\"\"\u001b[0m\u001b[0;34m)\u001b[0m\u001b[0;34m\u001b[0m\u001b[0;34m\u001b[0m\u001b[0m\n\u001b[1;32m      6\u001b[0m     \u001b[0mprint\u001b[0m\u001b[0;34m(\u001b[0m\u001b[0;34m\"=\"\u001b[0m\u001b[0;34m*\u001b[0m\u001b[0;36m20\u001b[0m\u001b[0;34m)\u001b[0m\u001b[0;34m\u001b[0m\u001b[0;34m\u001b[0m\u001b[0m\n",
      "\u001b[0;32m~/MLE_Nanodegree_Capstone/EDA.py\u001b[0m in \u001b[0;36mclick_not_click_distrubitions\u001b[0;34m(self, raw_df, col)\u001b[0m\n\u001b[1;32m    132\u001b[0m         \u001b[0mdf\u001b[0m \u001b[0;34m=\u001b[0m \u001b[0mpd\u001b[0m\u001b[0;34m.\u001b[0m\u001b[0mmerge\u001b[0m\u001b[0;34m(\u001b[0m\u001b[0mdf\u001b[0m\u001b[0;34m,\u001b[0m \u001b[0mdf\u001b[0m\u001b[0;34m.\u001b[0m\u001b[0mgroupby\u001b[0m\u001b[0;34m(\u001b[0m\u001b[0;34m\"label\"\u001b[0m\u001b[0;34m)\u001b[0m\u001b[0;34m.\u001b[0m\u001b[0msum\u001b[0m\u001b[0;34m(\u001b[0m\u001b[0;34m)\u001b[0m\u001b[0;34m,\u001b[0m \u001b[0mon\u001b[0m\u001b[0;34m=\u001b[0m\u001b[0;34m'label'\u001b[0m\u001b[0;34m)\u001b[0m\u001b[0;34m\u001b[0m\u001b[0;34m\u001b[0m\u001b[0m\n\u001b[1;32m    133\u001b[0m         \u001b[0mdf\u001b[0m\u001b[0;34m[\u001b[0m\u001b[0;34m'pct'\u001b[0m\u001b[0;34m]\u001b[0m \u001b[0;34m=\u001b[0m \u001b[0mdf\u001b[0m\u001b[0;34m[\u001b[0m\u001b[0;34m'count_x'\u001b[0m\u001b[0;34m]\u001b[0m \u001b[0;34m/\u001b[0m \u001b[0mdf\u001b[0m\u001b[0;34m[\u001b[0m\u001b[0;34m'count_y'\u001b[0m\u001b[0;34m]\u001b[0m\u001b[0;34m\u001b[0m\u001b[0;34m\u001b[0m\u001b[0m\n\u001b[0;32m--> 134\u001b[0;31m         \u001b[0msns\u001b[0m\u001b[0;34m.\u001b[0m\u001b[0mbarplot\u001b[0m\u001b[0;34m(\u001b[0m\u001b[0mx\u001b[0m\u001b[0;34m=\u001b[0m\u001b[0mcol\u001b[0m\u001b[0;34m,\u001b[0m \u001b[0my\u001b[0m\u001b[0;34m=\u001b[0m\u001b[0;34m\"pct\"\u001b[0m\u001b[0;34m,\u001b[0m \u001b[0mhue\u001b[0m\u001b[0;34m=\u001b[0m\u001b[0;34m\"label\"\u001b[0m\u001b[0;34m,\u001b[0m \u001b[0mhue_order\u001b[0m\u001b[0;34m=\u001b[0m\u001b[0;34m[\u001b[0m\u001b[0;34m'1'\u001b[0m\u001b[0;34m,\u001b[0m \u001b[0;34m'0'\u001b[0m\u001b[0;34m]\u001b[0m\u001b[0;34m,\u001b[0m \u001b[0mdata\u001b[0m\u001b[0;34m=\u001b[0m\u001b[0mdf\u001b[0m\u001b[0;34m)\u001b[0m\u001b[0;34m\u001b[0m\u001b[0;34m\u001b[0m\u001b[0m\n\u001b[0m\u001b[1;32m    135\u001b[0m         \u001b[0mplt\u001b[0m\u001b[0;34m.\u001b[0m\u001b[0mshow\u001b[0m\u001b[0;34m(\u001b[0m\u001b[0;34m)\u001b[0m\u001b[0;34m\u001b[0m\u001b[0;34m\u001b[0m\u001b[0m\n\u001b[1;32m    136\u001b[0m \u001b[0;34m\u001b[0m\u001b[0m\n",
      "\u001b[0;32m~/.local/lib/python3.6/site-packages/seaborn/categorical.py\u001b[0m in \u001b[0;36mbarplot\u001b[0;34m(x, y, hue, data, order, hue_order, estimator, ci, n_boot, units, seed, orient, color, palette, saturation, errcolor, errwidth, capsize, dodge, ax, **kwargs)\u001b[0m\n\u001b[1;32m   3145\u001b[0m                           \u001b[0mestimator\u001b[0m\u001b[0;34m,\u001b[0m \u001b[0mci\u001b[0m\u001b[0;34m,\u001b[0m \u001b[0mn_boot\u001b[0m\u001b[0;34m,\u001b[0m \u001b[0munits\u001b[0m\u001b[0;34m,\u001b[0m \u001b[0mseed\u001b[0m\u001b[0;34m,\u001b[0m\u001b[0;34m\u001b[0m\u001b[0;34m\u001b[0m\u001b[0m\n\u001b[1;32m   3146\u001b[0m                           \u001b[0morient\u001b[0m\u001b[0;34m,\u001b[0m \u001b[0mcolor\u001b[0m\u001b[0;34m,\u001b[0m \u001b[0mpalette\u001b[0m\u001b[0;34m,\u001b[0m \u001b[0msaturation\u001b[0m\u001b[0;34m,\u001b[0m\u001b[0;34m\u001b[0m\u001b[0;34m\u001b[0m\u001b[0m\n\u001b[0;32m-> 3147\u001b[0;31m                           errcolor, errwidth, capsize, dodge)\n\u001b[0m\u001b[1;32m   3148\u001b[0m \u001b[0;34m\u001b[0m\u001b[0m\n\u001b[1;32m   3149\u001b[0m     \u001b[0;32mif\u001b[0m \u001b[0max\u001b[0m \u001b[0;32mis\u001b[0m \u001b[0;32mNone\u001b[0m\u001b[0;34m:\u001b[0m\u001b[0;34m\u001b[0m\u001b[0;34m\u001b[0m\u001b[0m\n",
      "\u001b[0;32m~/.local/lib/python3.6/site-packages/seaborn/categorical.py\u001b[0m in \u001b[0;36m__init__\u001b[0;34m(self, x, y, hue, data, order, hue_order, estimator, ci, n_boot, units, seed, orient, color, palette, saturation, errcolor, errwidth, capsize, dodge)\u001b[0m\n\u001b[1;32m   1601\u001b[0m         \u001b[0;34m\"\"\"Initialize the plotter.\"\"\"\u001b[0m\u001b[0;34m\u001b[0m\u001b[0;34m\u001b[0m\u001b[0m\n\u001b[1;32m   1602\u001b[0m         self.establish_variables(x, y, hue, data, orient,\n\u001b[0;32m-> 1603\u001b[0;31m                                  order, hue_order, units)\n\u001b[0m\u001b[1;32m   1604\u001b[0m         \u001b[0mself\u001b[0m\u001b[0;34m.\u001b[0m\u001b[0mestablish_colors\u001b[0m\u001b[0;34m(\u001b[0m\u001b[0mcolor\u001b[0m\u001b[0;34m,\u001b[0m \u001b[0mpalette\u001b[0m\u001b[0;34m,\u001b[0m \u001b[0msaturation\u001b[0m\u001b[0;34m)\u001b[0m\u001b[0;34m\u001b[0m\u001b[0;34m\u001b[0m\u001b[0m\n\u001b[1;32m   1605\u001b[0m         \u001b[0mself\u001b[0m\u001b[0;34m.\u001b[0m\u001b[0mestimate_statistic\u001b[0m\u001b[0;34m(\u001b[0m\u001b[0mestimator\u001b[0m\u001b[0;34m,\u001b[0m \u001b[0mci\u001b[0m\u001b[0;34m,\u001b[0m \u001b[0mn_boot\u001b[0m\u001b[0;34m,\u001b[0m \u001b[0mseed\u001b[0m\u001b[0;34m)\u001b[0m\u001b[0;34m\u001b[0m\u001b[0;34m\u001b[0m\u001b[0m\n",
      "\u001b[0;32m~/.local/lib/python3.6/site-packages/seaborn/categorical.py\u001b[0m in \u001b[0;36mestablish_variables\u001b[0;34m(self, x, y, hue, data, orient, order, hue_order, units)\u001b[0m\n\u001b[1;32m    150\u001b[0m                 \u001b[0;32mif\u001b[0m \u001b[0misinstance\u001b[0m\u001b[0;34m(\u001b[0m\u001b[0mvar\u001b[0m\u001b[0;34m,\u001b[0m \u001b[0mstr\u001b[0m\u001b[0;34m)\u001b[0m\u001b[0;34m:\u001b[0m\u001b[0;34m\u001b[0m\u001b[0;34m\u001b[0m\u001b[0m\n\u001b[1;32m    151\u001b[0m                     \u001b[0merr\u001b[0m \u001b[0;34m=\u001b[0m \u001b[0;34m\"Could not interpret input '{}'\"\u001b[0m\u001b[0;34m.\u001b[0m\u001b[0mformat\u001b[0m\u001b[0;34m(\u001b[0m\u001b[0mvar\u001b[0m\u001b[0;34m)\u001b[0m\u001b[0;34m\u001b[0m\u001b[0;34m\u001b[0m\u001b[0m\n\u001b[0;32m--> 152\u001b[0;31m                     \u001b[0;32mraise\u001b[0m \u001b[0mValueError\u001b[0m\u001b[0;34m(\u001b[0m\u001b[0merr\u001b[0m\u001b[0;34m)\u001b[0m\u001b[0;34m\u001b[0m\u001b[0;34m\u001b[0m\u001b[0m\n\u001b[0m\u001b[1;32m    153\u001b[0m \u001b[0;34m\u001b[0m\u001b[0m\n\u001b[1;32m    154\u001b[0m             \u001b[0;31m# Figure out the plotting orientation\u001b[0m\u001b[0;34m\u001b[0m\u001b[0;34m\u001b[0m\u001b[0;34m\u001b[0m\u001b[0m\n",
      "\u001b[0;31mValueError\u001b[0m: Could not interpret input 'duration_communication_onlinerate'"
     ]
    }
   ],
   "source": [
    "for feature in [\"start_communication_onlinerate\",\"last_communication_onlinerate\",\"duration_communication_onlinerate\"]:\n",
    "    print(f\"ANALYZE {feature}\")\n",
    "    eda.cat_analysis(raw_df,feature,\"uid\")\n",
    "    eda.click_not_click_distrubitions(raw_df,feature)\n",
    "    print(\"\")\n",
    "    print(\"=\"*20)\n",
    "    print(\"\")"
   ]
  },
  {
   "cell_type": "markdown",
   "metadata": {},
   "source": [
    "# Ads"
   ]
  },
  {
   "cell_type": "markdown",
   "metadata": {},
   "source": [
    "Can't tell the difference between task_id and adv_id, however it seems like most ad features are belong to task_id, gonna use task_id as prime identifier of ads."
   ]
  },
  {
   "cell_type": "code",
   "execution_count": null,
   "metadata": {},
   "outputs": [],
   "source": [
    "ads_features = [\"creat_type_cd\",\n",
    "                \"adv_prim_id\",\n",
    "                \"dev_id\",\n",
    "                \"inter_type_cd\",\n",
    "                \"slot_id\",\n",
    "                \"indu_name\"]"
   ]
  },
  {
   "cell_type": "code",
   "execution_count": null,
   "metadata": {},
   "outputs": [],
   "source": [
    "high_ctr_task_ids, low_ctr_task_ids = eda.id_analysis(raw_df,\"task_id\")"
   ]
  },
  {
   "cell_type": "code",
   "execution_count": null,
   "metadata": {},
   "outputs": [],
   "source": [
    "for feature in ads_features:\n",
    "    print(f\"ANALYZE {feature}\")\n",
    "    eda.cat_analysis(raw_df,feature,\"task_id\")\n",
    "    eda.click_not_click_distrubitions(raw_df,feature)\n",
    "    print(\"\")\n",
    "    print(\"=\"*20)\n",
    "    print(\"\")"
   ]
  },
  {
   "cell_type": "markdown",
   "metadata": {},
   "source": [
    "# Apps"
   ]
  },
  {
   "cell_type": "code",
   "execution_count": null,
   "metadata": {},
   "outputs": [],
   "source": [
    "app_features = [\"tags\",\n",
    "                \"app_first_class\",\n",
    "                \"app_second_class\",\n",
    "                \"his_app_size\",\n",
    "                \"his_on_shelf_time\",\n",
    "                \"app_score\"]"
   ]
  },
  {
   "cell_type": "code",
   "execution_count": null,
   "metadata": {},
   "outputs": [],
   "source": [
    "high_ctr_app_ids, low_ctr_app_ids = eda.id_analysis(raw_df,\"spread_app_id\")"
   ]
  },
  {
   "cell_type": "code",
   "execution_count": null,
   "metadata": {},
   "outputs": [],
   "source": [
    "for feature in app_features:\n",
    "    print(f\"ANALYZE {feature}\")\n",
    "    eda.cat_analysis(raw_df,feature,\"spread_app_id\")\n",
    "    eda.click_not_click_distrubitions(raw_df,feature)\n",
    "    print(\"\")\n",
    "    print(\"=\"*20)\n",
    "    print(\"\")"
   ]
  },
  {
   "cell_type": "markdown",
   "metadata": {},
   "source": [
    "# Device"
   ]
  },
  {
   "cell_type": "code",
   "execution_count": null,
   "metadata": {},
   "outputs": [],
   "source": [
    "device_features = [\"device_size\",\n",
    "                   \"emui_dev\",\n",
    "                   \"list_time\",\n",
    "                   \"device_price\"]"
   ]
  },
  {
   "cell_type": "code",
   "execution_count": null,
   "metadata": {},
   "outputs": [],
   "source": [
    "high_ctr_device_ids, low_ctr_device_ids = eda.id_analysis(raw_df,\"device_name\")"
   ]
  },
  {
   "cell_type": "code",
   "execution_count": null,
   "metadata": {},
   "outputs": [],
   "source": [
    "for feature in device_features:\n",
    "    print(f\"ANALYZE {feature}\")\n",
    "    eda.cat_analysis(raw_df,feature,\"device_name\")\n",
    "    eda.click_not_click_distrubitions(raw_df,feature)\n",
    "    print(\"\")\n",
    "    print(\"=\"*20)\n",
    "    print(\"\")"
   ]
  },
  {
   "cell_type": "markdown",
   "metadata": {},
   "source": [
    "# Environment"
   ]
  },
  {
   "cell_type": "code",
   "execution_count": null,
   "metadata": {},
   "outputs": [],
   "source": [
    "eda.cat_analysis(raw_df,\"net_type\",\"net_type\")"
   ]
  },
  {
   "cell_type": "code",
   "execution_count": null,
   "metadata": {},
   "outputs": [],
   "source": [
    "eda.click_not_click_distrubitions(raw_df,\"net_type\")"
   ]
  },
  {
   "cell_type": "code",
   "execution_count": null,
   "metadata": {},
   "outputs": [],
   "source": [
    "eda.cat_analysis(raw_df,\"pt_d\",\"pt_d\")"
   ]
  },
  {
   "cell_type": "code",
   "execution_count": null,
   "metadata": {},
   "outputs": [],
   "source": [
    "eda.click_not_click_distrubitions(raw_df,\"pt_d\")"
   ]
  },
  {
   "cell_type": "markdown",
   "metadata": {},
   "source": [
    "## EDA summary\n",
    "1. **users:**\n",
    "    - **uid**:According to basis stats, distribution and cdf, 25% of users has CTR above 0.2. This is way larger than 0.03. Therefore I define for users, CTR above 0.2 is hige CTR. In next step anlaysises, I'll compare feature distriubtion of high CTR group and low CTR group to find out any significat different.\n",
    "    \n",
    "    - **age**: people who didn't report their age tend to have higher CTR. **This might be a good new feature.** Although the age distributions of two CTR groups are slightly different from each other, they distribute approximatly even across age 4 to age 7. Not really helpful for creating new feature.\n",
    "    \n",
    "    - **city**:didn't analyze this because too many unique cities.\n",
    "    \n",
    "        - **city_rank**: users from level 2 city have higher CTR.**a good new feature.**\n",
    "        \n",
    "        - **residence**: province 11 and 22 have high CTR.**a good new feature.**\n",
    "        \n",
    "    - **career**: there is no significant hight ctr nor diffent distribution. Won't be a good indicator if treating it as a single feature. Will see if this can help in clustering.\n",
    "    \n",
    "    - **gender**: gender 3 has higher CTR.\n",
    "    \n",
    "    - **up_life_duration**: Although 1 to 10 have higher CTR, compare with distribution plots, these groups don't account to much data in the total dataset. But what is interesting is that high ctr group has more -1 and low ctr group has more 20. **a good new feature.**\n",
    "    \n",
    "    - **up_membership_grade**: there is no significant hight ctr nor diffent distribution. Won't be a good indicator if treating it as a single feature. Won't be a good indicator in clustering since distributions are similar.\n",
    "    \n",
    "    - **membership_life_duration**: This is too imbalance. Almost every users belong to -1 group. This makes CTR analysis unreliable because one click in groups other than -1 ca make a huge impact on CTR. This is not a good indicator even in clustering.\n",
    "    - **consume_purchase**: won't be using it. same reason as membership_life_duration\n",
    "    \n",
    "    - **communication_avgonline_30d**: most users stay active 10 ~ 13 hrs daily. But non-registered users have higher CTR. **a good indicator**\n",
    "    \n",
    "    - **communication_onlinerate**\n",
    "        - **start_communication_onlinerate**: the later the user start being active, the higher the CTR.\n",
    "        \n",
    "        - **last_communication_onlinerate**: if end at 2 am seems it has high CTR.\n",
    "        \n",
    "        - **duration_communication_onlinerate**: the shorter the time users being active, the higher the CTR.\n",
    "        \n",
    "2. **ads**\n",
    "    - **task_id**: if view from ads aspect, CTR is low across all ads. According to box plot, each quartile group don't different from each other too much. \n",
    "    - **adv_id**: not sure what is this.\n",
    "    \n",
    "    - **creat_type_cd**: 3 and 7 have higher CTR than other group.4 has significant lower CTR. high CTR apps has more 7.\n",
    "    \n",
    "    - **adv_prim_id**: too many category need a closer look.\n",
    "    \n",
    "    - **dev_id**: dev 34 and 70 have signficant higher CTR than other groups. 17, 29, 30 have higher CTR than the rest. hight CTR ads have more 17 while low CTR ads have more 60.\n",
    "    \n",
    "    - **inter_typ_cd**: Nothing too significant to tell the difference among each group.\n",
    "    \n",
    "    - **slot_id**: group 12 has highest CTR, high CTR group also has more group 12. **good indicator**\n",
    "    \n",
    "    - **indu_name**: 27 has the highest CTR while 17, 36,41 and 49 have the second best. high CTR group accouts more in 17 and 36 too.\n",
    "    \n",
    "3. **apps**\n",
    "    - **spread_app_id**: apps' CTR distribution seems perform little better than ads ctr.\n",
    "    \n",
    "    - **tags**: 13, 33, 37, 39, 40 have higher CTR. The high low distribution gave the most significant difference so far.\n",
    "    \n",
    "    - **app_first_class**: high ctr group has more 4 and low ctr group has more 2\n",
    "    \n",
    "    - **app_second_class**: high low distributions have very different layout too.\n",
    "    \n",
    "    - **his_app_size**: app size 16 has highest CTR. distribution is significant different too.\n",
    "    \n",
    "    - **his_on_shelf_time**: dist plot shows a differnce bewtween high and low groups\n",
    "    \n",
    "    - **app_score**: although it has only two groups, the distributions are significant different.\n",
    "    \n",
    "4. **device**\n",
    "    - **device_name**\n",
    "    \n",
    "    - **device_size**: need a closer look\n",
    "    \n",
    "    - **emui_dev**: 13 has a high ctr that can't ignore\n",
    "    \n",
    "    - **list_time**: -1 has very high ctr\n",
    "    \n",
    "    - **device_price**: price 6 has a significat high CTR. And they have different distributions.\n",
    "    \n",
    "6. **behavior/event**\n",
    "    - **net_type**: net_type 6 has a better CTR\n",
    "    \n",
    "    - **pt_d**: all records are distributed evenly across 7 days. if 1 represent Monday and 7 represnts Sunday, it kind of make sense that people clik ads less during wed to friday"
   ]
  },
  {
   "cell_type": "markdown",
   "metadata": {},
   "source": [
    "## Two way analysis"
   ]
  },
  {
   "cell_type": "code",
   "execution_count": null,
   "metadata": {},
   "outputs": [],
   "source": [
    "user_features = [\"age\",\n",
    "                 \"city_rank\",\n",
    "                 \"residence\",\n",
    "                 \"gender\",\n",
    "                 \"up_life_duration\",\n",
    "                 \"duration_communication_onlinerate\",\n",
    "                 \"communication_avgonline_30d\"\n",
    "                ]\n",
    "ads_features = [\"creat_type_cd\",\n",
    "                \"dev_id\",\n",
    "                \"slot_id\",\n",
    "                \"indu_name\"]\n",
    "app_features = [\"tags\",\n",
    "                \"app_first_class\",\n",
    "                \"app_second_class\",\n",
    "                \"his_app_size\",\n",
    "                \"his_on_shelf_time\",\n",
    "                \"app_score\"]\n",
    "device_features = [\"emui_dev\",\n",
    "                   \"list_time\",\n",
    "                   \"device_price\"]\n",
    "event_features = [\"net_type\"]"
   ]
  },
  {
   "cell_type": "code",
   "execution_count": null,
   "metadata": {},
   "outputs": [],
   "source": [
    "selected_features = user_features + ads_features + app_features \\\n",
    "                    + device_features + event_features"
   ]
  },
  {
   "cell_type": "code",
   "execution_count": null,
   "metadata": {},
   "outputs": [],
   "source": [
    "from itertools import combinations"
   ]
  },
  {
   "cell_type": "code",
   "execution_count": null,
   "metadata": {},
   "outputs": [],
   "source": [
    "for feature_pair in combinations(selected_variables,2):\n",
    "    print(\"Analyze\", feature_pair)\n",
    "    eda.chi_square_analysis(raw_df,feature_pair[0],feature_pair[1])\n",
    "    eda.two_variables_heapmap(raw_df,feature_pair[0],feature_pair[1])\n",
    "    print(\"\")\n",
    "    print(\"=\"*50)\n",
    "    print(\"\")"
   ]
  }
 ],
 "metadata": {
  "kernelspec": {
   "display_name": "Python 3",
   "language": "python",
   "name": "python3"
  },
  "language_info": {
   "codemirror_mode": {
    "name": "ipython",
    "version": 3
   },
   "file_extension": ".py",
   "mimetype": "text/x-python",
   "name": "python",
   "nbconvert_exporter": "python",
   "pygments_lexer": "ipython3",
   "version": "3.6.9"
  }
 },
 "nbformat": 4,
 "nbformat_minor": 2
}
