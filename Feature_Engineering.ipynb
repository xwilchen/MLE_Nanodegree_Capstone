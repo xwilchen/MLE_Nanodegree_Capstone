{
 "cells": [
  {
   "cell_type": "code",
   "execution_count": 1,
   "metadata": {},
   "outputs": [],
   "source": [
    "import os\n",
    "import numpy as np\n",
    "import pandas as pd\n",
    "\n",
    "from sklearn.preprocessing import OneHotEncoder"
   ]
  },
  {
   "cell_type": "markdown",
   "metadata": {},
   "source": [
    "# Feature Engineering\n",
    "This script consist two parts.\n",
    "1. Refer to the findings from EDA and make transformation accordingly\n",
    "2. Clustering users, ads, apps, and device and see if there is any new features that makes sense."
   ]
  },
  {
   "cell_type": "markdown",
   "metadata": {},
   "source": [
    "# Load Data"
   ]
  },
  {
   "cell_type": "code",
   "execution_count": 2,
   "metadata": {},
   "outputs": [],
   "source": [
    "data_dir = \"./data/sampled_data.csv/\"\n",
    "\n",
    "df = pd.DataFrame()\n",
    "for file in os.listdir(data_dir):    \n",
    "    if file[-3:] == \"csv\":\n",
    "        df = pd.concat((df,pd.read_csv(os.path.join(data_dir,file))),axis=0)"
   ]
  },
  {
   "cell_type": "markdown",
   "metadata": {},
   "source": [
    "## Transform Data"
   ]
  },
  {
   "cell_type": "code",
   "execution_count": 4,
   "metadata": {},
   "outputs": [],
   "source": [
    "df[\"start_communication_onlinerate\"] = df[\"communication_onlinerate\"].str.split(\"^\",expand=True)[0]\n",
    "df[\"last_communication_onlinerate\"] = df[\"communication_onlinerate\"].str.split(\"^\").str[-1].replace(0,24)\n",
    "df[\"duration_communication_onlinerate\"] = df[\"last_communication_onlinerate\"].astype(int)\\\n",
    "                                        - df[\"start_communication_onlinerate\"].astype(int)\n",
    "df[\"duration_communication_onlinerate\"] = df[\"duration_communication_onlinerate\"].astype(str)"
   ]
  },
  {
   "cell_type": "code",
   "execution_count": 5,
   "metadata": {},
   "outputs": [],
   "source": [
    "user_features = [\"age\",                 \n",
    "                 #city,\n",
    "                 \"city_rank\",\n",
    "                 \"residence\",\n",
    "                 \"career\",\n",
    "                 \"gender\",\n",
    "                 \"up_life_duration\",\n",
    "                 \"up_membership_grade\",\n",
    "                 \"membership_life_duration\",\n",
    "                 \"consume_purchase\",\n",
    "                 \"duration_communication_onlinerate\",\n",
    "                 \"communication_avgonline_30d\"\n",
    "                ]\n",
    "ads_features = [\"creat_type_cd\",\n",
    "                \"adv_prim_id\",\n",
    "                \"dev_id\",\n",
    "                \"inter_type_cd\",\n",
    "                \"slot_id\",\n",
    "                \"indu_name\"]\n",
    "app_features = [\"tags\",\n",
    "                \"app_first_class\",\n",
    "                \"app_second_class\",\n",
    "                \"his_app_size\",\n",
    "                \"his_on_shelf_time\",\n",
    "                \"app_score\"]\n",
    "device_features = [\"device_size\",\n",
    "                   \"emui_dev\",\n",
    "                   \"list_time\",\n",
    "                   \"device_price\"]\n",
    "event_features = [\"net_type\",\n",
    "                  \"pt_d\"]"
   ]
  },
  {
   "cell_type": "code",
   "execution_count": 6,
   "metadata": {},
   "outputs": [],
   "source": [
    "selected_features = user_features + ads_features + app_features \\\n",
    "                    + device_features + event_features"
   ]
  },
  {
   "cell_type": "markdown",
   "metadata": {},
   "source": [
    "## Train Test Split"
   ]
  },
  {
   "cell_type": "code",
   "execution_count": 7,
   "metadata": {},
   "outputs": [],
   "source": [
    "from sklearn.model_selection import train_test_split"
   ]
  },
  {
   "cell_type": "code",
   "execution_count": 8,
   "metadata": {},
   "outputs": [],
   "source": [
    "df[selected_features]\n",
    "X_train, X_test, y_train, y_test = train_test_split(df[selected_features], df['label']\\\n",
    "                                                    , test_size=0.2, random_state=42, stratify=df['label'])"
   ]
  },
  {
   "cell_type": "code",
   "execution_count": 12,
   "metadata": {},
   "outputs": [],
   "source": [
    "enc = OneHotEncoder(handle_unknown='ignore')"
   ]
  },
  {
   "cell_type": "code",
   "execution_count": 26,
   "metadata": {},
   "outputs": [],
   "source": [
    "train_arr = enc.fit_transform(X_train)"
   ]
  },
  {
   "cell_type": "code",
   "execution_count": 18,
   "metadata": {},
   "outputs": [],
   "source": [
    "column_names = enc.get_feature_names(X_train.columns)"
   ]
  },
  {
   "cell_type": "code",
   "execution_count": 41,
   "metadata": {},
   "outputs": [],
   "source": [
    "#pd.concat((y_train.reset_index(drop=True),pd.DataFrame(train_arr.toarray(),columns=column_names)),axis=1).to_csv(\"train.csv\")"
   ]
  },
  {
   "cell_type": "markdown",
   "metadata": {},
   "source": [
    "## Group click/not click distribution"
   ]
  },
  {
   "cell_type": "markdown",
   "metadata": {},
   "source": [
    "## Interaction features"
   ]
  },
  {
   "cell_type": "markdown",
   "metadata": {},
   "source": [
    "## clustering"
   ]
  },
  {
   "cell_type": "code",
   "execution_count": 21,
   "metadata": {},
   "outputs": [
    {
     "ename": "NameError",
     "evalue": "name 'transformed_df' is not defined",
     "output_type": "error",
     "traceback": [
      "\u001b[0;31m---------------------------------------------------------------------------\u001b[0m",
      "\u001b[0;31mNameError\u001b[0m                                 Traceback (most recent call last)",
      "\u001b[0;32m<ipython-input-21-fe3d978f3b3e>\u001b[0m in \u001b[0;36m<module>\u001b[0;34m\u001b[0m\n\u001b[0;32m----> 1\u001b[0;31m \u001b[0mtrain_df\u001b[0m \u001b[0;34m=\u001b[0m \u001b[0menc\u001b[0m\u001b[0;34m.\u001b[0m\u001b[0mfit_transform\u001b[0m\u001b[0;34m(\u001b[0m\u001b[0mtransformed_df\u001b[0m\u001b[0;34m)\u001b[0m\u001b[0;34m\u001b[0m\u001b[0;34m\u001b[0m\u001b[0m\n\u001b[0m",
      "\u001b[0;31mNameError\u001b[0m: name 'transformed_df' is not defined"
     ]
    }
   ],
   "source": [
    "train_df = enc.fit_transform(transformed_df)"
   ]
  },
  {
   "cell_type": "code",
   "execution_count": 15,
   "metadata": {},
   "outputs": [
    {
     "name": "stdout",
     "output_type": "stream",
     "text": [
      "2\n",
      "3\n"
     ]
    },
    {
     "ename": "KeyboardInterrupt",
     "evalue": "",
     "output_type": "error",
     "traceback": [
      "\u001b[0;31m---------------------------------------------------------------------------\u001b[0m",
      "\u001b[0;31mKeyboardInterrupt\u001b[0m                         Traceback (most recent call last)",
      "\u001b[0;32m<ipython-input-15-f552394b5de1>\u001b[0m in \u001b[0;36m<module>\u001b[0;34m\u001b[0m\n\u001b[1;32m      3\u001b[0m     \u001b[0mprint\u001b[0m\u001b[0;34m(\u001b[0m\u001b[0mk\u001b[0m\u001b[0;34m)\u001b[0m\u001b[0;34m\u001b[0m\u001b[0;34m\u001b[0m\u001b[0m\n\u001b[1;32m      4\u001b[0m     \u001b[0mkm\u001b[0m \u001b[0;34m=\u001b[0m \u001b[0mKMeans\u001b[0m\u001b[0;34m(\u001b[0m\u001b[0mn_clusters\u001b[0m\u001b[0;34m=\u001b[0m\u001b[0mk\u001b[0m\u001b[0;34m)\u001b[0m\u001b[0;34m\u001b[0m\u001b[0;34m\u001b[0m\u001b[0m\n\u001b[0;32m----> 5\u001b[0;31m     \u001b[0mkm\u001b[0m \u001b[0;34m=\u001b[0m \u001b[0mkm\u001b[0m\u001b[0;34m.\u001b[0m\u001b[0mfit\u001b[0m\u001b[0;34m(\u001b[0m\u001b[0mtrain_df\u001b[0m\u001b[0;34m)\u001b[0m\u001b[0;34m\u001b[0m\u001b[0;34m\u001b[0m\u001b[0m\n\u001b[0m\u001b[1;32m      6\u001b[0m     \u001b[0mSum_of_squared_distances\u001b[0m\u001b[0;34m.\u001b[0m\u001b[0mappend\u001b[0m\u001b[0;34m(\u001b[0m\u001b[0mkm\u001b[0m\u001b[0;34m.\u001b[0m\u001b[0minertia_\u001b[0m\u001b[0;34m)\u001b[0m\u001b[0;34m\u001b[0m\u001b[0;34m\u001b[0m\u001b[0m\n",
      "\u001b[0;32m~/.local/lib/python3.6/site-packages/sklearn/cluster/k_means_.py\u001b[0m in \u001b[0;36mfit\u001b[0;34m(self, X, y, sample_weight)\u001b[0m\n\u001b[1;32m    969\u001b[0m                 \u001b[0mtol\u001b[0m\u001b[0;34m=\u001b[0m\u001b[0mself\u001b[0m\u001b[0;34m.\u001b[0m\u001b[0mtol\u001b[0m\u001b[0;34m,\u001b[0m \u001b[0mrandom_state\u001b[0m\u001b[0;34m=\u001b[0m\u001b[0mrandom_state\u001b[0m\u001b[0;34m,\u001b[0m \u001b[0mcopy_x\u001b[0m\u001b[0;34m=\u001b[0m\u001b[0mself\u001b[0m\u001b[0;34m.\u001b[0m\u001b[0mcopy_x\u001b[0m\u001b[0;34m,\u001b[0m\u001b[0;34m\u001b[0m\u001b[0;34m\u001b[0m\u001b[0m\n\u001b[1;32m    970\u001b[0m                 \u001b[0mn_jobs\u001b[0m\u001b[0;34m=\u001b[0m\u001b[0mself\u001b[0m\u001b[0;34m.\u001b[0m\u001b[0mn_jobs\u001b[0m\u001b[0;34m,\u001b[0m \u001b[0malgorithm\u001b[0m\u001b[0;34m=\u001b[0m\u001b[0mself\u001b[0m\u001b[0;34m.\u001b[0m\u001b[0malgorithm\u001b[0m\u001b[0;34m,\u001b[0m\u001b[0;34m\u001b[0m\u001b[0;34m\u001b[0m\u001b[0m\n\u001b[0;32m--> 971\u001b[0;31m                 return_n_iter=True)\n\u001b[0m\u001b[1;32m    972\u001b[0m         \u001b[0;32mreturn\u001b[0m \u001b[0mself\u001b[0m\u001b[0;34m\u001b[0m\u001b[0;34m\u001b[0m\u001b[0m\n\u001b[1;32m    973\u001b[0m \u001b[0;34m\u001b[0m\u001b[0m\n",
      "\u001b[0;32m~/.local/lib/python3.6/site-packages/sklearn/cluster/k_means_.py\u001b[0m in \u001b[0;36mk_means\u001b[0;34m(X, n_clusters, sample_weight, init, precompute_distances, n_init, max_iter, verbose, tol, random_state, copy_x, n_jobs, algorithm, return_n_iter)\u001b[0m\n\u001b[1;32m    378\u001b[0m                 \u001b[0mverbose\u001b[0m\u001b[0;34m=\u001b[0m\u001b[0mverbose\u001b[0m\u001b[0;34m,\u001b[0m \u001b[0mprecompute_distances\u001b[0m\u001b[0;34m=\u001b[0m\u001b[0mprecompute_distances\u001b[0m\u001b[0;34m,\u001b[0m\u001b[0;34m\u001b[0m\u001b[0;34m\u001b[0m\u001b[0m\n\u001b[1;32m    379\u001b[0m                 \u001b[0mtol\u001b[0m\u001b[0;34m=\u001b[0m\u001b[0mtol\u001b[0m\u001b[0;34m,\u001b[0m \u001b[0mx_squared_norms\u001b[0m\u001b[0;34m=\u001b[0m\u001b[0mx_squared_norms\u001b[0m\u001b[0;34m,\u001b[0m\u001b[0;34m\u001b[0m\u001b[0;34m\u001b[0m\u001b[0m\n\u001b[0;32m--> 380\u001b[0;31m                 random_state=random_state)\n\u001b[0m\u001b[1;32m    381\u001b[0m             \u001b[0;31m# determine if these results are the best so far\u001b[0m\u001b[0;34m\u001b[0m\u001b[0;34m\u001b[0m\u001b[0;34m\u001b[0m\u001b[0m\n\u001b[1;32m    382\u001b[0m             \u001b[0;32mif\u001b[0m \u001b[0mbest_inertia\u001b[0m \u001b[0;32mis\u001b[0m \u001b[0;32mNone\u001b[0m \u001b[0;32mor\u001b[0m \u001b[0minertia\u001b[0m \u001b[0;34m<\u001b[0m \u001b[0mbest_inertia\u001b[0m\u001b[0;34m:\u001b[0m\u001b[0;34m\u001b[0m\u001b[0;34m\u001b[0m\u001b[0m\n",
      "\u001b[0;32m~/.local/lib/python3.6/site-packages/sklearn/cluster/k_means_.py\u001b[0m in \u001b[0;36m_kmeans_single_lloyd\u001b[0;34m(X, sample_weight, n_clusters, max_iter, init, verbose, x_squared_norms, random_state, tol, precompute_distances)\u001b[0m\n\u001b[1;32m    549\u001b[0m         \u001b[0;32mif\u001b[0m \u001b[0msp\u001b[0m\u001b[0;34m.\u001b[0m\u001b[0missparse\u001b[0m\u001b[0;34m(\u001b[0m\u001b[0mX\u001b[0m\u001b[0;34m)\u001b[0m\u001b[0;34m:\u001b[0m\u001b[0;34m\u001b[0m\u001b[0;34m\u001b[0m\u001b[0m\n\u001b[1;32m    550\u001b[0m             centers = _k_means._centers_sparse(X, sample_weight, labels,\n\u001b[0;32m--> 551\u001b[0;31m                                                n_clusters, distances)\n\u001b[0m\u001b[1;32m    552\u001b[0m         \u001b[0;32melse\u001b[0m\u001b[0;34m:\u001b[0m\u001b[0;34m\u001b[0m\u001b[0;34m\u001b[0m\u001b[0m\n\u001b[1;32m    553\u001b[0m             centers = _k_means._centers_dense(X, sample_weight, labels,\n",
      "\u001b[0;31mKeyboardInterrupt\u001b[0m: "
     ]
    }
   ],
   "source": [
    "Sum_of_squared_distances = []\n",
    "for k in range(2,11):\n",
    "    print(k)\n",
    "    km = KMeans(n_clusters=k)\n",
    "    km = km.fit(train_df)\n",
    "    Sum_of_squared_distances.append(km.inertia_)"
   ]
  },
  {
   "cell_type": "code",
   "execution_count": null,
   "metadata": {},
   "outputs": [],
   "source": [
    "import matplotlib.pyplot as plt"
   ]
  },
  {
   "cell_type": "code",
   "execution_count": null,
   "metadata": {},
   "outputs": [],
   "source": [
    "plt.plot(range(2,11), Sum_of_squared_distances, 'bx-')\n",
    "plt.xlabel('k')\n",
    "plt.ylabel('Sum_of_squared_distances')\n",
    "plt.title('Elbow Method For Optimal k')\n",
    "plt.show()"
   ]
  },
  {
   "cell_type": "code",
   "execution_count": 52,
   "metadata": {},
   "outputs": [],
   "source": [
    "lr = LogisticRegression()"
   ]
  },
  {
   "cell_type": "code",
   "execution_count": 53,
   "metadata": {},
   "outputs": [
    {
     "name": "stderr",
     "output_type": "stream",
     "text": [
      "/home/wilson/.local/lib/python3.6/site-packages/sklearn/linear_model/logistic.py:433: FutureWarning: Default solver will be changed to 'lbfgs' in 0.22. Specify a solver to silence this warning.\n",
      "  FutureWarning)\n"
     ]
    },
    {
     "data": {
      "text/plain": [
       "LogisticRegression(C=1.0, class_weight=None, dual=False, fit_intercept=True,\n",
       "          intercept_scaling=1, max_iter=100, multi_class='warn',\n",
       "          n_jobs=None, penalty='l2', random_state=None, solver='warn',\n",
       "          tol=0.0001, verbose=0, warm_start=False)"
      ]
     },
     "execution_count": 53,
     "metadata": {},
     "output_type": "execute_result"
    }
   ],
   "source": [
    "lr.fit(train_df.toarray(),c.label.values)"
   ]
  },
  {
   "cell_type": "code",
   "execution_count": 42,
   "metadata": {},
   "outputs": [],
   "source": [
    "from sklearn.metrics import confusion_matrix"
   ]
  },
  {
   "cell_type": "code",
   "execution_count": 54,
   "metadata": {},
   "outputs": [],
   "source": [
    "pred = lr.predict(train_df.toarray())"
   ]
  },
  {
   "cell_type": "code",
   "execution_count": 55,
   "metadata": {},
   "outputs": [
    {
     "data": {
      "text/plain": [
       "array([[    2,  1443],\n",
       "       [    0, 40455]])"
      ]
     },
     "execution_count": 55,
     "metadata": {},
     "output_type": "execute_result"
    }
   ],
   "source": [
    "confusion_matrix(c.label.values,pred,labels=[1,0])"
   ]
  },
  {
   "cell_type": "code",
   "execution_count": 63,
   "metadata": {},
   "outputs": [],
   "source": [
    "d = dict(zip(enc.get_feature_names(transformed_df.columns),lr.coef_[0]))"
   ]
  },
  {
   "cell_type": "code",
   "execution_count": 64,
   "metadata": {},
   "outputs": [
    {
     "data": {
      "text/plain": [
       "{'duration_communication_onlinerate_8': -1.0073720716938088,\n",
       " 'duration_communication_onlinerate_9': -0.7272778033767987,\n",
       " 'slot_id_20': -0.6987511435258349,\n",
       " 'residence_33': -0.6652330878954139,\n",
       " 'up_life_duration_7': -0.5327308439605059,\n",
       " 'new_up_life_duration_7': -0.5327308439605059,\n",
       " 'communication_avgonline_30d_7': -0.5125116656813365,\n",
       " 'up_life_duration_8': -0.49744428392292456,\n",
       " 'new_up_life_duration_8': -0.49744428392292456,\n",
       " 'new_dev_id_other': -0.4784197489741475,\n",
       " 'dev_id_39': -0.466955354771582,\n",
       " 'emui_dev_24': -0.4578161282529573,\n",
       " 'new_residence_other': -0.455366609263314,\n",
       " 'tags_32': -0.4537889635495833,\n",
       " 'indu_name_11': -0.4500373421849071,\n",
       " 'communication_avgonline_30d_-1': -0.44747220211328004,\n",
       " 'new_communication_avgonline_30d_-1': -0.44747220211328004,\n",
       " 'new_tags_other': -0.4330101956452502,\n",
       " 'residence_30': -0.4320407980378184,\n",
       " 'emui_dev_17': -0.42351474387615545,\n",
       " 'up_life_duration_15': -0.4216852813288003,\n",
       " 'dev_id_38': -0.4181150466047084,\n",
       " 'up_life_duration_19': -0.40763292974535104,\n",
       " 'creat_type_cd_8': -0.3957511970340588,\n",
       " 'device_price_2': -0.37674059791456815,\n",
       " 'tags_24': -0.37353558104868867,\n",
       " 'dev_id_13': -0.35877332593431766,\n",
       " 'indu_name_21': -0.35877332593431766,\n",
       " 'slot_id_14': -0.34986441969694265,\n",
       " 'new_slot_id_14': -0.34986441969694265,\n",
       " 'net_type_2': -0.3344202859221036,\n",
       " 'duration_communication_onlinerate_5': -0.3286432716083924,\n",
       " 'new_duration_communication_onlinerate_5': -0.3286432716083924,\n",
       " 'his_app_size_8': -0.3190201609182619,\n",
       " 'up_life_duration_2': -0.2993078816772908,\n",
       " 'new_up_life_duration_2': -0.2993078816772908,\n",
       " 'app_second_class_29': -0.2947847283250388,\n",
       " 'emui_dev_28': -0.2898289471009426,\n",
       " 'emui_dev_26': -0.28871765167218394,\n",
       " 'tags_38': -0.2862955919428702,\n",
       " 'app_second_class_16': -0.2862955919428702,\n",
       " 'slot_id_11': -0.28478770068977366,\n",
       " 'dev_id_37': -0.2739579382993358,\n",
       " 'indu_name_32': -0.2713772337602531,\n",
       " 'new_communication_avgonline_30d_other': -0.2713687264952167,\n",
       " 'list_time_5': -0.2545749216068469,\n",
       " 'new_list_time_5': -0.2545749216068469,\n",
       " 'communication_avgonline_30d_1': -0.2508961024614762,\n",
       " 'new_communication_avgonline_30d_1': -0.2508961024614762,\n",
       " 'his_app_size_13': -0.24929559143503857,\n",
       " 'indu_name_39': -0.24743973849841927,\n",
       " 'dev_id_57': -0.246769365117222,\n",
       " 'tags_34': -0.246769365117222,\n",
       " 'his_app_size_10': -0.246769365117222,\n",
       " 'up_life_duration_12': -0.24301049185497717,\n",
       " 'duration_communication_onlinerate_7': -0.2387417601221021,\n",
       " 'tags_31': -0.2369152640525517,\n",
       " 'app_second_class_14': -0.2369152640525517,\n",
       " 'residence_18': -0.234572696829785,\n",
       " 'net_type_3': -0.2325733783186304,\n",
       " 'up_life_duration_5': -0.23182038971341237,\n",
       " 'new_up_life_duration_5': -0.23182038971341237,\n",
       " 'dev_id_24': -0.2158759691878135,\n",
       " 'residence_35': -0.213234712692768,\n",
       " 'new_city_rank_other': -0.21174737148012102,\n",
       " 'indu_name_30': -0.2082062890056836,\n",
       " 'tags_28': -0.2082062890056836,\n",
       " 'app_second_class_27': -0.2082062890056836,\n",
       " 'creat_type_cd_4': -0.20454017151824333,\n",
       " 'new_creat_type_cd_4': -0.20454017151824333,\n",
       " 'dev_id_14': -0.20265678306306484,\n",
       " 'indu_name_49': -0.20265678306306484,\n",
       " 'new_indu_name_49': -0.20265678306306484,\n",
       " 'slot_id_19': -0.20233746405034206,\n",
       " 'new_slot_id_19': -0.20233746405034206,\n",
       " 'new_gender_other': -0.20010818292081592,\n",
       " 'indu_name_17': -0.19915392993673375,\n",
       " 'new_indu_name_17': -0.19915392993673375,\n",
       " 'age_5': -0.198793795602119,\n",
       " 'new_age_5': -0.198793795602119,\n",
       " 'new_app_first_class_other': -0.19367249583667204,\n",
       " 'dev_id_51': -0.1923101110724229,\n",
       " 'his_app_size_7': -0.1923101110724229,\n",
       " 'device_price_3': -0.18948109195525698,\n",
       " 'new_device_price_3': -0.18948109195525698,\n",
       " 'inter_type_cd_5': -0.18471961554531424,\n",
       " 'communication_avgonline_30d_11': -0.18395416157435127,\n",
       " 'dev_id_27': -0.18219263593767127,\n",
       " 'new_net_type_other': -0.1821388295880879,\n",
       " 'new_age_other': -0.17325730440523157,\n",
       " 'communication_avgonline_30d_12': -0.17284625177806837,\n",
       " 'indu_name_38': -0.17072177456102727,\n",
       " 'indu_name_27': -0.1700971326508492,\n",
       " 'new_indu_name_27': -0.1700971326508492,\n",
       " 'list_time_17': -0.1698512732059494,\n",
       " 'indu_name_33': -0.16890042735479946,\n",
       " 'new_slot_id_other': -0.16469893140643083,\n",
       " 'emui_dev_12': -0.16136491195823216,\n",
       " 'new_emui_dev_12': -0.16136491195823216,\n",
       " 'residence_44': -0.16130010901855302,\n",
       " 'new_inter_type_cd_other': -0.16091029748049698,\n",
       " 'list_time_6': -0.15716763865245964,\n",
       " 'new_list_time_6': -0.15716763865245964,\n",
       " 'age_4': -0.15615696124674208,\n",
       " 'tags_26': -0.14754715297928414,\n",
       " 'app_second_class_22': -0.14754715297928414,\n",
       " 'dev_id_47': -0.146142155790655,\n",
       " 'dev_id_60': -0.14533287247457452,\n",
       " 'app_first_class_2': -0.14533287247457452,\n",
       " 'his_app_size_-1': -0.14533287247457452,\n",
       " 'his_on_shelf_time_-1': -0.14533287247457452,\n",
       " 'app_score_1': -0.14533287247457452,\n",
       " 'new_dev_id_60': -0.14533287247457452,\n",
       " 'new_his_app_size_-1': -0.14533287247457452,\n",
       " 'new_his_on_shelf_time_other': -0.14533287247457452,\n",
       " 'new_app_score_1': -0.14533287247457452,\n",
       " 'tags_11': -0.1443188285538221,\n",
       " 'app_second_class_20': -0.1443188285538221,\n",
       " 'new_tags_11': -0.1443188285538221,\n",
       " 'residence_28': -0.1413338470611493,\n",
       " 'duration_communication_onlinerate_20': -0.13816247217761504,\n",
       " 'residence_39': -0.1367559250392383,\n",
       " 'emui_dev_19': -0.12996648869536256,\n",
       " 'city_rank_4': -0.12986443369154968,\n",
       " 'duration_communication_onlinerate_13': -0.12881309249539918,\n",
       " 'gender_2': -0.1264399168722555,\n",
       " 'dev_id_32': -0.12541868709758597,\n",
       " 'indu_name_48': -0.12541868709758597,\n",
       " 'residence_20': -0.12237630125552774,\n",
       " 'dev_id_18': -0.12141807405117397,\n",
       " 'list_time_10': -0.11840443938562768,\n",
       " 'new_list_time_10': -0.11840443938562768,\n",
       " 'creat_type_cd_9': -0.11809816009559562,\n",
       " 'device_price_1': -0.11708965006049461,\n",
       " 'new_device_price_1': -0.11708965006049461,\n",
       " 'list_time_4': -0.11689845535418983,\n",
       " 'new_list_time_4': -0.11689845535418983,\n",
       " 'list_time_15': -0.11495272064862323,\n",
       " 'new_list_time_15': -0.11495272064862323,\n",
       " 'residence_34': -0.1139920493567258,\n",
       " 'his_app_size_5': -0.10845354907984517,\n",
       " 'new_his_app_size_5': -0.10845354907984517,\n",
       " 'app_score_2': -0.10828343829346236,\n",
       " 'new_app_score_2': -0.10828343829346236,\n",
       " 'dev_id_55': -0.10506742276562872,\n",
       " 'residence_19': -0.10470579985061726,\n",
       " 'communication_avgonline_30d_9': -0.10405175365202207,\n",
       " 'his_app_size_11': -0.09762136767954609,\n",
       " 'device_price_4': -0.09498017838068896,\n",
       " 'new_device_price_4': -0.09498017838068896,\n",
       " 'inter_type_cd_3': -0.09270601329502509,\n",
       " 'new_inter_type_cd_3': -0.09270601329502509,\n",
       " 'new_app_second_class_other': -0.08924444444899199,\n",
       " 'residence_14': -0.08896500004662451,\n",
       " 'list_time_13': -0.0884406802433291,\n",
       " 'new_list_time_13': -0.0884406802433291,\n",
       " 'duration_communication_onlinerate_1': -0.08591401361076648,\n",
       " 'new_duration_communication_onlinerate_1': -0.08591401361076648,\n",
       " 'new_emui_dev_other': -0.08495231535708064,\n",
       " 'residence_42': -0.08409813816114352,\n",
       " 'tags_42': -0.08063493658682265,\n",
       " 'indu_name_15': -0.07938251978605415,\n",
       " 'residence_26': -0.07881629507377631,\n",
       " 'his_app_size_6': -0.07762749018317121,\n",
       " 'new_his_app_size_6': -0.07762749018317121,\n",
       " 'new_creat_type_cd_other': -0.07760947974386152,\n",
       " 'indu_name_24': -0.0768740690294621,\n",
       " 'his_app_size_12': -0.07541958636633804,\n",
       " 'tags_23': -0.07533352979146614,\n",
       " 'app_second_class_23': -0.07533352979146614,\n",
       " 'new_tags_23': -0.07533352979146614,\n",
       " 'new_app_second_class_23': -0.07533352979146614,\n",
       " 'gender_4': -0.07366826604866288,\n",
       " 'residence_15': -0.07298910846882924,\n",
       " 'app_second_class_17': -0.07243298057735797,\n",
       " 'new_app_second_class_17': -0.07243298057735797,\n",
       " 'dev_id_68': -0.07236684129811145,\n",
       " 'net_type_6': -0.07147748118655488,\n",
       " 'new_net_type_6': -0.07147748118655488,\n",
       " 'app_second_class_21': -0.07027706793648032,\n",
       " 'new_app_second_class_21': -0.07027706793648032,\n",
       " 'age_6': -0.0681661771425743,\n",
       " 'city_rank_5': -0.06797781518034436,\n",
       " 'slot_id_16': -0.06632253782843786,\n",
       " 'list_time_9': -0.06180321161400948,\n",
       " 'new_list_time_9': -0.06180321161400948,\n",
       " 'app_first_class_4': -0.05994381493121749,\n",
       " 'new_app_first_class_4': -0.05994381493121749,\n",
       " 'his_on_shelf_time_2': -0.05632393408839006,\n",
       " 'new_his_on_shelf_time_2': -0.05632393408839006,\n",
       " 'gender_3': -0.053508127853667126,\n",
       " 'new_gender_3': -0.053508127853667126,\n",
       " 'duration_communication_onlinerate_2': -0.05265503063357747,\n",
       " 'new_duration_communication_onlinerate_2': -0.05265503063357747,\n",
       " 'up_life_duration_3': -0.05237543523274959,\n",
       " 'new_up_life_duration_3': -0.05237543523274959,\n",
       " 'his_on_shelf_time_3': -0.051959504209091525,\n",
       " 'new_his_on_shelf_time_3': -0.051959504209091525,\n",
       " 'his_app_size_4': -0.049744216165185914,\n",
       " 'new_his_app_size_4': -0.049744216165185914,\n",
       " 'creat_type_cd_2': -0.04954108003528121,\n",
       " 'app_first_class_3': -0.04833962336210068,\n",
       " 'dev_id_71': -0.046695351488306086,\n",
       " 'his_app_size_21': -0.046695351488306086,\n",
       " 'communication_avgonline_30d_10': -0.04316572208871652,\n",
       " 'tags_17': -0.04302869238768787,\n",
       " 'app_second_class_11': -0.04302869238768787,\n",
       " 'city_rank_2': -0.04186893929352711,\n",
       " 'new_city_rank_2': -0.04186893929352711,\n",
       " 'list_time_7': -0.041133023176901796,\n",
       " 'new_list_time_7': -0.041133023176901796,\n",
       " 'dev_id_43': -0.039923137100533905,\n",
       " 'indu_name_18': -0.039923137100533905,\n",
       " 'his_app_size_20': -0.039923137100533905,\n",
       " 'tags_13': -0.03947566257840127,\n",
       " 'new_tags_13': -0.03947566257840127,\n",
       " 'slot_id_15': -0.03739243231151195,\n",
       " 'new_slot_id_15': -0.03739243231151195,\n",
       " 'communication_avgonline_30d_5': -0.037135523648085096,\n",
       " 'dev_id_17': -0.032709532039591246,\n",
       " 'new_dev_id_17': -0.032709532039591246,\n",
       " 'residence_45': -0.03202864486661566,\n",
       " 'dev_id_54': -0.03144625030578,\n",
       " 'his_app_size_19': -0.03144625030578,\n",
       " 'duration_communication_onlinerate_4': -0.030407658453102872,\n",
       " 'new_duration_communication_onlinerate_4': -0.030407658453102872,\n",
       " 'age_2': -0.02965793975866614,\n",
       " 'residence_29': -0.029145797071289475,\n",
       " 'residence_36': -0.029043265346344764,\n",
       " 'his_app_size_2': -0.024715141455092397,\n",
       " 'new_his_app_size_2': -0.024715141455092397,\n",
       " 'creat_type_cd_7': -0.02257290908977946,\n",
       " 'new_creat_type_cd_7': -0.02257290908977946,\n",
       " 'his_app_size_14': -0.018241807858034104,\n",
       " 'slot_id_13': -0.017410636718638718,\n",
       " 'his_app_size_16': -0.01698074969937684,\n",
       " 'new_his_app_size_16': -0.01698074969937684,\n",
       " 'list_time_14': -0.015485744160662967,\n",
       " 'new_list_time_14': -0.015485744160662967,\n",
       " 'emui_dev_20': -0.014199146260007588,\n",
       " 'new_emui_dev_20': -0.014199146260007588,\n",
       " 'residence_31': -0.014153123226195658,\n",
       " 'city_rank_3': -0.013905122602978274,\n",
       " 'duration_communication_onlinerate_16': -0.010979383579914891,\n",
       " 'new_duration_communication_onlinerate_16': -0.010979383579914891,\n",
       " 'residence_21': -0.010873993350459374,\n",
       " 'up_life_duration_9': -0.009334694453122978,\n",
       " 'new_up_life_duration_9': -0.009334694453122978,\n",
       " 'net_type_5': -0.003032571870163218,\n",
       " 'indu_name_46': 0.0004449725488192991,\n",
       " 'new_device_price_other': 0.004880044392058853,\n",
       " 'emui_dev_14': 0.006900062802699658,\n",
       " 'new_emui_dev_14': 0.006900062802699658,\n",
       " 'dev_id_26': 0.007446055086088164,\n",
       " 'indu_name_12': 0.007446055086088164,\n",
       " 'tags_39': 0.008201956009658486,\n",
       " 'new_tags_39': 0.008201956009658486,\n",
       " 'age_3': 0.008314870618073063,\n",
       " 'dev_id_29': 0.01254308104716203,\n",
       " 'new_dev_id_29': 0.01254308104716203,\n",
       " 'dev_id_52': 0.015890123874761783,\n",
       " 'dev_id_53': 0.016431343576240688,\n",
       " 'indu_name_29': 0.016431343576240688,\n",
       " 'his_app_size_3': 0.016431343576240688,\n",
       " 'tags_27': 0.016876316125062404,\n",
       " 'app_second_class_13': 0.016876316125062404,\n",
       " 'dev_id_36': 0.016965138017783512,\n",
       " 'communication_avgonline_30d_13': 0.019052406883426562,\n",
       " 'inter_type_cd_4': 0.023809318068650862,\n",
       " 'tags_25': 0.024269793479204625,\n",
       " 'app_second_class_28': 0.024269793479204625,\n",
       " 'indu_name_50': 0.024581598800981784,\n",
       " 'up_life_duration_11': 0.02598268966191096,\n",
       " 'emui_dev_27': 0.029571496683649397,\n",
       " 'tags_33': 0.033914062114651845,\n",
       " 'new_tags_33': 0.033914062114651845,\n",
       " 'age_-1': 0.040473050620014606,\n",
       " 'list_time_-1': 0.040473050620014606,\n",
       " 'device_price_-1': 0.040473050620014606,\n",
       " 'new_age_-1': 0.040473050620014606,\n",
       " 'new_list_time_-1': 0.040473050620014606,\n",
       " 'new_device_price_-1': 0.040473050620014606,\n",
       " 'residence_46': 0.0455033422455341,\n",
       " 'creat_type_cd_3': 0.05110624957760467,\n",
       " 'new_creat_type_cd_3': 0.05110624957760467,\n",
       " 'indu_name_22': 0.053197234030828516,\n",
       " 'app_second_class_25': 0.05367171198348805,\n",
       " 'new_app_second_class_25': 0.05367171198348805,\n",
       " 'emui_dev_11': 0.05368282915795669,\n",
       " 'residence_41': 0.053762216184532634,\n",
       " 'residence_32': 0.053904041990163507,\n",
       " 'list_time_12': 0.05739178607055327,\n",
       " 'new_list_time_12': 0.05739178607055327,\n",
       " 'dev_id_33': 0.05994781210132926,\n",
       " 'list_time_11': 0.06313252434256979,\n",
       " 'residence_12': 0.06531792791380431,\n",
       " 'communication_avgonline_30d_2': 0.0657096862301088,\n",
       " 'new_communication_avgonline_30d_2': 0.0657096862301088,\n",
       " 'new_duration_communication_onlinerate_other': 0.06591342803010782,\n",
       " 'dev_id_58': 0.06979732046489787,\n",
       " 'dev_id_15': 0.07024143618007497,\n",
       " 'dev_id_22': 0.07072256942431696,\n",
       " 'indu_name_52': 0.07072256942431696,\n",
       " 'tags_30': 0.07072256942431696,\n",
       " 'app_second_class_18': 0.07072256942431696,\n",
       " 'duration_communication_onlinerate_10': 0.07238532990633514,\n",
       " 'age_1': 0.07240890312192765,\n",
       " 'age_7': 0.07796173861738173,\n",
       " 'new_age_7': 0.07796173861738173,\n",
       " 'duration_communication_onlinerate_15': 0.07858098182269671,\n",
       " 'emui_dev_15': 0.08032757812401055,\n",
       " 'duration_communication_onlinerate_3': 0.08489762878806362,\n",
       " 'new_duration_communication_onlinerate_3': 0.08489762878806362,\n",
       " 'indu_name_42': 0.08676245848269828,\n",
       " 'up_life_duration_20': 0.08733868101929768,\n",
       " 'new_up_life_duration_20': 0.08733868101929768,\n",
       " 'communication_avgonline_30d_8': 0.08779564734332007,\n",
       " 'duration_communication_onlinerate_21': 0.08911574810427533,\n",
       " 'up_life_duration_18': 0.09229474714618363,\n",
       " 'tags_40': 0.09314737456194042,\n",
       " 'new_tags_40': 0.09314737456194042,\n",
       " 'slot_id_17': 0.09507493636456961,\n",
       " 'up_life_duration_10': 0.09714590002584278,\n",
       " 'new_up_life_duration_10': 0.09714590002584278,\n",
       " 'duration_communication_onlinerate_23': 0.09753799283077808,\n",
       " 'list_time_8': 0.10029370075814353,\n",
       " 'new_list_time_8': 0.10029370075814353,\n",
       " 'device_price_5': 0.10258151461397287,\n",
       " 'new_device_price_5': 0.10258151461397287,\n",
       " 'duration_communication_onlinerate_0': 0.10417199029777645,\n",
       " 'new_duration_communication_onlinerate_0': 0.10417199029777645,\n",
       " 'emui_dev_16': 0.10722048464316486,\n",
       " 'duration_communication_onlinerate_17': 0.10850926023285473,\n",
       " 'dev_id_20': 0.11212000631416705,\n",
       " 'residence_38': 0.11586487008557232,\n",
       " 'residence_24': 0.11768011561998172,\n",
       " 'up_life_duration_-1': 0.1221307995921523,\n",
       " 'new_up_life_duration_-1': 0.1221307995921523,\n",
       " 'up_life_duration_16': 0.12610763747462844,\n",
       " 'duration_communication_onlinerate_18': 0.1271842355623074,\n",
       " 'residence_37': 0.1276890747111118,\n",
       " 'tags_41': 0.12885100609870587,\n",
       " 'app_second_class_26': 0.12885100609870587,\n",
       " 'up_life_duration_14': 0.13166336532757655,\n",
       " 'creat_type_cd_6': 0.13826223022465736,\n",
       " 'residence_13': 0.1385896806943373,\n",
       " 'indu_name_13': 0.1447925584632258,\n",
       " 'tags_19': 0.1447925584632258,\n",
       " 'app_second_class_12': 0.1447925584632258,\n",
       " 'indu_name_36': 0.14999184832874282,\n",
       " 'new_indu_name_36': 0.14999184832874282,\n",
       " 'indu_name_14': 0.15900423522454063,\n",
       " 'tags_18': 0.15900423522454063,\n",
       " 'new_indu_name_other': 0.16829968654983607,\n",
       " 'new_his_app_size_other': 0.1692377082865228,\n",
       " 'residence_40': 0.17278142888328124,\n",
       " 'residence_23': 0.18021532562925124,\n",
       " 'new_up_life_duration_other': 0.1821372515169933,\n",
       " 'residence_43': 0.18265551139928754,\n",
       " 'dev_id_70': 0.18300509561368236,\n",
       " 'new_dev_id_70': 0.18300509561368236,\n",
       " 'slot_id_21': 0.1831478854185959,\n",
       " 'dev_id_56': 0.18906383454743322,\n",
       " 'communication_avgonline_30d_4': 0.19007273627839535,\n",
       " 'new_communication_avgonline_30d_4': 0.19007273627839535,\n",
       " 'duration_communication_onlinerate_19': 0.19212291372787224,\n",
       " 'indu_name_47': 0.20024782832321433,\n",
       " 'residence_11': 0.20175029849003626,\n",
       " 'new_residence_11': 0.20175029849003626,\n",
       " 'his_app_size_18': 0.20329709610366767,\n",
       " 'dev_id_30': 0.20729766605704658,\n",
       " 'new_dev_id_30': 0.20729766605704658,\n",
       " 'residence_17': 0.20912607463062802,\n",
       " 'up_life_duration_13': 0.21853480126874403,\n",
       " 'duration_communication_onlinerate_22': 0.2269556239711112,\n",
       " 'duration_communication_onlinerate_12': 0.23184103819517313,\n",
       " 'slot_id_22': 0.2330473612859161,\n",
       " 'dev_id_67': 0.2407205217428707,\n",
       " 'indu_name_51': 0.2407205217428707,\n",
       " 'his_app_size_15': 0.2407205217428707,\n",
       " 'list_time_16': 0.242184093179237,\n",
       " 'new_list_time_16': 0.242184093179237,\n",
       " 'up_life_duration_4': 0.25026882394137434,\n",
       " 'new_up_life_duration_4': 0.25026882394137434,\n",
       " 'new_list_time_other': 0.27490189344340266,\n",
       " 'dev_id_19': 0.29005590911195,\n",
       " 'up_life_duration_1': 0.2919613017961321,\n",
       " 'new_up_life_duration_1': 0.2919613017961321,\n",
       " 'tags_37': 0.3032585131120691,\n",
       " 'new_tags_37': 0.3032585131120691,\n",
       " 'duration_communication_onlinerate_11': 0.3201918035720547,\n",
       " 'indu_name_20': 0.3245748979558388,\n",
       " 'residence_27': 0.32972260621030736,\n",
       " 'up_life_duration_6': 0.33841446029869926,\n",
       " 'new_up_life_duration_6': 0.33841446029869926,\n",
       " 'indu_name_37': 0.33865029345132797,\n",
       " 'indu_name_16': 0.3437972736948134,\n",
       " 'creat_type_cd_5': 0.34751872719590404,\n",
       " 'indu_name_26': 0.35398039005672144,\n",
       " 'app_second_class_15': 0.3584889600704914,\n",
       " 'duration_communication_onlinerate_14': 0.3627088136320822,\n",
       " 'emui_dev_25': 0.3793604061312715,\n",
       " 'list_time_-2': 0.3816206423067695,\n",
       " 'device_price_7': 0.3816206423067695,\n",
       " 'dev_id_16': 0.3854897320413477,\n",
       " 'net_type_4': 0.38788740652694037,\n",
       " 'slot_id_18': 0.39130290428943487,\n",
       " 'duration_communication_onlinerate_6': 0.3991468863377073,\n",
       " 'his_app_size_9': 0.4251630606595861,\n",
       " 'communication_avgonline_30d_3': 0.4603382977877633,\n",
       " 'new_communication_avgonline_30d_3': 0.4603382977877633,\n",
       " 'dev_id_69': 0.4899394294854677,\n",
       " 'slot_id_12': 0.5006769366921193,\n",
       " 'new_slot_id_12': 0.5006769366921193,\n",
       " 'residence_16': 0.5174798671893958,\n",
       " 'tags_14': 0.5278508991370684,\n",
       " 'app_second_class_24': 0.5278508991370684,\n",
       " 'tags_15': 0.5713442630730601,\n",
       " 'his_app_size_17': 0.6003684155443594,\n",
       " 'up_life_duration_17': 0.6598827135670893,\n",
       " 'communication_avgonline_30d_6': 0.6754482977017797,\n",
       " 'dev_id_64': 0.732833468941923,\n",
       " 'emui_dev_18': 0.8547288495006568}"
      ]
     },
     "execution_count": 64,
     "metadata": {},
     "output_type": "execute_result"
    }
   ],
   "source": [
    "{k: v for k, v in sorted(d.items(), key=lambda item: item[1])}"
   ]
  }
 ],
 "metadata": {
  "kernelspec": {
   "display_name": "Python 3",
   "language": "python",
   "name": "python3"
  },
  "language_info": {
   "codemirror_mode": {
    "name": "ipython",
    "version": 3
   },
   "file_extension": ".py",
   "mimetype": "text/x-python",
   "name": "python",
   "nbconvert_exporter": "python",
   "pygments_lexer": "ipython3",
   "version": "3.6.9"
  }
 },
 "nbformat": 4,
 "nbformat_minor": 2
}
