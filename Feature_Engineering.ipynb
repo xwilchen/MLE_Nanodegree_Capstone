{
 "cells": [
  {
   "cell_type": "code",
   "execution_count": 1,
   "metadata": {},
   "outputs": [],
   "source": [
    "import os\n",
    "import numpy as np\n",
    "import pandas as pd\n",
    "\n",
    "from sklearn.preprocessing import OneHotEncoder"
   ]
  },
  {
   "cell_type": "markdown",
   "metadata": {},
   "source": [
    "# Feature Engineering\n",
    "This script consist two parts.\n",
    "1. Refer to the findings from EDA and make transformation accordingly\n",
    "2. Clustering users, ads, apps, and device and see if there is any new features that makes sense."
   ]
  },
  {
   "cell_type": "markdown",
   "metadata": {},
   "source": [
    "# Load Data"
   ]
  },
  {
   "cell_type": "code",
   "execution_count": 2,
   "metadata": {},
   "outputs": [],
   "source": [
    "data_dir = \"./data/sampled_data.csv/\"\n",
    "\n",
    "df = pd.DataFrame()\n",
    "for file in os.listdir(data_dir):    \n",
    "    if file[-3] and \".csv\" in file:\n",
    "        df = pd.concat((df,pd.read_csv(os.path.join(data_dir,file))),axis=0)"
   ]
  },
  {
   "cell_type": "markdown",
   "metadata": {},
   "source": [
    "## Transform Data"
   ]
  },
  {
   "cell_type": "code",
   "execution_count": 3,
   "metadata": {},
   "outputs": [],
   "source": [
    "user_features = [\"age\",\n",
    "                 \"city_rank\",\n",
    "                 \"residence\",\n",
    "                 \"gender\",\n",
    "                 \"up_life_duration\",\n",
    "                 \"duration_communication_onlinerate\",\n",
    "                 \"communication_avgonline_30d\"\n",
    "                ]\n",
    "ads_features = [\"creat_type_cd\",\n",
    "                \"dev_id\",\n",
    "                \"slot_id\",\n",
    "                \"indu_name\"]\n",
    "app_features = [\"tags\",\n",
    "                \"app_first_class\",\n",
    "                \"app_second_class\",\n",
    "                \"his_app_size\",\n",
    "                \"his_on_shelf_time\",\n",
    "                \"app_score\"]\n",
    "device_features = [\"emui_dev\",\n",
    "                   \"list_time\",\n",
    "                   \"device_price\"]\n",
    "event_features = [\"net_type\"]"
   ]
  },
  {
   "cell_type": "code",
   "execution_count": 4,
   "metadata": {},
   "outputs": [],
   "source": [
    "value_transform_map = {\n",
    "    \"age\":{-1:\"high_ctr\",5:\"low_ctr\",7:\"\"}[-1,5,7],\n",
    "    \"city_rank\":[2],\n",
    "    \"residence\":[11,22],\n",
    "    \"gender\":[3],\n",
    "    \"up_life_duration\":[-1,1,2,3,4,5,6,7,8,9,10,20],\n",
    "    \"communication_avgonline_30d\":[-1,1,2,3,4],\n",
    "    \"duration_communication_onlinerate\":[0,1,2,3,4,5,16],\n",
    "    \"creat_type_cd\":[3,4,7],\n",
    "    \"dev_id\":[17,29,30,34,60,70],\n",
    "    \"inter_type_cd\":[3],\n",
    "    \"slot_id\":[12,14,15,19],\n",
    "    \"indu_name\":[17,27,36,41,49],\n",
    "    \"tags\":[11,12,13,23,33,37,39,40],\n",
    "    \"app_first_class\":[4],\n",
    "    \"app_second_class\":[17,21,23,25],\n",
    "    \"his_app_size\":[-1,2,4,5,6,16],\n",
    "    \"his_on_shelf_time\":[2,3],\n",
    "    \"app_score\":[1,2],\n",
    "    \"emui_dev\":[12,13,14,20],\n",
    "    \"list_time\":[-1,2,4,5,6,7,8,9,10,12,13,14,15,16],\n",
    "    \"device_price\":[-1,1,3,4,5,6],\n",
    "    \"net_type\":[6]\n",
    "}"
   ]
  },
  {
   "cell_type": "code",
   "execution_count": 5,
   "metadata": {},
   "outputs": [],
   "source": [
    "df[\"start_communication_onlinerate\"] = df[\"communication_onlinerate\"].str.split(\"^\",expand=True)[0]\n",
    "df[\"last_communication_onlinerate\"] = df[\"communication_onlinerate\"].str.split(\"^\").str[-1].replace(0,24)\n",
    "df[\"duration_communication_onlinerate\"] = df[\"last_communication_onlinerate\"].astype(int)\\\n",
    "                                        - df[\"start_communication_onlinerate\"].astype(int)"
   ]
  },
  {
   "cell_type": "code",
   "execution_count": 6,
   "metadata": {},
   "outputs": [],
   "source": [
    "enc = OneHotEncoder(handle_unknown='ignore')"
   ]
  },
  {
   "cell_type": "code",
   "execution_count": 7,
   "metadata": {},
   "outputs": [],
   "source": [
    "transformed_df = df.copy()\n",
    "transformed_df = transformed_df[list(value_transform_map.keys())]"
   ]
  },
  {
   "cell_type": "code",
   "execution_count": 8,
   "metadata": {},
   "outputs": [],
   "source": [
    "for col in value_transform_map:\n",
    "    transformed_df[col] = np.where(transformed_df[col].isin(value_transform_map[col]),transformed_df[col],\"other\")"
   ]
  }
 ],
 "metadata": {
  "kernelspec": {
   "display_name": "Python 3",
   "language": "python",
   "name": "python3"
  },
  "language_info": {
   "codemirror_mode": {
    "name": "ipython",
    "version": 3
   },
   "file_extension": ".py",
   "mimetype": "text/x-python",
   "name": "python",
   "nbconvert_exporter": "python",
   "pygments_lexer": "ipython3",
   "version": "3.6.9"
  }
 },
 "nbformat": 4,
 "nbformat_minor": 2
}
