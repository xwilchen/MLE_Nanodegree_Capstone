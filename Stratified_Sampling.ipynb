{
 "cells": [
  {
   "cell_type": "code",
   "execution_count": 2,
   "metadata": {},
   "outputs": [],
   "source": [
    "import numpy as np\n",
    "import pandas as pd\n",
    "import os\n",
    "import matplotlib.pyplot as plt\n",
    "import seaborn as sns\n",
    "from EDA import EDA"
   ]
  },
  {
   "cell_type": "markdown",
   "metadata": {},
   "source": [
    "## Stratified Sampling, don't run this is AWS"
   ]
  },
  {
   "cell_type": "code",
   "execution_count": 5,
   "metadata": {},
   "outputs": [],
   "source": [
    "from pyspark.sql import SparkSession\n",
    "from pyspark.sql import functions as F\n",
    "spark = SparkSession \\\n",
    "    .builder \\\n",
    "    .appName(\"process_data\") \\\n",
    "    .getOrCreate()\n",
    "\n",
    "data_dir = \"../MLE_Project_Data\"\n",
    "data_file_name = \"train_data.csv\"\n",
    "data_path = os.path.join(data_dir,data_file_name)\n",
    "\n",
    "raw_df = spark.read.load(data_path,format=\"csv\",delimiter=\"|\",header=True)\n",
    "\n",
    "# sample only 120,000 ish data for \n",
    "sampled_df = raw_df.stat.sampleBy(\"label\",\n",
    "                     {\"0\":0.01,\"1\":0.01},\n",
    "                     seed=100)\n",
    "\n",
    "# save data, don't\n",
    "sample_file_name = \"sampled_data.csv\"\n",
    "ouptput_dir = \"./data\"\n",
    "sampled_df.write.format('csv').option('header',True)\\\n",
    ".mode('overwrite').option('sep',',')\\\n",
    ".save(os.path.join(ouptput_dir,sample_file_name))"
   ]
  },
  {
   "cell_type": "code",
   "execution_count": null,
   "metadata": {},
   "outputs": [],
   "source": []
  }
 ],
 "metadata": {
  "kernelspec": {
   "display_name": "Python 3",
   "language": "python",
   "name": "python3"
  },
  "language_info": {
   "codemirror_mode": {
    "name": "ipython",
    "version": 3
   },
   "file_extension": ".py",
   "mimetype": "text/x-python",
   "name": "python",
   "nbconvert_exporter": "python",
   "pygments_lexer": "ipython3",
   "version": "3.6.9"
  }
 },
 "nbformat": 4,
 "nbformat_minor": 2
}
